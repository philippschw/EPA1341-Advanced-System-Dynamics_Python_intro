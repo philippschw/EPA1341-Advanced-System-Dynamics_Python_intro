{
 "cells": [
  {
   "cell_type": "code",
   "execution_count": 1,
   "metadata": {
    "collapsed": true
   },
   "outputs": [],
   "source": [
    "%matplotlib inline\n",
    "from __future__ import division\n",
    "import pandas as pd"
   ]
  },
  {
   "cell_type": "code",
   "execution_count": 2,
   "metadata": {
    "collapsed": false
   },
   "outputs": [],
   "source": [
    "def digit_precision(value, precision=10):\n",
    "    print (\"%.{}f\".format(precision-len(str(int(value)))) % value)"
   ]
  },
  {
   "cell_type": "code",
   "execution_count": 3,
   "metadata": {
    "collapsed": false
   },
   "outputs": [
    {
     "name": "stdout",
     "output_type": "stream",
     "text": [
      "Month of the year:  ['01', '02', '03', '04', '05', '06', '07', '08', '09', '10', '11', '12']\n",
      "Completed Download 01\n",
      "Completed Download 02\n",
      "Completed Download 03\n",
      "Completed Download 04\n",
      "Completed Download 05\n",
      "Completed Download 06\n",
      "Completed Download 07\n",
      "Completed Download 08\n",
      "Completed Download 09\n",
      "Completed Download 10\n",
      "Completed Download 11\n",
      "Completed Download 12\n",
      "Successfully removed zip files\n"
     ]
    }
   ],
   "source": [
    "import requests\n",
    "import os\n",
    "\n",
    "month = [\"%.2d\" % i for i in range(1, 13)]\n",
    "print (\"Month of the year: \", month)\n",
    "\n",
    "lst_df = []\n",
    "for m in month: \n",
    "    url = 'https://s3.amazonaws.com/tripdata/2015{}-citibike-tripdata.zip'.format(m)\n",
    "    r = requests.get(url)\n",
    "    with open(\"citibike2015{}.zip\".format(m), \"wb\") as code:\n",
    "        code.write(r.content)\n",
    "    print(\"Completed Download {}\".format(m))\n",
    "    lst_df.append(pd.read_csv(\"citibike2015{}.zip\".format(m), compression = 'zip')) \n",
    "df = pd.concat(lst_df, axis=0, keys=range(1, 13))\n",
    "df.to_csv(r'citibike2015All.csv')\n",
    "\n",
    "filelist = [ f for f in os.listdir(\".\") if f.endswith(\".zip\") ]\n",
    "for f in filelist:\n",
    "    os.remove(f)\n",
    "    \n",
    "print(\"Successfully removed zip files\")\n"
   ]
  },
  {
   "cell_type": "code",
   "execution_count": 4,
   "metadata": {
    "collapsed": false
   },
   "outputs": [
    {
     "ename": "NameError",
     "evalue": "name 'sd' is not defined",
     "output_type": "error",
     "traceback": [
      "\u001b[0;31m---------------------------------------------------------------------------\u001b[0m",
      "\u001b[0;31mNameError\u001b[0m                                 Traceback (most recent call last)",
      "\u001b[0;32m<ipython-input-4-2290babda371>\u001b[0m in \u001b[0;36m<module>\u001b[0;34m()\u001b[0m\n\u001b[0;32m----> 1\u001b[0;31m \u001b[0msd\u001b[0m\u001b[1;33m\u001b[0m\u001b[0m\n\u001b[0m",
      "\u001b[0;31mNameError\u001b[0m: name 'sd' is not defined"
     ]
    }
   ],
   "source": [
    "sd"
   ]
  },
  {
   "cell_type": "code",
   "execution_count": null,
   "metadata": {
    "collapsed": false
   },
   "outputs": [],
   "source": [
    "# ## !! For Subquestions 1-4 timestamps are not required, \n",
    "# # Therefore dataframe can be loaded faster from csv and parse_dates be ommited !!!\n",
    "\n",
    "# df = pd.read_csv(r'citibike2015All.csv', index_col=[0, 1], error_bad_lines=False)\n",
    "# #, parse_dates=[3, 4])\n",
    "# df.index.names = [None, None]"
   ]
  },
  {
   "cell_type": "code",
   "execution_count": null,
   "metadata": {
    "collapsed": false
   },
   "outputs": [],
   "source": [
    "df.head()"
   ]
  },
  {
   "cell_type": "markdown",
   "metadata": {},
   "source": [
    "#### 1. What is the median trip duration, in seconds? "
   ]
  },
  {
   "cell_type": "code",
   "execution_count": null,
   "metadata": {
    "collapsed": false,
    "scrolled": true
   },
   "outputs": [],
   "source": [
    "digit_precision(df.tripduration.median())"
   ]
  },
  {
   "cell_type": "markdown",
   "metadata": {},
   "source": [
    "#### 2. What fraction of rides start and end at the same station? "
   ]
  },
  {
   "cell_type": "code",
   "execution_count": null,
   "metadata": {
    "collapsed": false
   },
   "outputs": [],
   "source": [
    "digit_precision(len(df[df['start station id'] == df['end station id']])/len(df))"
   ]
  },
  {
   "cell_type": "markdown",
   "metadata": {},
   "source": [
    "#### 3. We say a bike has visited a station if it has a ride that either started or ended at that station. Some bikes have visited many stations; others just a few. What is the standard deviation of the number of stations visited by a bike? "
   ]
  },
  {
   "cell_type": "code",
   "execution_count": null,
   "metadata": {
    "collapsed": true
   },
   "outputs": [],
   "source": [
    "grouped = df.groupby('bikeid')"
   ]
  },
  {
   "cell_type": "code",
   "execution_count": null,
   "metadata": {
    "collapsed": false
   },
   "outputs": [],
   "source": [
    "bikeid_df  = pd.DataFrame()\n",
    "bikeid_df['start'] =  grouped['start station id'].unique()\n",
    "bikeid_df['end'] =  grouped['end station id'].unique()"
   ]
  },
  {
   "cell_type": "code",
   "execution_count": null,
   "metadata": {
    "collapsed": false
   },
   "outputs": [],
   "source": [
    "bikeid_df.head()"
   ]
  },
  {
   "cell_type": "code",
   "execution_count": null,
   "metadata": {
    "collapsed": false
   },
   "outputs": [],
   "source": [
    "# Join the two sets (do not count stations double)\n",
    "bikeid_df['union'] = bikeid_df.apply(lambda x: set(x['start']) | set(x['end']), axis=1)"
   ]
  },
  {
   "cell_type": "code",
   "execution_count": null,
   "metadata": {
    "collapsed": false
   },
   "outputs": [],
   "source": [
    "bikeid_df.head()"
   ]
  },
  {
   "cell_type": "code",
   "execution_count": null,
   "metadata": {
    "collapsed": false
   },
   "outputs": [],
   "source": [
    "# Count number of elements in set\n",
    "bikeid_df['stations_visited'] = bikeid_df['union'].apply(lambda x: len(x))"
   ]
  },
  {
   "cell_type": "code",
   "execution_count": null,
   "metadata": {
    "collapsed": false
   },
   "outputs": [],
   "source": [
    "bikeid_df.head(3)"
   ]
  },
  {
   "cell_type": "code",
   "execution_count": null,
   "metadata": {
    "collapsed": false
   },
   "outputs": [],
   "source": [
    "# Use pd describe to show standard deviation!!\n",
    "print (digit_precision(bikeid_df['stations_visited'].std()))\n",
    "bikeid_df['stations_visited'].hist();"
   ]
  },
  {
   "cell_type": "code",
   "execution_count": null,
   "metadata": {
    "collapsed": true
   },
   "outputs": [],
   "source": [
    "# Delete df to free up memory\n",
    "del bikeid_df"
   ]
  },
  {
   "cell_type": "markdown",
   "metadata": {},
   "source": [
    "#### 4. What is the average length, in kilometers, of a trip? Assume trips follow great circle arcs from the start station to the end station. Ignore trips that start and end at the same station, as well as those with obviously wrong data. "
   ]
  },
  {
   "cell_type": "code",
   "execution_count": null,
   "metadata": {
    "collapsed": false
   },
   "outputs": [],
   "source": [
    "# Use geopy distance to calculate great_circle (return km)\n",
    "from geopy.distance import great_circle\n",
    "df['start_location'] = list(zip(df['start station latitude'],df['start station longitude']))\n",
    "df['end_location'] = list(zip(df['end station latitude'],df['end station longitude']))"
   ]
  },
  {
   "cell_type": "code",
   "execution_count": null,
   "metadata": {
    "collapsed": false
   },
   "outputs": [],
   "source": [
    "x = df.iloc[0]\n",
    "print (x['start_location'], x['end_location'])"
   ]
  },
  {
   "cell_type": "code",
   "execution_count": null,
   "metadata": {
    "collapsed": false
   },
   "outputs": [],
   "source": [
    "x"
   ]
  },
  {
   "cell_type": "code",
   "execution_count": null,
   "metadata": {
    "collapsed": true
   },
   "outputs": [],
   "source": [
    "df['trip_length'] = df.apply(lambda x: great_circle(x['start_location'], x['end_location']).km, axis=1)"
   ]
  },
  {
   "cell_type": "markdown",
   "metadata": {},
   "source": [
    "Questions explicitly asks to check for obviously wrong data, "
   ]
  },
  {
   "cell_type": "code",
   "execution_count": null,
   "metadata": {
    "collapsed": false
   },
   "outputs": [],
   "source": [
    "print ('Example for wrong birth date give', df.ix[df['birth year'].idxmin()])\n",
    "print ('Number of missing birth years ', len(df[df['birth year'].isnull()]))"
   ]
  },
  {
   "cell_type": "markdown",
   "metadata": {},
   "source": [
    "- Many users have provided no or wrong data about their birth year\n",
    "- Nevertheless, with respect to the average lenght of the trip this was assumed to be irrelevant"
   ]
  },
  {
   "cell_type": "code",
   "execution_count": null,
   "metadata": {
    "collapsed": true
   },
   "outputs": [],
   "source": [
    "# Compute average speed in km/h (convert seconds to hours division by 3600)\n",
    "df['avg_speed_km/h'] = df['trip_length'] / (df['tripduration'] / 3600)"
   ]
  },
  {
   "cell_type": "code",
   "execution_count": null,
   "metadata": {
    "collapsed": false
   },
   "outputs": [],
   "source": [
    "# Show row with highest average speed, that is an obviously wrong data point\n",
    "df.ix[df['avg_speed_km/h'].idxmax()]"
   ]
  },
  {
   "cell_type": "code",
   "execution_count": null,
   "metadata": {
    "collapsed": false
   },
   "outputs": [],
   "source": [
    "# Asssume that the maximal average speed per trip is 30 km/h, Show how many data points are removed\n",
    "len(df[df['avg_speed_km/h']>=30])"
   ]
  },
  {
   "cell_type": "code",
   "execution_count": null,
   "metadata": {
    "collapsed": false
   },
   "outputs": [],
   "source": [
    "len(df[df['avg_speed_km/h']==0])"
   ]
  },
  {
   "cell_type": "code",
   "execution_count": null,
   "metadata": {
    "collapsed": false
   },
   "outputs": [],
   "source": [
    "# Remove trips where either the trip starts and ends at the same station and where the average speed for the trip was > 30km/h\n",
    "cleaned_df = df[~(df['avg_speed_km/h']==0) | (df['avg_speed_km/h']>=30)]"
   ]
  },
  {
   "cell_type": "code",
   "execution_count": null,
   "metadata": {
    "collapsed": false
   },
   "outputs": [],
   "source": [
    "# Show end result, average lenght in kilometers\n",
    "print cleaned_df['trip_length'].mean()\n",
    "df['trip_length'].hist();"
   ]
  },
  {
   "cell_type": "markdown",
   "metadata": {},
   "source": [
    "-------------------------------------------------------------------------------------------------------------------------------"
   ]
  }
 ],
 "metadata": {
  "anaconda-cloud": {},
  "kernelspec": {
   "display_name": "Python 3",
   "language": "python",
   "name": "python3"
  },
  "language_info": {
   "codemirror_mode": {
    "name": "ipython",
    "version": 3
   },
   "file_extension": ".py",
   "mimetype": "text/x-python",
   "name": "python",
   "nbconvert_exporter": "python",
   "pygments_lexer": "ipython3",
   "version": "3.6.0"
  }
 },
 "nbformat": 4,
 "nbformat_minor": 0
}
