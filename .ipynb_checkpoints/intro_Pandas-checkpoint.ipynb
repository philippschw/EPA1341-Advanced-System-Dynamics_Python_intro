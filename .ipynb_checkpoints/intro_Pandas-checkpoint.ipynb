{
 "cells": [
  {
   "cell_type": "markdown",
   "metadata": {},
   "source": [
    "# Introduction to Scientific Computing with PANDAS\n",
    "\n",
    "## EPA1341 Advanced System Dynamics\n",
    "\n",
    "### Philipp Schwarz, Feb 2017"
   ]
  },
  {
   "cell_type": "code",
   "execution_count": 1,
   "metadata": {
    "collapsed": false,
    "scrolled": true
   },
   "outputs": [],
   "source": [
    "%matplotlib inline\n",
    "import numpy as np\n",
    "import pandas as pd\n",
    "import matplotlib.pyplot as plt\n",
    "\n",
    "import random\n",
    "\n",
    "# Optional, use a nice style of graphs\n",
    "plt.style.use('ggplot')"
   ]
  },
  {
   "cell_type": "markdown",
   "metadata": {},
   "source": [
    "Resources: https://www.udacity.com/course/intro-to-data-analysis--ud170"
   ]
  },
  {
   "cell_type": "markdown",
   "metadata": {},
   "source": [
    "## Pandas (Ch 5)\n",
    "\n",
    "Build on top of NumPy. It provides high-level data structures and manipulation tools \n",
    "for data analysis. \n",
    "\n",
    "  * Labeled axes\n",
    "  * Arithmetic operations and reductions\n",
    "  * Flexible handling of missing data\n",
    "  * Time Series\n",
    "\n",
    "The main datastructures are: **Series** and **DataFrame**\n",
    "\n",
    "\n",
    "\n",
    "### Documentation\n",
    "  * http://pandas.pydata.org/\n",
    "  * http://pandas.pydata.org/pandas-docs/stable/10min.html\n",
    "  \n",
    "  * Google\n"
   ]
  },
  {
   "cell_type": "code",
   "execution_count": 2,
   "metadata": {
    "collapsed": false,
    "scrolled": true
   },
   "outputs": [],
   "source": [
    "%matplotlib inline\n",
    "import numpy as np\n",
    "import pandas as pd\n",
    "import matplotlib.pyplot as plt\n",
    "\n",
    "import random\n",
    "\n",
    "# Optional, use a nice style of graphs\n",
    "plt.style.use('ggplot')"
   ]
  },
  {
   "cell_type": "markdown",
   "metadata": {},
   "source": [
    "## Series\n",
    "\n",
    "A one-dimensional array-like object and an index.\n",
    "\n",
    "s = Series( [1, 2, 3, 4], index=['A', 'B', 'C', 'D'])\n"
   ]
  },
  {
   "cell_type": "markdown",
   "metadata": {},
   "source": [
    "#### Creating a Series"
   ]
  },
  {
   "cell_type": "code",
   "execution_count": 3,
   "metadata": {
    "collapsed": false
   },
   "outputs": [
    {
     "data": {
      "text/plain": [
       "A    1\n",
       "B    2\n",
       "C    3\n",
       "D    4\n",
       "dtype: int64"
      ]
     },
     "execution_count": 3,
     "metadata": {},
     "output_type": "execute_result"
    }
   ],
   "source": [
    "# With a list. Explicitly providing the index\n",
    "s = pd.Series( [1, 2, 3, 4], index=['1', '2', '3', '4'])\n",
    "s"
   ]
  },
  {
   "cell_type": "code",
   "execution_count": 4,
   "metadata": {
    "collapsed": false
   },
   "outputs": [
    {
     "data": {
      "text/plain": [
       "0    0.763012\n",
       "1   -0.549778\n",
       "2   -1.929291\n",
       "3   -0.306179\n",
       "4    0.672169\n",
       "dtype: float64"
      ]
     },
     "execution_count": 4,
     "metadata": {},
     "output_type": "execute_result"
    }
   ],
   "source": [
    "# With a numpy array.\n",
    "s = pd.Series( np.random.randn(5) )\n",
    "s"
   ]
  },
  {
   "cell_type": "code",
   "execution_count": 5,
   "metadata": {
    "collapsed": false
   },
   "outputs": [
    {
     "data": {
      "text/plain": [
       "Amsterdam    1000\n",
       "Rotterdam    4000\n",
       "The Hague    3000\n",
       "Utrecht      2000\n",
       "dtype: int64"
      ]
     },
     "execution_count": 5,
     "metadata": {},
     "output_type": "execute_result"
    }
   ],
   "source": [
    "# With a dict\n",
    "cities = { 'Amsterdam' : 1000, 'Utrecht' : 2000, 'The Hague' : 3000, 'Rotterdam' : 4000}\n",
    "s = pd.Series( cities )\n",
    "s"
   ]
  },
  {
   "cell_type": "code",
   "execution_count": 6,
   "metadata": {
    "collapsed": false,
    "scrolled": true
   },
   "outputs": [
    {
     "data": {
      "text/plain": [
       "Cities\n",
       "Amsterdam    1000\n",
       "Rotterdam    4000\n",
       "The Hague    3000\n",
       "Utrecht      2000\n",
       "Name: Code, dtype: int64"
      ]
     },
     "execution_count": 6,
     "metadata": {},
     "output_type": "execute_result"
    }
   ],
   "source": [
    "# Name the index and the series\n",
    "s.name = 'Code'\n",
    "s.index.name = 'Cities'\n",
    "s"
   ]
  },
  {
   "cell_type": "markdown",
   "metadata": {},
   "source": [
    "### Accessing Series"
   ]
  },
  {
   "cell_type": "code",
   "execution_count": 7,
   "metadata": {
    "collapsed": false
   },
   "outputs": [
    {
     "data": {
      "text/plain": [
       "Index(['Amsterdam', 'Rotterdam', 'The Hague', 'Utrecht'], dtype='object', name='Cities')"
      ]
     },
     "execution_count": 7,
     "metadata": {},
     "output_type": "execute_result"
    }
   ],
   "source": [
    "# Accessing the index\n",
    "s.index"
   ]
  },
  {
   "cell_type": "code",
   "execution_count": 8,
   "metadata": {
    "collapsed": false
   },
   "outputs": [
    {
     "data": {
      "text/plain": [
       "array([1000, 4000, 3000, 2000], dtype=int64)"
      ]
     },
     "execution_count": 8,
     "metadata": {},
     "output_type": "execute_result"
    }
   ],
   "source": [
    "# Accessing the values\n",
    "s.values"
   ]
  },
  {
   "cell_type": "code",
   "execution_count": 9,
   "metadata": {
    "collapsed": false
   },
   "outputs": [
    {
     "data": {
      "text/plain": [
       "4000"
      ]
     },
     "execution_count": 9,
     "metadata": {},
     "output_type": "execute_result"
    }
   ],
   "source": [
    "# indexing on position. Result is a value.\n",
    "s[1]"
   ]
  },
  {
   "cell_type": "code",
   "execution_count": 10,
   "metadata": {
    "collapsed": false
   },
   "outputs": [
    {
     "data": {
      "text/plain": [
       "Cities\n",
       "Rotterdam    4000\n",
       "The Hague    3000\n",
       "Name: Code, dtype: int64"
      ]
     },
     "execution_count": 10,
     "metadata": {},
     "output_type": "execute_result"
    }
   ],
   "source": [
    "# slicing on position. Result is another Series\n",
    "s[1:3]"
   ]
  },
  {
   "cell_type": "code",
   "execution_count": 11,
   "metadata": {
    "collapsed": false
   },
   "outputs": [
    {
     "data": {
      "text/plain": [
       "4000"
      ]
     },
     "execution_count": 11,
     "metadata": {},
     "output_type": "execute_result"
    }
   ],
   "source": [
    "# indexing on label (index)\n",
    "s['Rotterdam']"
   ]
  },
  {
   "cell_type": "code",
   "execution_count": 12,
   "metadata": {
    "collapsed": false
   },
   "outputs": [
    {
     "data": {
      "text/plain": [
       "Cities\n",
       "Amsterdam    1000\n",
       "Rotterdam    4000\n",
       "Name: Code, dtype: int64"
      ]
     },
     "execution_count": 12,
     "metadata": {},
     "output_type": "execute_result"
    }
   ],
   "source": [
    "# Slicing on label\n",
    "# Note, when slicing on label the slice is INCLUDING the end.\n",
    "s[:'Rotterdam']"
   ]
  },
  {
   "cell_type": "code",
   "execution_count": 13,
   "metadata": {
    "collapsed": false
   },
   "outputs": [
    {
     "data": {
      "text/plain": [
       "Cities\n",
       "Utrecht      2000\n",
       "Amsterdam    1000\n",
       "Name: Code, dtype: int64"
      ]
     },
     "execution_count": 13,
     "metadata": {},
     "output_type": "execute_result"
    }
   ],
   "source": [
    "# Fancy indexing\n",
    "s[ ['Utrecht', 'Amsterdam'] ]"
   ]
  },
  {
   "cell_type": "code",
   "execution_count": 14,
   "metadata": {
    "collapsed": false,
    "scrolled": true
   },
   "outputs": [
    {
     "data": {
      "text/plain": [
       "Cities\n",
       "Amsterdam     True\n",
       "Rotterdam    False\n",
       "The Hague     True\n",
       "Utrecht      False\n",
       "Name: Code, dtype: bool"
      ]
     },
     "execution_count": 14,
     "metadata": {},
     "output_type": "execute_result"
    }
   ],
   "source": [
    "# Check for values\n",
    "s.isin([1000, 1500, 2500, 3000, 'Monkey'])"
   ]
  },
  {
   "cell_type": "code",
   "execution_count": 15,
   "metadata": {
    "collapsed": false
   },
   "outputs": [
    {
     "data": {
      "text/plain": [
       "(True, False)"
      ]
     },
     "execution_count": 15,
     "metadata": {},
     "output_type": "execute_result"
    }
   ],
   "source": [
    "# Check for index \n",
    "'Utrecht' in s, 'Maastricht' in s"
   ]
  },
  {
   "cell_type": "markdown",
   "metadata": {},
   "source": [
    "### Filtering and Functions"
   ]
  },
  {
   "cell_type": "code",
   "execution_count": 16,
   "metadata": {
    "collapsed": false
   },
   "outputs": [
    {
     "data": {
      "text/plain": [
       "Cities\n",
       "Rotterdam    4000\n",
       "The Hague    3000\n",
       "Name: Code, dtype: int64"
      ]
     },
     "execution_count": 16,
     "metadata": {},
     "output_type": "execute_result"
    }
   ],
   "source": [
    "# Filtering and NumPy universal functions work as aspected\n",
    "s[ s >= 2500 ]"
   ]
  },
  {
   "cell_type": "code",
   "execution_count": 17,
   "metadata": {
    "collapsed": false
   },
   "outputs": [
    {
     "data": {
      "text/plain": [
       "Cities\n",
       "Amsterdam     2500.0\n",
       "Rotterdam    10000.0\n",
       "The Hague     7500.0\n",
       "Utrecht       5000.0\n",
       "Name: Code, dtype: float64"
      ]
     },
     "execution_count": 17,
     "metadata": {},
     "output_type": "execute_result"
    }
   ],
   "source": [
    "s * 2.5"
   ]
  },
  {
   "cell_type": "code",
   "execution_count": 18,
   "metadata": {
    "collapsed": false
   },
   "outputs": [
    {
     "data": {
      "text/plain": [
       "Cities\n",
       "Amsterdam    6.907755\n",
       "Rotterdam    8.294050\n",
       "The Hague    8.006368\n",
       "Utrecht      7.600902\n",
       "Name: Code, dtype: float64"
      ]
     },
     "execution_count": 18,
     "metadata": {},
     "output_type": "execute_result"
    }
   ],
   "source": [
    "np.log( s )"
   ]
  },
  {
   "cell_type": "markdown",
   "metadata": {},
   "source": [
    "### NaN values\n",
    "\n",
    "NaN values (Not a Number) represent missing values or NA values in the Pandas library.  \n"
   ]
  },
  {
   "cell_type": "code",
   "execution_count": 19,
   "metadata": {
    "collapsed": false
   },
   "outputs": [
    {
     "data": {
      "text/plain": [
       "Maastricht    1500.0\n",
       "Groningen      500.0\n",
       "Assen            NaN\n",
       "Haarlem         10.0\n",
       "dtype: float64"
      ]
     },
     "execution_count": 19,
     "metadata": {},
     "output_type": "execute_result"
    }
   ],
   "source": [
    "s2 = pd.Series( [ 1500, 500, np.nan, 10], index=['Maastricht', 'Groningen', 'Assen', 'Haarlem'])\n",
    "s2"
   ]
  },
  {
   "cell_type": "code",
   "execution_count": 20,
   "metadata": {
    "collapsed": false,
    "scrolled": true
   },
   "outputs": [
    {
     "data": {
      "text/plain": [
       "Assen   NaN\n",
       "dtype: float64"
      ]
     },
     "execution_count": 20,
     "metadata": {},
     "output_type": "execute_result"
    }
   ],
   "source": [
    "# Check for NaN values \n",
    "#pd.isnull(s2) \n",
    "\n",
    "s2[s2.isnull() ]   # As an object method also works\n",
    "\n",
    "#pd.notnull(s2)"
   ]
  },
  {
   "cell_type": "markdown",
   "metadata": {},
   "source": [
    "### Assignment"
   ]
  },
  {
   "cell_type": "code",
   "execution_count": 21,
   "metadata": {
    "collapsed": false
   },
   "outputs": [
    {
     "data": {
      "text/plain": [
       "Maastricht    1500.0\n",
       "Groningen      500.0\n",
       "Assen            NaN\n",
       "Haarlem       3500.0\n",
       "dtype: float64"
      ]
     },
     "execution_count": 21,
     "metadata": {},
     "output_type": "execute_result"
    }
   ],
   "source": [
    "# Change a value\n",
    "s2['Haarlem'] = 3500\n",
    "s2"
   ]
  },
  {
   "cell_type": "code",
   "execution_count": 22,
   "metadata": {
    "collapsed": false
   },
   "outputs": [
    {
     "data": {
      "text/plain": [
       "Maastricht    1500.0\n",
       "Groningen      500.0\n",
       "Assen            NaN\n",
       "Haarlem       3500.0\n",
       "Utrecht        222.0\n",
       "Amsterdam      333.0\n",
       "Rotterdam      444.0\n",
       "dtype: float64"
      ]
     },
     "execution_count": 22,
     "metadata": {},
     "output_type": "execute_result"
    }
   ],
   "source": [
    "# Add a new value\n",
    "s2['Utrecht'] = 222\n",
    "s2['Amsterdam'] = 333\n",
    "s2['Rotterdam'] = 444\n",
    "s2"
   ]
  },
  {
   "cell_type": "code",
   "execution_count": 23,
   "metadata": {
    "collapsed": false
   },
   "outputs": [
    {
     "data": {
      "text/plain": [
       "Amsterdam     1333.0\n",
       "Assen            NaN\n",
       "Groningen        NaN\n",
       "Haarlem          NaN\n",
       "Maastricht       NaN\n",
       "Rotterdam     4444.0\n",
       "The Hague        NaN\n",
       "Utrecht       2222.0\n",
       "dtype: float64"
      ]
     },
     "execution_count": 23,
     "metadata": {},
     "output_type": "execute_result"
    }
   ],
   "source": [
    "# Addition is done based on index. NaN if no matching index found.\n",
    "s + s2"
   ]
  },
  {
   "cell_type": "markdown",
   "metadata": {},
   "source": [
    "## DataFrame\n",
    "\n",
    "A DataFrame is a table/spreadsheet with rows and columns that can contain different types of data."
   ]
  },
  {
   "cell_type": "markdown",
   "metadata": {},
   "source": [
    "### Creation"
   ]
  },
  {
   "cell_type": "code",
   "execution_count": 24,
   "metadata": {
    "collapsed": false
   },
   "outputs": [
    {
     "data": {
      "text/html": [
       "<div>\n",
       "<table border=\"1\" class=\"dataframe\">\n",
       "  <thead>\n",
       "    <tr style=\"text-align: right;\">\n",
       "      <th></th>\n",
       "      <th>A</th>\n",
       "      <th>B</th>\n",
       "      <th>C</th>\n",
       "      <th>D</th>\n",
       "    </tr>\n",
       "  </thead>\n",
       "  <tbody>\n",
       "    <tr>\n",
       "      <th>first</th>\n",
       "      <td>0.114547</td>\n",
       "      <td>0.325029</td>\n",
       "      <td>0.214322</td>\n",
       "      <td>0.735341</td>\n",
       "    </tr>\n",
       "    <tr>\n",
       "      <th>second</th>\n",
       "      <td>0.535264</td>\n",
       "      <td>0.750598</td>\n",
       "      <td>0.088611</td>\n",
       "      <td>0.485285</td>\n",
       "    </tr>\n",
       "    <tr>\n",
       "      <th>third</th>\n",
       "      <td>0.531797</td>\n",
       "      <td>0.951231</td>\n",
       "      <td>0.129079</td>\n",
       "      <td>0.726855</td>\n",
       "    </tr>\n",
       "  </tbody>\n",
       "</table>\n",
       "</div>"
      ],
      "text/plain": [
       "               A         B         C         D\n",
       "first   0.114547  0.325029  0.214322  0.735341\n",
       "second  0.535264  0.750598  0.088611  0.485285\n",
       "third   0.531797  0.951231  0.129079  0.726855"
      ]
     },
     "execution_count": 24,
     "metadata": {},
     "output_type": "execute_result"
    }
   ],
   "source": [
    "# Using a matrix\n",
    "df = pd.DataFrame( np.random.random( size=(3,4) ), \n",
    "                      columns=list(\"ABCD\"), \n",
    "                      index=['first', 'second','third'] )\n",
    "df"
   ]
  },
  {
   "cell_type": "code",
   "execution_count": 25,
   "metadata": {
    "collapsed": false
   },
   "outputs": [
    {
     "data": {
      "text/html": [
       "<div>\n",
       "<table border=\"1\" class=\"dataframe\">\n",
       "  <thead>\n",
       "    <tr style=\"text-align: right;\">\n",
       "      <th></th>\n",
       "      <th>A</th>\n",
       "      <th>B</th>\n",
       "      <th>C</th>\n",
       "      <th>D</th>\n",
       "    </tr>\n",
       "  </thead>\n",
       "  <tbody>\n",
       "    <tr>\n",
       "      <th>first</th>\n",
       "      <td>30</td>\n",
       "      <td>0.502822</td>\n",
       "      <td>0.146696</td>\n",
       "      <td>John</td>\n",
       "    </tr>\n",
       "    <tr>\n",
       "      <th>second</th>\n",
       "      <td>33</td>\n",
       "      <td>0.058800</td>\n",
       "      <td>0.599917</td>\n",
       "      <td>Mary</td>\n",
       "    </tr>\n",
       "    <tr>\n",
       "      <th>third</th>\n",
       "      <td>36</td>\n",
       "      <td>0.198877</td>\n",
       "      <td>0.099388</td>\n",
       "      <td>Jane</td>\n",
       "    </tr>\n",
       "  </tbody>\n",
       "</table>\n",
       "</div>"
      ],
      "text/plain": [
       "         A         B         C     D\n",
       "first   30  0.502822  0.146696  John\n",
       "second  33  0.058800  0.599917  Mary\n",
       "third   36  0.198877  0.099388  Jane"
      ]
     },
     "execution_count": 25,
     "metadata": {},
     "output_type": "execute_result"
    }
   ],
   "source": [
    "# Using a dictionary\n",
    "d = { 'A' : range(30,37,3),\n",
    "      'B' : np.random.random(3),\n",
    "      'C' : [ random.random() for _ in range(3) ],\n",
    "      'D' : ['John', 'Mary', 'Jane']\n",
    "    }\n",
    "df = pd.DataFrame( d, index=['first','second','third'] )\n",
    "df"
   ]
  },
  {
   "cell_type": "code",
   "execution_count": 26,
   "metadata": {
    "collapsed": false
   },
   "outputs": [
    {
     "name": "stdout",
     "output_type": "stream",
     "text": [
      "<class 'pandas.core.frame.DataFrame'>\n",
      "Index: 3 entries, first to third\n",
      "Data columns (total 4 columns):\n",
      "A    3 non-null int32\n",
      "B    3 non-null float64\n",
      "C    3 non-null float64\n",
      "D    3 non-null object\n",
      "dtypes: float64(2), int32(1), object(1)\n",
      "memory usage: 108.0+ bytes\n"
     ]
    }
   ],
   "source": [
    "# Generic info\n",
    "df.info()"
   ]
  },
  {
   "cell_type": "code",
   "execution_count": 27,
   "metadata": {
    "collapsed": false,
    "scrolled": true
   },
   "outputs": [
    {
     "data": {
      "text/html": [
       "<div>\n",
       "<table border=\"1\" class=\"dataframe\">\n",
       "  <thead>\n",
       "    <tr style=\"text-align: right;\">\n",
       "      <th></th>\n",
       "      <th>A</th>\n",
       "      <th>B</th>\n",
       "      <th>C</th>\n",
       "    </tr>\n",
       "  </thead>\n",
       "  <tbody>\n",
       "    <tr>\n",
       "      <th>count</th>\n",
       "      <td>3.0</td>\n",
       "      <td>3.000000</td>\n",
       "      <td>3.000000</td>\n",
       "    </tr>\n",
       "    <tr>\n",
       "      <th>mean</th>\n",
       "      <td>33.0</td>\n",
       "      <td>0.253500</td>\n",
       "      <td>0.282000</td>\n",
       "    </tr>\n",
       "    <tr>\n",
       "      <th>std</th>\n",
       "      <td>3.0</td>\n",
       "      <td>0.226995</td>\n",
       "      <td>0.276338</td>\n",
       "    </tr>\n",
       "    <tr>\n",
       "      <th>min</th>\n",
       "      <td>30.0</td>\n",
       "      <td>0.058800</td>\n",
       "      <td>0.099388</td>\n",
       "    </tr>\n",
       "    <tr>\n",
       "      <th>25%</th>\n",
       "      <td>31.5</td>\n",
       "      <td>0.128839</td>\n",
       "      <td>0.123042</td>\n",
       "    </tr>\n",
       "    <tr>\n",
       "      <th>50%</th>\n",
       "      <td>33.0</td>\n",
       "      <td>0.198877</td>\n",
       "      <td>0.146696</td>\n",
       "    </tr>\n",
       "    <tr>\n",
       "      <th>75%</th>\n",
       "      <td>34.5</td>\n",
       "      <td>0.350849</td>\n",
       "      <td>0.373306</td>\n",
       "    </tr>\n",
       "    <tr>\n",
       "      <th>max</th>\n",
       "      <td>36.0</td>\n",
       "      <td>0.502822</td>\n",
       "      <td>0.599917</td>\n",
       "    </tr>\n",
       "  </tbody>\n",
       "</table>\n",
       "</div>"
      ],
      "text/plain": [
       "          A         B         C\n",
       "count   3.0  3.000000  3.000000\n",
       "mean   33.0  0.253500  0.282000\n",
       "std     3.0  0.226995  0.276338\n",
       "min    30.0  0.058800  0.099388\n",
       "25%    31.5  0.128839  0.123042\n",
       "50%    33.0  0.198877  0.146696\n",
       "75%    34.5  0.350849  0.373306\n",
       "max    36.0  0.502822  0.599917"
      ]
     },
     "execution_count": 27,
     "metadata": {},
     "output_type": "execute_result"
    }
   ],
   "source": [
    "# Statistics on the numerical data\n",
    "df.describe()"
   ]
  },
  {
   "cell_type": "code",
   "execution_count": 28,
   "metadata": {
    "collapsed": false,
    "scrolled": true
   },
   "outputs": [
    {
     "data": {
      "text/plain": [
       "Index(['A', 'B', 'C', 'D'], dtype='object')"
      ]
     },
     "execution_count": 28,
     "metadata": {},
     "output_type": "execute_result"
    }
   ],
   "source": [
    "df.columns"
   ]
  },
  {
   "cell_type": "code",
   "execution_count": 29,
   "metadata": {
    "collapsed": false
   },
   "outputs": [
    {
     "data": {
      "text/plain": [
       "Index(['first', 'second', 'third'], dtype='object')"
      ]
     },
     "execution_count": 29,
     "metadata": {},
     "output_type": "execute_result"
    }
   ],
   "source": [
    "df.index"
   ]
  },
  {
   "cell_type": "code",
   "execution_count": 30,
   "metadata": {
    "collapsed": false
   },
   "outputs": [
    {
     "data": {
      "text/plain": [
       "array([[30, 0.5028220617250452, 0.14669612241553764, 'John'],\n",
       "       [33, 0.058800384839646, 0.5999168343504829, 'Mary'],\n",
       "       [36, 0.19887692348389663, 0.09938847187027777, 'Jane']], dtype=object)"
      ]
     },
     "execution_count": 30,
     "metadata": {},
     "output_type": "execute_result"
    }
   ],
   "source": [
    "df.values"
   ]
  },
  {
   "cell_type": "markdown",
   "metadata": {},
   "source": [
    "\n",
    "### Accessing"
   ]
  },
  {
   "cell_type": "code",
   "execution_count": 31,
   "metadata": {
    "collapsed": false
   },
   "outputs": [
    {
     "data": {
      "text/plain": [
       "first     0.502822\n",
       "second    0.058800\n",
       "third     0.198877\n",
       "Name: B, dtype: float64"
      ]
     },
     "execution_count": 31,
     "metadata": {},
     "output_type": "execute_result"
    }
   ],
   "source": [
    "# Selecting column, result is Series\n",
    "df['B']"
   ]
  },
  {
   "cell_type": "code",
   "execution_count": 32,
   "metadata": {
    "collapsed": false
   },
   "outputs": [
    {
     "data": {
      "text/plain": [
       "first     0.502822\n",
       "second    0.058800\n",
       "third     0.198877\n",
       "Name: B, dtype: float64"
      ]
     },
     "execution_count": 32,
     "metadata": {},
     "output_type": "execute_result"
    }
   ],
   "source": [
    "# Alternative, result is Series\n",
    "df.B"
   ]
  },
  {
   "cell_type": "code",
   "execution_count": 33,
   "metadata": {
    "collapsed": false
   },
   "outputs": [
    {
     "data": {
      "text/html": [
       "<div>\n",
       "<table border=\"1\" class=\"dataframe\">\n",
       "  <thead>\n",
       "    <tr style=\"text-align: right;\">\n",
       "      <th></th>\n",
       "      <th>D</th>\n",
       "      <th>B</th>\n",
       "    </tr>\n",
       "  </thead>\n",
       "  <tbody>\n",
       "    <tr>\n",
       "      <th>first</th>\n",
       "      <td>John</td>\n",
       "      <td>0.502822</td>\n",
       "    </tr>\n",
       "    <tr>\n",
       "      <th>second</th>\n",
       "      <td>Mary</td>\n",
       "      <td>0.058800</td>\n",
       "    </tr>\n",
       "    <tr>\n",
       "      <th>third</th>\n",
       "      <td>Jane</td>\n",
       "      <td>0.198877</td>\n",
       "    </tr>\n",
       "  </tbody>\n",
       "</table>\n",
       "</div>"
      ],
      "text/plain": [
       "           D         B\n",
       "first   John  0.502822\n",
       "second  Mary  0.058800\n",
       "third   Jane  0.198877"
      ]
     },
     "execution_count": 33,
     "metadata": {},
     "output_type": "execute_result"
    }
   ],
   "source": [
    "# Fancy indexing, result is dataframe\n",
    "df[ ['D','B'] ]\n",
    "\n",
    "#df[ ['B'] ]"
   ]
  },
  {
   "cell_type": "code",
   "execution_count": 34,
   "metadata": {
    "collapsed": false
   },
   "outputs": [
    {
     "data": {
      "text/plain": [
       "A           33\n",
       "B    0.0588004\n",
       "C     0.599917\n",
       "D         Mary\n",
       "Name: second, dtype: object"
      ]
     },
     "execution_count": 34,
     "metadata": {},
     "output_type": "execute_result"
    }
   ],
   "source": [
    "# Selecting rows, result is series\n",
    "df.ix[1]"
   ]
  },
  {
   "cell_type": "code",
   "execution_count": 35,
   "metadata": {
    "collapsed": false
   },
   "outputs": [
    {
     "data": {
      "text/html": [
       "<div>\n",
       "<table border=\"1\" class=\"dataframe\">\n",
       "  <thead>\n",
       "    <tr style=\"text-align: right;\">\n",
       "      <th></th>\n",
       "      <th>A</th>\n",
       "      <th>B</th>\n",
       "      <th>C</th>\n",
       "      <th>D</th>\n",
       "    </tr>\n",
       "  </thead>\n",
       "  <tbody>\n",
       "    <tr>\n",
       "      <th>second</th>\n",
       "      <td>33</td>\n",
       "      <td>0.0588</td>\n",
       "      <td>0.599917</td>\n",
       "      <td>Mary</td>\n",
       "    </tr>\n",
       "  </tbody>\n",
       "</table>\n",
       "</div>"
      ],
      "text/plain": [
       "         A       B         C     D\n",
       "second  33  0.0588  0.599917  Mary"
      ]
     },
     "execution_count": 35,
     "metadata": {},
     "output_type": "execute_result"
    }
   ],
   "source": [
    "# slicing, result is dataframe\n",
    "df.ix[ 1:2 ]"
   ]
  },
  {
   "cell_type": "code",
   "execution_count": 36,
   "metadata": {
    "collapsed": false
   },
   "outputs": [
    {
     "data": {
      "text/plain": [
       "0.59991683435048293"
      ]
     },
     "execution_count": 36,
     "metadata": {},
     "output_type": "execute_result"
    }
   ],
   "source": [
    "# Selecting elements [row, column]\n",
    "df.ix[1,2]"
   ]
  },
  {
   "cell_type": "code",
   "execution_count": 37,
   "metadata": {
    "collapsed": false
   },
   "outputs": [
    {
     "data": {
      "text/html": [
       "<div>\n",
       "<table border=\"1\" class=\"dataframe\">\n",
       "  <thead>\n",
       "    <tr style=\"text-align: right;\">\n",
       "      <th></th>\n",
       "      <th>A</th>\n",
       "      <th>B</th>\n",
       "      <th>C</th>\n",
       "    </tr>\n",
       "  </thead>\n",
       "  <tbody>\n",
       "    <tr>\n",
       "      <th>second</th>\n",
       "      <td>33</td>\n",
       "      <td>0.058800</td>\n",
       "      <td>0.599917</td>\n",
       "    </tr>\n",
       "    <tr>\n",
       "      <th>third</th>\n",
       "      <td>36</td>\n",
       "      <td>0.198877</td>\n",
       "      <td>0.099388</td>\n",
       "    </tr>\n",
       "  </tbody>\n",
       "</table>\n",
       "</div>"
      ],
      "text/plain": [
       "         A         B         C\n",
       "second  33  0.058800  0.599917\n",
       "third   36  0.198877  0.099388"
      ]
     },
     "execution_count": 37,
     "metadata": {},
     "output_type": "execute_result"
    }
   ],
   "source": [
    "# With slicing\n",
    "df.ix[1:3, :3 ]"
   ]
  },
  {
   "cell_type": "code",
   "execution_count": 38,
   "metadata": {
    "collapsed": false
   },
   "outputs": [
    {
     "data": {
      "text/html": [
       "<div>\n",
       "<table border=\"1\" class=\"dataframe\">\n",
       "  <thead>\n",
       "    <tr style=\"text-align: right;\">\n",
       "      <th></th>\n",
       "      <th>D</th>\n",
       "      <th>A</th>\n",
       "      <th>C</th>\n",
       "    </tr>\n",
       "  </thead>\n",
       "  <tbody>\n",
       "    <tr>\n",
       "      <th>first</th>\n",
       "      <td>John</td>\n",
       "      <td>30</td>\n",
       "      <td>0.146696</td>\n",
       "    </tr>\n",
       "    <tr>\n",
       "      <th>second</th>\n",
       "      <td>Mary</td>\n",
       "      <td>33</td>\n",
       "      <td>0.599917</td>\n",
       "    </tr>\n",
       "  </tbody>\n",
       "</table>\n",
       "</div>"
      ],
      "text/plain": [
       "           D   A         C\n",
       "first   John  30  0.146696\n",
       "second  Mary  33  0.599917"
      ]
     },
     "execution_count": 38,
     "metadata": {},
     "output_type": "execute_result"
    }
   ],
   "source": [
    "# Fancy indexing, using positions\n",
    "# Warning: watch out if labels are integers too! \n",
    "# Use df.iloc and df.loc to use positions or labels explicitly.\n",
    "# df.ix does a smart guess, but prioritizes labels.\n",
    "df.ix[:2, [3,0,2]]"
   ]
  },
  {
   "cell_type": "code",
   "execution_count": 39,
   "metadata": {
    "collapsed": false,
    "scrolled": true
   },
   "outputs": [
    {
     "data": {
      "text/html": [
       "<div>\n",
       "<table border=\"1\" class=\"dataframe\">\n",
       "  <thead>\n",
       "    <tr style=\"text-align: right;\">\n",
       "      <th></th>\n",
       "      <th>D</th>\n",
       "      <th>A</th>\n",
       "      <th>C</th>\n",
       "    </tr>\n",
       "  </thead>\n",
       "  <tbody>\n",
       "    <tr>\n",
       "      <th>first</th>\n",
       "      <td>John</td>\n",
       "      <td>30</td>\n",
       "      <td>0.146696</td>\n",
       "    </tr>\n",
       "    <tr>\n",
       "      <th>second</th>\n",
       "      <td>Mary</td>\n",
       "      <td>33</td>\n",
       "      <td>0.599917</td>\n",
       "    </tr>\n",
       "  </tbody>\n",
       "</table>\n",
       "</div>"
      ],
      "text/plain": [
       "           D   A         C\n",
       "first   John  30  0.146696\n",
       "second  Mary  33  0.599917"
      ]
     },
     "execution_count": 39,
     "metadata": {},
     "output_type": "execute_result"
    }
   ],
   "source": [
    "# Fancy indexing, using labels!\n",
    "df.ix[ :'second', ['D', 'A', 'C'] ]"
   ]
  },
  {
   "cell_type": "markdown",
   "metadata": {},
   "source": [
    "### Filtering"
   ]
  },
  {
   "cell_type": "code",
   "execution_count": 40,
   "metadata": {
    "collapsed": false
   },
   "outputs": [
    {
     "data": {
      "text/html": [
       "<div>\n",
       "<table border=\"1\" class=\"dataframe\">\n",
       "  <thead>\n",
       "    <tr style=\"text-align: right;\">\n",
       "      <th></th>\n",
       "      <th>A</th>\n",
       "      <th>B</th>\n",
       "      <th>C</th>\n",
       "      <th>D</th>\n",
       "    </tr>\n",
       "  </thead>\n",
       "  <tbody>\n",
       "    <tr>\n",
       "      <th>first</th>\n",
       "      <td>30</td>\n",
       "      <td>0.502822</td>\n",
       "      <td>0.146696</td>\n",
       "      <td>John</td>\n",
       "    </tr>\n",
       "    <tr>\n",
       "      <th>second</th>\n",
       "      <td>33</td>\n",
       "      <td>0.058800</td>\n",
       "      <td>0.599917</td>\n",
       "      <td>Mary</td>\n",
       "    </tr>\n",
       "    <tr>\n",
       "      <th>third</th>\n",
       "      <td>36</td>\n",
       "      <td>0.198877</td>\n",
       "      <td>0.099388</td>\n",
       "      <td>Jane</td>\n",
       "    </tr>\n",
       "  </tbody>\n",
       "</table>\n",
       "</div>"
      ],
      "text/plain": [
       "         A         B         C     D\n",
       "first   30  0.502822  0.146696  John\n",
       "second  33  0.058800  0.599917  Mary\n",
       "third   36  0.198877  0.099388  Jane"
      ]
     },
     "execution_count": 40,
     "metadata": {},
     "output_type": "execute_result"
    }
   ],
   "source": [
    "# Let's print df again\n",
    "df"
   ]
  },
  {
   "cell_type": "code",
   "execution_count": 41,
   "metadata": {
    "collapsed": false,
    "scrolled": true
   },
   "outputs": [
    {
     "data": {
      "text/html": [
       "<div>\n",
       "<table border=\"1\" class=\"dataframe\">\n",
       "  <thead>\n",
       "    <tr style=\"text-align: right;\">\n",
       "      <th></th>\n",
       "      <th>A</th>\n",
       "      <th>B</th>\n",
       "      <th>C</th>\n",
       "      <th>D</th>\n",
       "    </tr>\n",
       "  </thead>\n",
       "  <tbody>\n",
       "    <tr>\n",
       "      <th>first</th>\n",
       "      <td>NaN</td>\n",
       "      <td>NaN</td>\n",
       "      <td>0.146696</td>\n",
       "      <td>John</td>\n",
       "    </tr>\n",
       "    <tr>\n",
       "      <th>second</th>\n",
       "      <td>NaN</td>\n",
       "      <td>0.058800</td>\n",
       "      <td>NaN</td>\n",
       "      <td>Mary</td>\n",
       "    </tr>\n",
       "    <tr>\n",
       "      <th>third</th>\n",
       "      <td>NaN</td>\n",
       "      <td>0.198877</td>\n",
       "      <td>0.099388</td>\n",
       "      <td>Jane</td>\n",
       "    </tr>\n",
       "  </tbody>\n",
       "</table>\n",
       "</div>"
      ],
      "text/plain": [
       "         A         B         C     D\n",
       "first  NaN       NaN  0.146696  John\n",
       "second NaN  0.058800       NaN  Mary\n",
       "third  NaN  0.198877  0.099388  Jane"
      ]
     },
     "execution_count": 41,
     "metadata": {},
     "output_type": "execute_result"
    }
   ],
   "source": [
    "# Selecting values. Not matching values are replaced by NaN\n",
    "df[df < 0.5]"
   ]
  },
  {
   "cell_type": "code",
   "execution_count": 42,
   "metadata": {
    "collapsed": false
   },
   "outputs": [
    {
     "data": {
      "text/html": [
       "<div>\n",
       "<table border=\"1\" class=\"dataframe\">\n",
       "  <thead>\n",
       "    <tr style=\"text-align: right;\">\n",
       "      <th></th>\n",
       "      <th>A</th>\n",
       "      <th>B</th>\n",
       "      <th>C</th>\n",
       "      <th>D</th>\n",
       "    </tr>\n",
       "  </thead>\n",
       "  <tbody>\n",
       "    <tr>\n",
       "      <th>second</th>\n",
       "      <td>33</td>\n",
       "      <td>0.0588</td>\n",
       "      <td>0.599917</td>\n",
       "      <td>Mary</td>\n",
       "    </tr>\n",
       "  </tbody>\n",
       "</table>\n",
       "</div>"
      ],
      "text/plain": [
       "         A       B         C     D\n",
       "second  33  0.0588  0.599917  Mary"
      ]
     },
     "execution_count": 42,
     "metadata": {},
     "output_type": "execute_result"
    }
   ],
   "source": [
    "# Selecting rows based on a Series of booleans\n",
    "df[df.D == 'Mary']"
   ]
  },
  {
   "cell_type": "markdown",
   "metadata": {},
   "source": [
    "### Assignment"
   ]
  },
  {
   "cell_type": "code",
   "execution_count": 43,
   "metadata": {
    "collapsed": false
   },
   "outputs": [
    {
     "data": {
      "text/html": [
       "<div>\n",
       "<table border=\"1\" class=\"dataframe\">\n",
       "  <thead>\n",
       "    <tr style=\"text-align: right;\">\n",
       "      <th></th>\n",
       "      <th>A</th>\n",
       "      <th>B</th>\n",
       "      <th>C</th>\n",
       "      <th>D</th>\n",
       "    </tr>\n",
       "  </thead>\n",
       "  <tbody>\n",
       "    <tr>\n",
       "      <th>first</th>\n",
       "      <td>28</td>\n",
       "      <td>0.502822</td>\n",
       "      <td>0.146696</td>\n",
       "      <td>John</td>\n",
       "    </tr>\n",
       "    <tr>\n",
       "      <th>second</th>\n",
       "      <td>33</td>\n",
       "      <td>0.058800</td>\n",
       "      <td>0.599917</td>\n",
       "      <td>Mary</td>\n",
       "    </tr>\n",
       "    <tr>\n",
       "      <th>third</th>\n",
       "      <td>36</td>\n",
       "      <td>0.198877</td>\n",
       "      <td>0.099388</td>\n",
       "      <td>Jane</td>\n",
       "    </tr>\n",
       "  </tbody>\n",
       "</table>\n",
       "</div>"
      ],
      "text/plain": [
       "         A         B         C     D\n",
       "first   28  0.502822  0.146696  John\n",
       "second  33  0.058800  0.599917  Mary\n",
       "third   36  0.198877  0.099388  Jane"
      ]
     },
     "execution_count": 43,
     "metadata": {},
     "output_type": "execute_result"
    }
   ],
   "source": [
    "# Changing values\n",
    "df.ix['first','A'] = 28\n",
    "df"
   ]
  },
  {
   "cell_type": "code",
   "execution_count": 44,
   "metadata": {
    "collapsed": false
   },
   "outputs": [
    {
     "data": {
      "text/html": [
       "<div>\n",
       "<table border=\"1\" class=\"dataframe\">\n",
       "  <thead>\n",
       "    <tr style=\"text-align: right;\">\n",
       "      <th></th>\n",
       "      <th>A</th>\n",
       "      <th>B</th>\n",
       "      <th>C</th>\n",
       "      <th>D</th>\n",
       "      <th>E</th>\n",
       "      <th>F</th>\n",
       "      <th>G</th>\n",
       "    </tr>\n",
       "  </thead>\n",
       "  <tbody>\n",
       "    <tr>\n",
       "      <th>first</th>\n",
       "      <td>28</td>\n",
       "      <td>0.502822</td>\n",
       "      <td>0.146696</td>\n",
       "      <td>John</td>\n",
       "      <td>500</td>\n",
       "      <td>5.291503</td>\n",
       "      <td>3.427644</td>\n",
       "    </tr>\n",
       "    <tr>\n",
       "      <th>second</th>\n",
       "      <td>33</td>\n",
       "      <td>0.058800</td>\n",
       "      <td>0.599917</td>\n",
       "      <td>Mary</td>\n",
       "      <td>500</td>\n",
       "      <td>5.744563</td>\n",
       "      <td>0.098014</td>\n",
       "    </tr>\n",
       "    <tr>\n",
       "      <th>third</th>\n",
       "      <td>36</td>\n",
       "      <td>0.198877</td>\n",
       "      <td>0.099388</td>\n",
       "      <td>Jane</td>\n",
       "      <td>500</td>\n",
       "      <td>6.000000</td>\n",
       "      <td>2.001006</td>\n",
       "    </tr>\n",
       "  </tbody>\n",
       "</table>\n",
       "</div>"
      ],
      "text/plain": [
       "         A         B         C     D    E         F         G\n",
       "first   28  0.502822  0.146696  John  500  5.291503  3.427644\n",
       "second  33  0.058800  0.599917  Mary  500  5.744563  0.098014\n",
       "third   36  0.198877  0.099388  Jane  500  6.000000  2.001006"
      ]
     },
     "execution_count": 44,
     "metadata": {},
     "output_type": "execute_result"
    }
   ],
   "source": [
    "# Adding a new column\n",
    "df['E'] = 500\n",
    "df['F'] = np.sqrt(df['A'])\n",
    "df['G'] = df['B'] / df['C']\n",
    "df"
   ]
  },
  {
   "cell_type": "code",
   "execution_count": 45,
   "metadata": {
    "collapsed": false
   },
   "outputs": [
    {
     "data": {
      "text/html": [
       "<div>\n",
       "<table border=\"1\" class=\"dataframe\">\n",
       "  <thead>\n",
       "    <tr style=\"text-align: right;\">\n",
       "      <th></th>\n",
       "      <th>A</th>\n",
       "      <th>B</th>\n",
       "      <th>C</th>\n",
       "      <th>D</th>\n",
       "      <th>E</th>\n",
       "      <th>F</th>\n",
       "      <th>G</th>\n",
       "    </tr>\n",
       "  </thead>\n",
       "  <tbody>\n",
       "    <tr>\n",
       "      <th>first</th>\n",
       "      <td>28</td>\n",
       "      <td>0.502822</td>\n",
       "      <td>0.146696</td>\n",
       "      <td>John</td>\n",
       "      <td>500</td>\n",
       "      <td>5.291503</td>\n",
       "      <td>3.427644</td>\n",
       "    </tr>\n",
       "    <tr>\n",
       "      <th>third</th>\n",
       "      <td>36</td>\n",
       "      <td>0.198877</td>\n",
       "      <td>0.099388</td>\n",
       "      <td>Jane</td>\n",
       "      <td>500</td>\n",
       "      <td>6.000000</td>\n",
       "      <td>2.001006</td>\n",
       "    </tr>\n",
       "  </tbody>\n",
       "</table>\n",
       "</div>"
      ],
      "text/plain": [
       "        A         B         C     D    E         F         G\n",
       "first  28  0.502822  0.146696  John  500  5.291503  3.427644\n",
       "third  36  0.198877  0.099388  Jane  500  6.000000  2.001006"
      ]
     },
     "execution_count": 45,
     "metadata": {},
     "output_type": "execute_result"
    }
   ],
   "source": [
    "# Dropping entries. Drop a row\n",
    "df.drop(['second'], axis=0)"
   ]
  },
  {
   "cell_type": "code",
   "execution_count": 46,
   "metadata": {
    "collapsed": false
   },
   "outputs": [
    {
     "data": {
      "text/html": [
       "<div>\n",
       "<table border=\"1\" class=\"dataframe\">\n",
       "  <thead>\n",
       "    <tr style=\"text-align: right;\">\n",
       "      <th></th>\n",
       "      <th>A</th>\n",
       "      <th>C</th>\n",
       "      <th>D</th>\n",
       "      <th>E</th>\n",
       "      <th>G</th>\n",
       "    </tr>\n",
       "  </thead>\n",
       "  <tbody>\n",
       "    <tr>\n",
       "      <th>first</th>\n",
       "      <td>28</td>\n",
       "      <td>0.146696</td>\n",
       "      <td>John</td>\n",
       "      <td>500</td>\n",
       "      <td>3.427644</td>\n",
       "    </tr>\n",
       "    <tr>\n",
       "      <th>second</th>\n",
       "      <td>33</td>\n",
       "      <td>0.599917</td>\n",
       "      <td>Mary</td>\n",
       "      <td>500</td>\n",
       "      <td>0.098014</td>\n",
       "    </tr>\n",
       "    <tr>\n",
       "      <th>third</th>\n",
       "      <td>36</td>\n",
       "      <td>0.099388</td>\n",
       "      <td>Jane</td>\n",
       "      <td>500</td>\n",
       "      <td>2.001006</td>\n",
       "    </tr>\n",
       "  </tbody>\n",
       "</table>\n",
       "</div>"
      ],
      "text/plain": [
       "         A         C     D    E         G\n",
       "first   28  0.146696  John  500  3.427644\n",
       "second  33  0.599917  Mary  500  0.098014\n",
       "third   36  0.099388  Jane  500  2.001006"
      ]
     },
     "execution_count": 46,
     "metadata": {},
     "output_type": "execute_result"
    }
   ],
   "source": [
    "# Drop a column (or 2)\n",
    "df.drop( ['B','F'], axis=1)"
   ]
  },
  {
   "cell_type": "markdown",
   "metadata": {},
   "source": [
    "### Arithmetic\n",
    "\n",
    "NumPy universal functions still work as expected. Aggregation as well."
   ]
  },
  {
   "cell_type": "code",
   "execution_count": 47,
   "metadata": {
    "collapsed": false
   },
   "outputs": [],
   "source": [
    "df1 = pd.DataFrame( np.arange(9).reshape(3,3), columns=list(\"abc\"),\n",
    "                  index=[\"John\",\"Mary\",\"Peter\"])\n",
    "df2 = pd.DataFrame( np.arange(12).reshape(4,3), columns=list(\"acd\"),\n",
    "                  index=[\"Anne\", \"John\", \"Mary\", \"Zach\"])\n"
   ]
  },
  {
   "cell_type": "code",
   "execution_count": 48,
   "metadata": {
    "collapsed": false
   },
   "outputs": [
    {
     "data": {
      "text/html": [
       "<div>\n",
       "<table border=\"1\" class=\"dataframe\">\n",
       "  <thead>\n",
       "    <tr style=\"text-align: right;\">\n",
       "      <th></th>\n",
       "      <th>a</th>\n",
       "      <th>b</th>\n",
       "      <th>c</th>\n",
       "    </tr>\n",
       "  </thead>\n",
       "  <tbody>\n",
       "    <tr>\n",
       "      <th>John</th>\n",
       "      <td>0</td>\n",
       "      <td>1</td>\n",
       "      <td>2</td>\n",
       "    </tr>\n",
       "    <tr>\n",
       "      <th>Mary</th>\n",
       "      <td>3</td>\n",
       "      <td>4</td>\n",
       "      <td>5</td>\n",
       "    </tr>\n",
       "    <tr>\n",
       "      <th>Peter</th>\n",
       "      <td>6</td>\n",
       "      <td>7</td>\n",
       "      <td>8</td>\n",
       "    </tr>\n",
       "  </tbody>\n",
       "</table>\n",
       "</div>"
      ],
      "text/plain": [
       "       a  b  c\n",
       "John   0  1  2\n",
       "Mary   3  4  5\n",
       "Peter  6  7  8"
      ]
     },
     "execution_count": 48,
     "metadata": {},
     "output_type": "execute_result"
    }
   ],
   "source": [
    "df1"
   ]
  },
  {
   "cell_type": "code",
   "execution_count": 49,
   "metadata": {
    "collapsed": false
   },
   "outputs": [
    {
     "data": {
      "text/html": [
       "<div>\n",
       "<table border=\"1\" class=\"dataframe\">\n",
       "  <thead>\n",
       "    <tr style=\"text-align: right;\">\n",
       "      <th></th>\n",
       "      <th>a</th>\n",
       "      <th>c</th>\n",
       "      <th>d</th>\n",
       "    </tr>\n",
       "  </thead>\n",
       "  <tbody>\n",
       "    <tr>\n",
       "      <th>Anne</th>\n",
       "      <td>0</td>\n",
       "      <td>1</td>\n",
       "      <td>2</td>\n",
       "    </tr>\n",
       "    <tr>\n",
       "      <th>John</th>\n",
       "      <td>3</td>\n",
       "      <td>4</td>\n",
       "      <td>5</td>\n",
       "    </tr>\n",
       "    <tr>\n",
       "      <th>Mary</th>\n",
       "      <td>6</td>\n",
       "      <td>7</td>\n",
       "      <td>8</td>\n",
       "    </tr>\n",
       "    <tr>\n",
       "      <th>Zach</th>\n",
       "      <td>9</td>\n",
       "      <td>10</td>\n",
       "      <td>11</td>\n",
       "    </tr>\n",
       "  </tbody>\n",
       "</table>\n",
       "</div>"
      ],
      "text/plain": [
       "      a   c   d\n",
       "Anne  0   1   2\n",
       "John  3   4   5\n",
       "Mary  6   7   8\n",
       "Zach  9  10  11"
      ]
     },
     "execution_count": 49,
     "metadata": {},
     "output_type": "execute_result"
    }
   ],
   "source": [
    "df2"
   ]
  },
  {
   "cell_type": "code",
   "execution_count": 50,
   "metadata": {
    "collapsed": false
   },
   "outputs": [
    {
     "data": {
      "text/html": [
       "<div>\n",
       "<table border=\"1\" class=\"dataframe\">\n",
       "  <thead>\n",
       "    <tr style=\"text-align: right;\">\n",
       "      <th></th>\n",
       "      <th>a</th>\n",
       "      <th>b</th>\n",
       "      <th>c</th>\n",
       "      <th>d</th>\n",
       "    </tr>\n",
       "  </thead>\n",
       "  <tbody>\n",
       "    <tr>\n",
       "      <th>Anne</th>\n",
       "      <td>NaN</td>\n",
       "      <td>NaN</td>\n",
       "      <td>NaN</td>\n",
       "      <td>NaN</td>\n",
       "    </tr>\n",
       "    <tr>\n",
       "      <th>John</th>\n",
       "      <td>3.0</td>\n",
       "      <td>NaN</td>\n",
       "      <td>6.0</td>\n",
       "      <td>NaN</td>\n",
       "    </tr>\n",
       "    <tr>\n",
       "      <th>Mary</th>\n",
       "      <td>9.0</td>\n",
       "      <td>NaN</td>\n",
       "      <td>12.0</td>\n",
       "      <td>NaN</td>\n",
       "    </tr>\n",
       "    <tr>\n",
       "      <th>Peter</th>\n",
       "      <td>NaN</td>\n",
       "      <td>NaN</td>\n",
       "      <td>NaN</td>\n",
       "      <td>NaN</td>\n",
       "    </tr>\n",
       "    <tr>\n",
       "      <th>Zach</th>\n",
       "      <td>NaN</td>\n",
       "      <td>NaN</td>\n",
       "      <td>NaN</td>\n",
       "      <td>NaN</td>\n",
       "    </tr>\n",
       "  </tbody>\n",
       "</table>\n",
       "</div>"
      ],
      "text/plain": [
       "         a   b     c   d\n",
       "Anne   NaN NaN   NaN NaN\n",
       "John   3.0 NaN   6.0 NaN\n",
       "Mary   9.0 NaN  12.0 NaN\n",
       "Peter  NaN NaN   NaN NaN\n",
       "Zach   NaN NaN   NaN NaN"
      ]
     },
     "execution_count": 50,
     "metadata": {},
     "output_type": "execute_result"
    }
   ],
   "source": [
    "# Addition matches both index and column, NaN for all other index, column combinations\n",
    "df1 + df2"
   ]
  },
  {
   "cell_type": "code",
   "execution_count": 51,
   "metadata": {
    "collapsed": false
   },
   "outputs": [
    {
     "data": {
      "text/html": [
       "<div>\n",
       "<table border=\"1\" class=\"dataframe\">\n",
       "  <thead>\n",
       "    <tr style=\"text-align: right;\">\n",
       "      <th></th>\n",
       "      <th>a</th>\n",
       "      <th>c</th>\n",
       "      <th>d</th>\n",
       "    </tr>\n",
       "  </thead>\n",
       "  <tbody>\n",
       "    <tr>\n",
       "      <th>Anne</th>\n",
       "      <td>0.000000</td>\n",
       "      <td>1.000000</td>\n",
       "      <td>1.414214</td>\n",
       "    </tr>\n",
       "    <tr>\n",
       "      <th>John</th>\n",
       "      <td>1.732051</td>\n",
       "      <td>2.000000</td>\n",
       "      <td>2.236068</td>\n",
       "    </tr>\n",
       "    <tr>\n",
       "      <th>Mary</th>\n",
       "      <td>2.449490</td>\n",
       "      <td>2.645751</td>\n",
       "      <td>2.828427</td>\n",
       "    </tr>\n",
       "    <tr>\n",
       "      <th>Zach</th>\n",
       "      <td>3.000000</td>\n",
       "      <td>3.162278</td>\n",
       "      <td>3.316625</td>\n",
       "    </tr>\n",
       "  </tbody>\n",
       "</table>\n",
       "</div>"
      ],
      "text/plain": [
       "             a         c         d\n",
       "Anne  0.000000  1.000000  1.414214\n",
       "John  1.732051  2.000000  2.236068\n",
       "Mary  2.449490  2.645751  2.828427\n",
       "Zach  3.000000  3.162278  3.316625"
      ]
     },
     "execution_count": 51,
     "metadata": {},
     "output_type": "execute_result"
    }
   ],
   "source": [
    "# Universal functions, element wise\n",
    "\n",
    "np.sqrt(df2)"
   ]
  },
  {
   "cell_type": "code",
   "execution_count": 52,
   "metadata": {
    "collapsed": false
   },
   "outputs": [
    {
     "data": {
      "text/plain": [
       "a    18\n",
       "c    22\n",
       "d    26\n",
       "dtype: int64"
      ]
     },
     "execution_count": 52,
     "metadata": {},
     "output_type": "execute_result"
    }
   ],
   "source": [
    "# Aggregation, sum per column\n",
    "df2.sum()"
   ]
  },
  {
   "cell_type": "code",
   "execution_count": 53,
   "metadata": {
    "collapsed": false,
    "scrolled": true
   },
   "outputs": [
    {
     "data": {
      "text/plain": [
       "Anne     3\n",
       "John    12\n",
       "Mary    21\n",
       "Zach    30\n",
       "dtype: int64"
      ]
     },
     "execution_count": 53,
     "metadata": {},
     "output_type": "execute_result"
    }
   ],
   "source": [
    "# sum per row\n",
    "df2.sum(axis=1)"
   ]
  },
  {
   "cell_type": "code",
   "execution_count": 54,
   "metadata": {
    "collapsed": false
   },
   "outputs": [
    {
     "data": {
      "text/html": [
       "<div>\n",
       "<table border=\"1\" class=\"dataframe\">\n",
       "  <thead>\n",
       "    <tr style=\"text-align: right;\">\n",
       "      <th></th>\n",
       "      <th>a</th>\n",
       "      <th>c</th>\n",
       "      <th>d</th>\n",
       "    </tr>\n",
       "  </thead>\n",
       "  <tbody>\n",
       "    <tr>\n",
       "      <th>Anne</th>\n",
       "      <td>0</td>\n",
       "      <td>1</td>\n",
       "      <td>2</td>\n",
       "    </tr>\n",
       "    <tr>\n",
       "      <th>John</th>\n",
       "      <td>3</td>\n",
       "      <td>5</td>\n",
       "      <td>7</td>\n",
       "    </tr>\n",
       "    <tr>\n",
       "      <th>Mary</th>\n",
       "      <td>9</td>\n",
       "      <td>12</td>\n",
       "      <td>15</td>\n",
       "    </tr>\n",
       "    <tr>\n",
       "      <th>Zach</th>\n",
       "      <td>18</td>\n",
       "      <td>22</td>\n",
       "      <td>26</td>\n",
       "    </tr>\n",
       "  </tbody>\n",
       "</table>\n",
       "</div>"
      ],
      "text/plain": [
       "       a   c   d\n",
       "Anne   0   1   2\n",
       "John   3   5   7\n",
       "Mary   9  12  15\n",
       "Zach  18  22  26"
      ]
     },
     "execution_count": 54,
     "metadata": {},
     "output_type": "execute_result"
    }
   ],
   "source": [
    "# Cumulative sums\n",
    "df2.cumsum(axis=0)"
   ]
  },
  {
   "cell_type": "markdown",
   "metadata": {},
   "source": [
    "Other functions that are available include:\n",
    "  * count - count non-NA values\n",
    "  * min/max\n",
    "  * argmin, argmax - location of min/max value (Series)\n",
    "  * idxmin, idxmax - index values of min/max (DataFrame)\n",
    "  * sum, mean, var, std\n",
    "  * cumsum, cumprod, cummin, cummax - cumulative"
   ]
  },
  {
   "cell_type": "markdown",
   "metadata": {},
   "source": [
    "## Sorting and Rank\n",
    "\n",
    "Sorting can be done on rows (index) and columns.\n",
    "\n",
    "  * sort_index\n",
    "  * sort_values\n",
    "  "
   ]
  },
  {
   "cell_type": "code",
   "execution_count": 55,
   "metadata": {
    "collapsed": false
   },
   "outputs": [
    {
     "data": {
      "text/html": [
       "<div>\n",
       "<table border=\"1\" class=\"dataframe\">\n",
       "  <thead>\n",
       "    <tr style=\"text-align: right;\">\n",
       "      <th></th>\n",
       "      <th>A</th>\n",
       "      <th>B</th>\n",
       "      <th>C</th>\n",
       "      <th>D</th>\n",
       "      <th>E</th>\n",
       "      <th>F</th>\n",
       "      <th>G</th>\n",
       "    </tr>\n",
       "  </thead>\n",
       "  <tbody>\n",
       "    <tr>\n",
       "      <th>first</th>\n",
       "      <td>28</td>\n",
       "      <td>0.502822</td>\n",
       "      <td>0.146696</td>\n",
       "      <td>John</td>\n",
       "      <td>500</td>\n",
       "      <td>5.291503</td>\n",
       "      <td>3.427644</td>\n",
       "    </tr>\n",
       "    <tr>\n",
       "      <th>second</th>\n",
       "      <td>33</td>\n",
       "      <td>0.058800</td>\n",
       "      <td>0.599917</td>\n",
       "      <td>Mary</td>\n",
       "      <td>500</td>\n",
       "      <td>5.744563</td>\n",
       "      <td>0.098014</td>\n",
       "    </tr>\n",
       "    <tr>\n",
       "      <th>third</th>\n",
       "      <td>36</td>\n",
       "      <td>0.198877</td>\n",
       "      <td>0.099388</td>\n",
       "      <td>Jane</td>\n",
       "      <td>500</td>\n",
       "      <td>6.000000</td>\n",
       "      <td>2.001006</td>\n",
       "    </tr>\n",
       "  </tbody>\n",
       "</table>\n",
       "</div>"
      ],
      "text/plain": [
       "         A         B         C     D    E         F         G\n",
       "first   28  0.502822  0.146696  John  500  5.291503  3.427644\n",
       "second  33  0.058800  0.599917  Mary  500  5.744563  0.098014\n",
       "third   36  0.198877  0.099388  Jane  500  6.000000  2.001006"
      ]
     },
     "execution_count": 55,
     "metadata": {},
     "output_type": "execute_result"
    }
   ],
   "source": [
    "df"
   ]
  },
  {
   "cell_type": "code",
   "execution_count": 56,
   "metadata": {
    "collapsed": false
   },
   "outputs": [
    {
     "data": {
      "text/html": [
       "<div>\n",
       "<table border=\"1\" class=\"dataframe\">\n",
       "  <thead>\n",
       "    <tr style=\"text-align: right;\">\n",
       "      <th></th>\n",
       "      <th>A</th>\n",
       "      <th>B</th>\n",
       "      <th>C</th>\n",
       "      <th>D</th>\n",
       "      <th>E</th>\n",
       "      <th>F</th>\n",
       "      <th>G</th>\n",
       "    </tr>\n",
       "  </thead>\n",
       "  <tbody>\n",
       "    <tr>\n",
       "      <th>third</th>\n",
       "      <td>36</td>\n",
       "      <td>0.198877</td>\n",
       "      <td>0.099388</td>\n",
       "      <td>Jane</td>\n",
       "      <td>500</td>\n",
       "      <td>6.000000</td>\n",
       "      <td>2.001006</td>\n",
       "    </tr>\n",
       "    <tr>\n",
       "      <th>second</th>\n",
       "      <td>33</td>\n",
       "      <td>0.058800</td>\n",
       "      <td>0.599917</td>\n",
       "      <td>Mary</td>\n",
       "      <td>500</td>\n",
       "      <td>5.744563</td>\n",
       "      <td>0.098014</td>\n",
       "    </tr>\n",
       "    <tr>\n",
       "      <th>first</th>\n",
       "      <td>28</td>\n",
       "      <td>0.502822</td>\n",
       "      <td>0.146696</td>\n",
       "      <td>John</td>\n",
       "      <td>500</td>\n",
       "      <td>5.291503</td>\n",
       "      <td>3.427644</td>\n",
       "    </tr>\n",
       "  </tbody>\n",
       "</table>\n",
       "</div>"
      ],
      "text/plain": [
       "         A         B         C     D    E         F         G\n",
       "third   36  0.198877  0.099388  Jane  500  6.000000  2.001006\n",
       "second  33  0.058800  0.599917  Mary  500  5.744563  0.098014\n",
       "first   28  0.502822  0.146696  John  500  5.291503  3.427644"
      ]
     },
     "execution_count": 56,
     "metadata": {},
     "output_type": "execute_result"
    }
   ],
   "source": [
    "# Sort rows\n",
    "df.sort_index(ascending=False)"
   ]
  },
  {
   "cell_type": "code",
   "execution_count": 57,
   "metadata": {
    "collapsed": false
   },
   "outputs": [
    {
     "data": {
      "text/html": [
       "<div>\n",
       "<table border=\"1\" class=\"dataframe\">\n",
       "  <thead>\n",
       "    <tr style=\"text-align: right;\">\n",
       "      <th></th>\n",
       "      <th>A</th>\n",
       "      <th>B</th>\n",
       "      <th>C</th>\n",
       "      <th>D</th>\n",
       "      <th>E</th>\n",
       "      <th>F</th>\n",
       "      <th>G</th>\n",
       "    </tr>\n",
       "  </thead>\n",
       "  <tbody>\n",
       "    <tr>\n",
       "      <th>second</th>\n",
       "      <td>33</td>\n",
       "      <td>0.058800</td>\n",
       "      <td>0.599917</td>\n",
       "      <td>Mary</td>\n",
       "      <td>500</td>\n",
       "      <td>5.744563</td>\n",
       "      <td>0.098014</td>\n",
       "    </tr>\n",
       "    <tr>\n",
       "      <th>third</th>\n",
       "      <td>36</td>\n",
       "      <td>0.198877</td>\n",
       "      <td>0.099388</td>\n",
       "      <td>Jane</td>\n",
       "      <td>500</td>\n",
       "      <td>6.000000</td>\n",
       "      <td>2.001006</td>\n",
       "    </tr>\n",
       "    <tr>\n",
       "      <th>first</th>\n",
       "      <td>28</td>\n",
       "      <td>0.502822</td>\n",
       "      <td>0.146696</td>\n",
       "      <td>John</td>\n",
       "      <td>500</td>\n",
       "      <td>5.291503</td>\n",
       "      <td>3.427644</td>\n",
       "    </tr>\n",
       "  </tbody>\n",
       "</table>\n",
       "</div>"
      ],
      "text/plain": [
       "         A         B         C     D    E         F         G\n",
       "second  33  0.058800  0.599917  Mary  500  5.744563  0.098014\n",
       "third   36  0.198877  0.099388  Jane  500  6.000000  2.001006\n",
       "first   28  0.502822  0.146696  John  500  5.291503  3.427644"
      ]
     },
     "execution_count": 57,
     "metadata": {},
     "output_type": "execute_result"
    }
   ],
   "source": [
    "# Sort rows, based on the values in a column\n",
    "df.sort_values( by='B', ascending=True )"
   ]
  },
  {
   "cell_type": "code",
   "execution_count": 58,
   "metadata": {
    "collapsed": false,
    "scrolled": true
   },
   "outputs": [
    {
     "data": {
      "text/html": [
       "<div>\n",
       "<table border=\"1\" class=\"dataframe\">\n",
       "  <thead>\n",
       "    <tr style=\"text-align: right;\">\n",
       "      <th></th>\n",
       "      <th>G</th>\n",
       "      <th>F</th>\n",
       "      <th>E</th>\n",
       "      <th>D</th>\n",
       "      <th>C</th>\n",
       "      <th>B</th>\n",
       "      <th>A</th>\n",
       "    </tr>\n",
       "  </thead>\n",
       "  <tbody>\n",
       "    <tr>\n",
       "      <th>first</th>\n",
       "      <td>3.427644</td>\n",
       "      <td>5.291503</td>\n",
       "      <td>500</td>\n",
       "      <td>John</td>\n",
       "      <td>0.146696</td>\n",
       "      <td>0.502822</td>\n",
       "      <td>28</td>\n",
       "    </tr>\n",
       "    <tr>\n",
       "      <th>second</th>\n",
       "      <td>0.098014</td>\n",
       "      <td>5.744563</td>\n",
       "      <td>500</td>\n",
       "      <td>Mary</td>\n",
       "      <td>0.599917</td>\n",
       "      <td>0.058800</td>\n",
       "      <td>33</td>\n",
       "    </tr>\n",
       "    <tr>\n",
       "      <th>third</th>\n",
       "      <td>2.001006</td>\n",
       "      <td>6.000000</td>\n",
       "      <td>500</td>\n",
       "      <td>Jane</td>\n",
       "      <td>0.099388</td>\n",
       "      <td>0.198877</td>\n",
       "      <td>36</td>\n",
       "    </tr>\n",
       "  </tbody>\n",
       "</table>\n",
       "</div>"
      ],
      "text/plain": [
       "               G         F    E     D         C         B   A\n",
       "first   3.427644  5.291503  500  John  0.146696  0.502822  28\n",
       "second  0.098014  5.744563  500  Mary  0.599917  0.058800  33\n",
       "third   2.001006  6.000000  500  Jane  0.099388  0.198877  36"
      ]
     },
     "execution_count": 58,
     "metadata": {},
     "output_type": "execute_result"
    }
   ],
   "source": [
    "# Sort columns\n",
    "df.sort_index(ascending=False, axis=1)"
   ]
  },
  {
   "cell_type": "markdown",
   "metadata": {},
   "source": [
    "### Handling missing data\n",
    "\n",
    "Missing data is represented as NaN. There are ways to detect and deal with these\n",
    "values.\n",
    "  * isnull() / notnull() - test for NaN\n",
    "  * dropna() - leave out NaN\n",
    "  * fillna() - replace NaN with a value"
   ]
  },
  {
   "cell_type": "code",
   "execution_count": 59,
   "metadata": {
    "collapsed": false
   },
   "outputs": [
    {
     "data": {
      "text/plain": [
       "0    1.0\n",
       "2    3.5\n",
       "4    7.0\n",
       "dtype: float64"
      ]
     },
     "execution_count": 59,
     "metadata": {},
     "output_type": "execute_result"
    }
   ],
   "source": [
    "from numpy import NaN as NA\n",
    "\n",
    "d = pd.Series( [1, NA, 3.5, NA, 7])\n",
    "\n",
    "d.dropna()"
   ]
  },
  {
   "cell_type": "code",
   "execution_count": 60,
   "metadata": {
    "collapsed": false
   },
   "outputs": [
    {
     "data": {
      "text/plain": [
       "0    1.0\n",
       "2    3.5\n",
       "4    7.0\n",
       "dtype: float64"
      ]
     },
     "execution_count": 60,
     "metadata": {},
     "output_type": "execute_result"
    }
   ],
   "source": [
    "d[d.notnull()]"
   ]
  },
  {
   "cell_type": "code",
   "execution_count": 61,
   "metadata": {
    "collapsed": false
   },
   "outputs": [
    {
     "data": {
      "text/html": [
       "<div>\n",
       "<table border=\"1\" class=\"dataframe\">\n",
       "  <thead>\n",
       "    <tr style=\"text-align: right;\">\n",
       "      <th></th>\n",
       "      <th>0</th>\n",
       "      <th>1</th>\n",
       "      <th>2</th>\n",
       "      <th>3</th>\n",
       "    </tr>\n",
       "  </thead>\n",
       "  <tbody>\n",
       "    <tr>\n",
       "      <th>0</th>\n",
       "      <td>0.400987</td>\n",
       "      <td>0.338926</td>\n",
       "      <td>NaN</td>\n",
       "      <td>NaN</td>\n",
       "    </tr>\n",
       "    <tr>\n",
       "      <th>1</th>\n",
       "      <td>0.469455</td>\n",
       "      <td>0.841674</td>\n",
       "      <td>NaN</td>\n",
       "      <td>0.970510</td>\n",
       "    </tr>\n",
       "    <tr>\n",
       "      <th>2</th>\n",
       "      <td>NaN</td>\n",
       "      <td>0.299822</td>\n",
       "      <td>NaN</td>\n",
       "      <td>0.341086</td>\n",
       "    </tr>\n",
       "  </tbody>\n",
       "</table>\n",
       "</div>"
      ],
      "text/plain": [
       "          0         1   2         3\n",
       "0  0.400987  0.338926 NaN       NaN\n",
       "1  0.469455  0.841674 NaN  0.970510\n",
       "2       NaN  0.299822 NaN  0.341086"
      ]
     },
     "execution_count": 61,
     "metadata": {},
     "output_type": "execute_result"
    }
   ],
   "source": [
    "# dropna on dataframes drops entire rows/columns\n",
    "df = pd.DataFrame( np.random.rand(3,4) )\n",
    "df.ix[:,2] = NA\n",
    "df.ix[0,2:] = NA\n",
    "df.ix[2,0] = NA\n",
    "df"
   ]
  },
  {
   "cell_type": "code",
   "execution_count": 62,
   "metadata": {
    "collapsed": false
   },
   "outputs": [
    {
     "data": {
      "text/html": [
       "<div>\n",
       "<table border=\"1\" class=\"dataframe\">\n",
       "  <thead>\n",
       "    <tr style=\"text-align: right;\">\n",
       "      <th></th>\n",
       "      <th>0</th>\n",
       "      <th>1</th>\n",
       "      <th>3</th>\n",
       "    </tr>\n",
       "  </thead>\n",
       "  <tbody>\n",
       "    <tr>\n",
       "      <th>0</th>\n",
       "      <td>0.400987</td>\n",
       "      <td>0.338926</td>\n",
       "      <td>NaN</td>\n",
       "    </tr>\n",
       "    <tr>\n",
       "      <th>1</th>\n",
       "      <td>0.469455</td>\n",
       "      <td>0.841674</td>\n",
       "      <td>0.970510</td>\n",
       "    </tr>\n",
       "    <tr>\n",
       "      <th>2</th>\n",
       "      <td>NaN</td>\n",
       "      <td>0.299822</td>\n",
       "      <td>0.341086</td>\n",
       "    </tr>\n",
       "  </tbody>\n",
       "</table>\n",
       "</div>"
      ],
      "text/plain": [
       "          0         1         3\n",
       "0  0.400987  0.338926       NaN\n",
       "1  0.469455  0.841674  0.970510\n",
       "2       NaN  0.299822  0.341086"
      ]
     },
     "execution_count": 62,
     "metadata": {},
     "output_type": "execute_result"
    }
   ],
   "source": [
    "# Drop entire row/column (axis) / how=\"all\" or \"any\"\n",
    "df.dropna(axis=1, how=\"all\")"
   ]
  },
  {
   "cell_type": "code",
   "execution_count": 63,
   "metadata": {
    "collapsed": false
   },
   "outputs": [
    {
     "data": {
      "text/html": [
       "<div>\n",
       "<table border=\"1\" class=\"dataframe\">\n",
       "  <thead>\n",
       "    <tr style=\"text-align: right;\">\n",
       "      <th></th>\n",
       "      <th>0</th>\n",
       "      <th>1</th>\n",
       "      <th>2</th>\n",
       "      <th>3</th>\n",
       "    </tr>\n",
       "  </thead>\n",
       "  <tbody>\n",
       "    <tr>\n",
       "      <th>0</th>\n",
       "      <td>0.400987</td>\n",
       "      <td>0.338926</td>\n",
       "      <td>1000.0</td>\n",
       "      <td>1000.000000</td>\n",
       "    </tr>\n",
       "    <tr>\n",
       "      <th>1</th>\n",
       "      <td>0.469455</td>\n",
       "      <td>0.841674</td>\n",
       "      <td>1000.0</td>\n",
       "      <td>0.970510</td>\n",
       "    </tr>\n",
       "    <tr>\n",
       "      <th>2</th>\n",
       "      <td>1000.000000</td>\n",
       "      <td>0.299822</td>\n",
       "      <td>1000.0</td>\n",
       "      <td>0.341086</td>\n",
       "    </tr>\n",
       "  </tbody>\n",
       "</table>\n",
       "</div>"
      ],
      "text/plain": [
       "             0         1       2            3\n",
       "0     0.400987  0.338926  1000.0  1000.000000\n",
       "1     0.469455  0.841674  1000.0     0.970510\n",
       "2  1000.000000  0.299822  1000.0     0.341086"
      ]
     },
     "execution_count": 63,
     "metadata": {},
     "output_type": "execute_result"
    }
   ],
   "source": [
    "# Filling in data\n",
    "\n",
    "df.fillna( 1000 )"
   ]
  },
  {
   "cell_type": "code",
   "execution_count": 64,
   "metadata": {
    "collapsed": false
   },
   "outputs": [
    {
     "data": {
      "text/html": [
       "<div>\n",
       "<table border=\"1\" class=\"dataframe\">\n",
       "  <thead>\n",
       "    <tr style=\"text-align: right;\">\n",
       "      <th></th>\n",
       "      <th>0</th>\n",
       "      <th>1</th>\n",
       "      <th>2</th>\n",
       "      <th>3</th>\n",
       "    </tr>\n",
       "  </thead>\n",
       "  <tbody>\n",
       "    <tr>\n",
       "      <th>0</th>\n",
       "      <td>0.400987</td>\n",
       "      <td>0.338926</td>\n",
       "      <td>NaN</td>\n",
       "      <td>NaN</td>\n",
       "    </tr>\n",
       "    <tr>\n",
       "      <th>1</th>\n",
       "      <td>0.469455</td>\n",
       "      <td>0.841674</td>\n",
       "      <td>0.970510</td>\n",
       "      <td>0.970510</td>\n",
       "    </tr>\n",
       "    <tr>\n",
       "      <th>2</th>\n",
       "      <td>0.299822</td>\n",
       "      <td>0.299822</td>\n",
       "      <td>0.341086</td>\n",
       "      <td>0.341086</td>\n",
       "    </tr>\n",
       "  </tbody>\n",
       "</table>\n",
       "</div>"
      ],
      "text/plain": [
       "          0         1         2         3\n",
       "0  0.400987  0.338926       NaN       NaN\n",
       "1  0.469455  0.841674  0.970510  0.970510\n",
       "2  0.299822  0.299822  0.341086  0.341086"
      ]
     },
     "execution_count": 64,
     "metadata": {},
     "output_type": "execute_result"
    }
   ],
   "source": [
    "# Or fill in with data from the dataframe\n",
    "# Fill data per row or column (axis) \n",
    "# and forward / backward fill (method)\n",
    "df.fillna( axis=1, method=\"bfill\")"
   ]
  },
  {
   "cell_type": "code",
   "execution_count": 65,
   "metadata": {
    "collapsed": false
   },
   "outputs": [
    {
     "data": {
      "text/html": [
       "<div>\n",
       "<table border=\"1\" class=\"dataframe\">\n",
       "  <thead>\n",
       "    <tr style=\"text-align: right;\">\n",
       "      <th></th>\n",
       "      <th>0</th>\n",
       "      <th>1</th>\n",
       "      <th>2</th>\n",
       "      <th>3</th>\n",
       "    </tr>\n",
       "  </thead>\n",
       "  <tbody>\n",
       "    <tr>\n",
       "      <th>0</th>\n",
       "      <td>0.400987</td>\n",
       "      <td>0.338926</td>\n",
       "      <td>NaN</td>\n",
       "      <td>0.655798</td>\n",
       "    </tr>\n",
       "    <tr>\n",
       "      <th>1</th>\n",
       "      <td>0.469455</td>\n",
       "      <td>0.841674</td>\n",
       "      <td>NaN</td>\n",
       "      <td>0.970510</td>\n",
       "    </tr>\n",
       "    <tr>\n",
       "      <th>2</th>\n",
       "      <td>0.435221</td>\n",
       "      <td>0.299822</td>\n",
       "      <td>NaN</td>\n",
       "      <td>0.341086</td>\n",
       "    </tr>\n",
       "  </tbody>\n",
       "</table>\n",
       "</div>"
      ],
      "text/plain": [
       "          0         1   2         3\n",
       "0  0.400987  0.338926 NaN  0.655798\n",
       "1  0.469455  0.841674 NaN  0.970510\n",
       "2  0.435221  0.299822 NaN  0.341086"
      ]
     },
     "execution_count": 65,
     "metadata": {},
     "output_type": "execute_result"
    }
   ],
   "source": [
    "# Use a mean value (of each column)\n",
    "df.fillna(df.mean())"
   ]
  },
  {
   "cell_type": "markdown",
   "metadata": {},
   "source": [
    "## Data Reading / Writing (Ch 6)\n",
    "\n",
    "There are easy ways to read/write dataframes. Read the manual for all the possible\n",
    "arguments that you can provide to easy parsing the data.\n",
    "\n",
    "  * read_csv\n",
    "  * read_excel\n",
    "  * read_clipboard\n",
    "  \n",
    "  * to_csv\n",
    "  * to_excel\n",
    "  * to_clipboard"
   ]
  },
  {
   "cell_type": "code",
   "execution_count": 66,
   "metadata": {
    "collapsed": false
   },
   "outputs": [
    {
     "name": "stderr",
     "output_type": "stream",
     "text": [
      "'cat' is not recognized as an internal or external command,\n",
      "operable program or batch file.\n"
     ]
    }
   ],
   "source": [
    "# On Windows: !type 'csv_example.csv'\n",
    "!cat 'csv_example.csv'"
   ]
  },
  {
   "cell_type": "code",
   "execution_count": 67,
   "metadata": {
    "collapsed": false
   },
   "outputs": [
    {
     "data": {
      "text/html": [
       "<div>\n",
       "<table border=\"1\" class=\"dataframe\">\n",
       "  <thead>\n",
       "    <tr style=\"text-align: right;\">\n",
       "      <th></th>\n",
       "      <th>Name</th>\n",
       "      <th>City</th>\n",
       "      <th>Age</th>\n",
       "    </tr>\n",
       "  </thead>\n",
       "  <tbody>\n",
       "    <tr>\n",
       "      <th>0</th>\n",
       "      <td>John</td>\n",
       "      <td>Amsterdam</td>\n",
       "      <td>30</td>\n",
       "    </tr>\n",
       "    <tr>\n",
       "      <th>1</th>\n",
       "      <td>Anne</td>\n",
       "      <td>Utrecht</td>\n",
       "      <td>25</td>\n",
       "    </tr>\n",
       "    <tr>\n",
       "      <th>2</th>\n",
       "      <td>Peter</td>\n",
       "      <td>Maastricht</td>\n",
       "      <td>45</td>\n",
       "    </tr>\n",
       "    <tr>\n",
       "      <th>3</th>\n",
       "      <td>Mary</td>\n",
       "      <td>Rotterdam</td>\n",
       "      <td>36</td>\n",
       "    </tr>\n",
       "    <tr>\n",
       "      <th>4</th>\n",
       "      <td>Zach</td>\n",
       "      <td>Groningen</td>\n",
       "      <td>26</td>\n",
       "    </tr>\n",
       "    <tr>\n",
       "      <th>5</th>\n",
       "      <td>Bob</td>\n",
       "      <td>Utrecht</td>\n",
       "      <td>18</td>\n",
       "    </tr>\n",
       "  </tbody>\n",
       "</table>\n",
       "</div>"
      ],
      "text/plain": [
       "    Name        City  Age\n",
       "0   John   Amsterdam   30\n",
       "1   Anne     Utrecht   25\n",
       "2  Peter  Maastricht   45\n",
       "3   Mary   Rotterdam   36\n",
       "4   Zach   Groningen   26\n",
       "5    Bob     Utrecht   18"
      ]
     },
     "execution_count": 67,
     "metadata": {},
     "output_type": "execute_result"
    }
   ],
   "source": [
    "# Also supports URLs directly.\n",
    "df = pd.read_csv('csv_example.csv', delimiter=',', skipinitialspace=True)\n",
    "df"
   ]
  },
  {
   "cell_type": "markdown",
   "metadata": {},
   "source": [
    "## Data Wrangling (Ch 7)\n",
    "\n",
    "Combining and merging data sets\n",
    "\n",
    "  * merge\n",
    "  * concat\n",
    "  "
   ]
  },
  {
   "cell_type": "code",
   "execution_count": 68,
   "metadata": {
    "collapsed": false,
    "scrolled": true
   },
   "outputs": [
    {
     "data": {
      "text/html": [
       "<div>\n",
       "<table border=\"1\" class=\"dataframe\">\n",
       "  <thead>\n",
       "    <tr style=\"text-align: right;\">\n",
       "      <th></th>\n",
       "      <th>City</th>\n",
       "      <th>Province</th>\n",
       "    </tr>\n",
       "  </thead>\n",
       "  <tbody>\n",
       "    <tr>\n",
       "      <th>0</th>\n",
       "      <td>Amsterdam</td>\n",
       "      <td>NH</td>\n",
       "    </tr>\n",
       "    <tr>\n",
       "      <th>1</th>\n",
       "      <td>Utrecht</td>\n",
       "      <td>UT</td>\n",
       "    </tr>\n",
       "    <tr>\n",
       "      <th>2</th>\n",
       "      <td>Haarlem</td>\n",
       "      <td>NH</td>\n",
       "    </tr>\n",
       "    <tr>\n",
       "      <th>3</th>\n",
       "      <td>Maastricht</td>\n",
       "      <td>LI</td>\n",
       "    </tr>\n",
       "    <tr>\n",
       "      <th>4</th>\n",
       "      <td>Rotterdam</td>\n",
       "      <td>ZH</td>\n",
       "    </tr>\n",
       "    <tr>\n",
       "      <th>5</th>\n",
       "      <td>Groningen</td>\n",
       "      <td>GR</td>\n",
       "    </tr>\n",
       "    <tr>\n",
       "      <th>6</th>\n",
       "      <td>Assen</td>\n",
       "      <td>DR</td>\n",
       "    </tr>\n",
       "    <tr>\n",
       "      <th>7</th>\n",
       "      <td>The Hague</td>\n",
       "      <td>ZH</td>\n",
       "    </tr>\n",
       "  </tbody>\n",
       "</table>\n",
       "</div>"
      ],
      "text/plain": [
       "         City Province\n",
       "0   Amsterdam       NH\n",
       "1     Utrecht       UT\n",
       "2     Haarlem       NH\n",
       "3  Maastricht       LI\n",
       "4   Rotterdam       ZH\n",
       "5   Groningen       GR\n",
       "6       Assen       DR\n",
       "7   The Hague       ZH"
      ]
     },
     "execution_count": 68,
     "metadata": {},
     "output_type": "execute_result"
    }
   ],
   "source": [
    "city_names = ['Amsterdam','Utrecht','Haarlem','Maastricht',\n",
    "              'Rotterdam','Groningen','Assen','The Hague']\n",
    "province_names = ['NH','UT','NH','LI','ZH','GR','DR','ZH']\n",
    "\n",
    "\n",
    "cities = pd.DataFrame( { 'City':city_names, 'Province':province_names })\n",
    "cities"
   ]
  },
  {
   "cell_type": "code",
   "execution_count": 69,
   "metadata": {
    "collapsed": false,
    "scrolled": true
   },
   "outputs": [
    {
     "data": {
      "text/html": [
       "<div>\n",
       "<table border=\"1\" class=\"dataframe\">\n",
       "  <thead>\n",
       "    <tr style=\"text-align: right;\">\n",
       "      <th></th>\n",
       "      <th>Name</th>\n",
       "      <th>City</th>\n",
       "      <th>Age</th>\n",
       "    </tr>\n",
       "  </thead>\n",
       "  <tbody>\n",
       "    <tr>\n",
       "      <th>0</th>\n",
       "      <td>Alice</td>\n",
       "      <td>Haarlem</td>\n",
       "      <td>23</td>\n",
       "    </tr>\n",
       "    <tr>\n",
       "      <th>1</th>\n",
       "      <td>Steven</td>\n",
       "      <td>Assen</td>\n",
       "      <td>33</td>\n",
       "    </tr>\n",
       "    <tr>\n",
       "      <th>2</th>\n",
       "      <td>Karen</td>\n",
       "      <td>Rotterdam</td>\n",
       "      <td>40</td>\n",
       "    </tr>\n",
       "  </tbody>\n",
       "</table>\n",
       "</div>"
      ],
      "text/plain": [
       "     Name       City  Age\n",
       "0   Alice    Haarlem   23\n",
       "1  Steven      Assen   33\n",
       "2   Karen  Rotterdam   40"
      ]
     },
     "execution_count": 69,
     "metadata": {},
     "output_type": "execute_result"
    }
   ],
   "source": [
    "df2 = pd.DataFrame( {'Name':['Alice', 'Steven', 'Karen'],\n",
    "                     'City':['Haarlem','Assen','Rotterdam'],\n",
    "                     'Age':[23,33,40]}, columns=[\"Name\",\"City\",\"Age\"])\n",
    "df2"
   ]
  },
  {
   "cell_type": "code",
   "execution_count": 70,
   "metadata": {
    "collapsed": false
   },
   "outputs": [
    {
     "data": {
      "text/html": [
       "<div>\n",
       "<table border=\"1\" class=\"dataframe\">\n",
       "  <thead>\n",
       "    <tr style=\"text-align: right;\">\n",
       "      <th></th>\n",
       "      <th>Name</th>\n",
       "      <th>City</th>\n",
       "      <th>Age</th>\n",
       "    </tr>\n",
       "  </thead>\n",
       "  <tbody>\n",
       "    <tr>\n",
       "      <th>0</th>\n",
       "      <td>John</td>\n",
       "      <td>Amsterdam</td>\n",
       "      <td>30</td>\n",
       "    </tr>\n",
       "    <tr>\n",
       "      <th>1</th>\n",
       "      <td>Anne</td>\n",
       "      <td>Utrecht</td>\n",
       "      <td>25</td>\n",
       "    </tr>\n",
       "    <tr>\n",
       "      <th>2</th>\n",
       "      <td>Peter</td>\n",
       "      <td>Maastricht</td>\n",
       "      <td>45</td>\n",
       "    </tr>\n",
       "    <tr>\n",
       "      <th>3</th>\n",
       "      <td>Mary</td>\n",
       "      <td>Rotterdam</td>\n",
       "      <td>36</td>\n",
       "    </tr>\n",
       "    <tr>\n",
       "      <th>4</th>\n",
       "      <td>Zach</td>\n",
       "      <td>Groningen</td>\n",
       "      <td>26</td>\n",
       "    </tr>\n",
       "    <tr>\n",
       "      <th>5</th>\n",
       "      <td>Bob</td>\n",
       "      <td>Utrecht</td>\n",
       "      <td>18</td>\n",
       "    </tr>\n",
       "    <tr>\n",
       "      <th>6</th>\n",
       "      <td>Alice</td>\n",
       "      <td>Haarlem</td>\n",
       "      <td>23</td>\n",
       "    </tr>\n",
       "    <tr>\n",
       "      <th>7</th>\n",
       "      <td>Steven</td>\n",
       "      <td>Assen</td>\n",
       "      <td>33</td>\n",
       "    </tr>\n",
       "    <tr>\n",
       "      <th>8</th>\n",
       "      <td>Karen</td>\n",
       "      <td>Rotterdam</td>\n",
       "      <td>40</td>\n",
       "    </tr>\n",
       "  </tbody>\n",
       "</table>\n",
       "</div>"
      ],
      "text/plain": [
       "     Name        City  Age\n",
       "0    John   Amsterdam   30\n",
       "1    Anne     Utrecht   25\n",
       "2   Peter  Maastricht   45\n",
       "3    Mary   Rotterdam   36\n",
       "4    Zach   Groningen   26\n",
       "5     Bob     Utrecht   18\n",
       "6   Alice     Haarlem   23\n",
       "7  Steven       Assen   33\n",
       "8   Karen   Rotterdam   40"
      ]
     },
     "execution_count": 70,
     "metadata": {},
     "output_type": "execute_result"
    }
   ],
   "source": [
    "# Concat will concatenate 2 dataframes\n",
    "# Watch the index!\n",
    "people = pd.concat( [df,df2], ignore_index=True, axis=0)\n",
    "people"
   ]
  },
  {
   "cell_type": "markdown",
   "metadata": {},
   "source": [
    "Merge will combine 2 dataframes by combining rows from both dataframes if they match\n",
    "on a certain column value (or set of column values).\n",
    "\n",
    "What happens to rows in either dataframe if no matching row is found depends on the \"how\" argument:\n",
    "  * inner: only rows that match will be in the result (default)\n",
    "  * outer: rows in either dataframe that don't match are also included in the result (with NaN)\n",
    "  * left: rows in the left dataframe that don't match are also included in the result\n",
    "  * right: rows in the right dataframe that don't match are also included in the result\n"
   ]
  },
  {
   "cell_type": "code",
   "execution_count": 71,
   "metadata": {
    "collapsed": false,
    "scrolled": true
   },
   "outputs": [
    {
     "data": {
      "text/html": [
       "<div>\n",
       "<table border=\"1\" class=\"dataframe\">\n",
       "  <thead>\n",
       "    <tr style=\"text-align: right;\">\n",
       "      <th></th>\n",
       "      <th>Name</th>\n",
       "      <th>City</th>\n",
       "      <th>Age</th>\n",
       "      <th>Province</th>\n",
       "    </tr>\n",
       "  </thead>\n",
       "  <tbody>\n",
       "    <tr>\n",
       "      <th>0</th>\n",
       "      <td>John</td>\n",
       "      <td>Amsterdam</td>\n",
       "      <td>30</td>\n",
       "      <td>NH</td>\n",
       "    </tr>\n",
       "    <tr>\n",
       "      <th>1</th>\n",
       "      <td>Anne</td>\n",
       "      <td>Utrecht</td>\n",
       "      <td>25</td>\n",
       "      <td>UT</td>\n",
       "    </tr>\n",
       "    <tr>\n",
       "      <th>2</th>\n",
       "      <td>Bob</td>\n",
       "      <td>Utrecht</td>\n",
       "      <td>18</td>\n",
       "      <td>UT</td>\n",
       "    </tr>\n",
       "    <tr>\n",
       "      <th>3</th>\n",
       "      <td>Peter</td>\n",
       "      <td>Maastricht</td>\n",
       "      <td>45</td>\n",
       "      <td>LI</td>\n",
       "    </tr>\n",
       "    <tr>\n",
       "      <th>4</th>\n",
       "      <td>Mary</td>\n",
       "      <td>Rotterdam</td>\n",
       "      <td>36</td>\n",
       "      <td>ZH</td>\n",
       "    </tr>\n",
       "    <tr>\n",
       "      <th>5</th>\n",
       "      <td>Karen</td>\n",
       "      <td>Rotterdam</td>\n",
       "      <td>40</td>\n",
       "      <td>ZH</td>\n",
       "    </tr>\n",
       "    <tr>\n",
       "      <th>6</th>\n",
       "      <td>Zach</td>\n",
       "      <td>Groningen</td>\n",
       "      <td>26</td>\n",
       "      <td>GR</td>\n",
       "    </tr>\n",
       "    <tr>\n",
       "      <th>7</th>\n",
       "      <td>Alice</td>\n",
       "      <td>Haarlem</td>\n",
       "      <td>23</td>\n",
       "      <td>NH</td>\n",
       "    </tr>\n",
       "    <tr>\n",
       "      <th>8</th>\n",
       "      <td>Steven</td>\n",
       "      <td>Assen</td>\n",
       "      <td>33</td>\n",
       "      <td>DR</td>\n",
       "    </tr>\n",
       "  </tbody>\n",
       "</table>\n",
       "</div>"
      ],
      "text/plain": [
       "     Name        City  Age Province\n",
       "0    John   Amsterdam   30       NH\n",
       "1    Anne     Utrecht   25       UT\n",
       "2     Bob     Utrecht   18       UT\n",
       "3   Peter  Maastricht   45       LI\n",
       "4    Mary   Rotterdam   36       ZH\n",
       "5   Karen   Rotterdam   40       ZH\n",
       "6    Zach   Groningen   26       GR\n",
       "7   Alice     Haarlem   23       NH\n",
       "8  Steven       Assen   33       DR"
      ]
     },
     "execution_count": 71,
     "metadata": {},
     "output_type": "execute_result"
    }
   ],
   "source": [
    "# We can combine people and cities... merge\n",
    "# on - what columns should match?\n",
    "# how - what should be done with non-matching entries? (left, right, outer, inner)\n",
    "pd.merge( people, cities, on=\"City\", how=\"inner\" )\n"
   ]
  },
  {
   "cell_type": "markdown",
   "metadata": {},
   "source": [
    "## Plotting (Ch 8)\n",
    "\n",
    "matplotlib can create plots. However, Series and DataFrames provide shortcuts\n",
    "to calling matplotlib.\n",
    "\n",
    "  * Series.plot\n",
    "  * Dataframe.plot\n",
    "  \n",
    "Any arguments are passed through to matplotlib.\n"
   ]
  },
  {
   "cell_type": "code",
   "execution_count": 72,
   "metadata": {
    "collapsed": false
   },
   "outputs": [
    {
     "data": {
      "text/plain": [
       "<matplotlib.axes._subplots.AxesSubplot at 0x1f9a727e438>"
      ]
     },
     "execution_count": 72,
     "metadata": {},
     "output_type": "execute_result"
    },
    {
     "data": {
      "image/png": "[encoded data removed]",
      "text/plain": [
       "<matplotlib.figure.Figure at 0x1f9a7263588>"
      ]
     },
     "metadata": {},
     "output_type": "display_data"
    }
   ],
   "source": [
    "s = pd.Series( np.random.rand(10).cumsum() )\n",
    "s.index.name=\"X-Axis-label\"\n",
    "s.plot(kind=\"line\", title=\"Series Plot\", label=\"line\", legend=True )"
   ]
  },
  {
   "cell_type": "code",
   "execution_count": 73,
   "metadata": {
    "collapsed": false
   },
   "outputs": [
    {
     "data": {
      "text/html": [
       "<div>\n",
       "<table border=\"1\" class=\"dataframe\">\n",
       "  <thead>\n",
       "    <tr style=\"text-align: right;\">\n",
       "      <th>Column Names</th>\n",
       "      <th>A</th>\n",
       "      <th>B</th>\n",
       "      <th>C</th>\n",
       "      <th>D</th>\n",
       "    </tr>\n",
       "    <tr>\n",
       "      <th>Index Name</th>\n",
       "      <th></th>\n",
       "      <th></th>\n",
       "      <th></th>\n",
       "      <th></th>\n",
       "    </tr>\n",
       "  </thead>\n",
       "  <tbody>\n",
       "    <tr>\n",
       "      <th>0</th>\n",
       "      <td>-0.277132</td>\n",
       "      <td>1.622261</td>\n",
       "      <td>0.266663</td>\n",
       "      <td>0.256330</td>\n",
       "    </tr>\n",
       "    <tr>\n",
       "      <th>10</th>\n",
       "      <td>0.773031</td>\n",
       "      <td>1.984252</td>\n",
       "      <td>-0.965572</td>\n",
       "      <td>0.838083</td>\n",
       "    </tr>\n",
       "    <tr>\n",
       "      <th>20</th>\n",
       "      <td>0.907624</td>\n",
       "      <td>1.960571</td>\n",
       "      <td>-0.489330</td>\n",
       "      <td>1.402876</td>\n",
       "    </tr>\n",
       "    <tr>\n",
       "      <th>30</th>\n",
       "      <td>1.998059</td>\n",
       "      <td>4.621441</td>\n",
       "      <td>-0.197663</td>\n",
       "      <td>1.170443</td>\n",
       "    </tr>\n",
       "    <tr>\n",
       "      <th>40</th>\n",
       "      <td>2.568558</td>\n",
       "      <td>3.716339</td>\n",
       "      <td>-0.508828</td>\n",
       "      <td>2.351296</td>\n",
       "    </tr>\n",
       "    <tr>\n",
       "      <th>50</th>\n",
       "      <td>3.868183</td>\n",
       "      <td>4.005405</td>\n",
       "      <td>0.837007</td>\n",
       "      <td>1.849780</td>\n",
       "    </tr>\n",
       "    <tr>\n",
       "      <th>60</th>\n",
       "      <td>4.672623</td>\n",
       "      <td>4.408270</td>\n",
       "      <td>1.881386</td>\n",
       "      <td>2.015442</td>\n",
       "    </tr>\n",
       "    <tr>\n",
       "      <th>70</th>\n",
       "      <td>5.274628</td>\n",
       "      <td>5.200597</td>\n",
       "      <td>-0.483123</td>\n",
       "      <td>2.255120</td>\n",
       "    </tr>\n",
       "    <tr>\n",
       "      <th>80</th>\n",
       "      <td>5.043719</td>\n",
       "      <td>4.198476</td>\n",
       "      <td>0.453307</td>\n",
       "      <td>4.767578</td>\n",
       "    </tr>\n",
       "    <tr>\n",
       "      <th>90</th>\n",
       "      <td>4.692032</td>\n",
       "      <td>3.116860</td>\n",
       "      <td>2.539092</td>\n",
       "      <td>3.681809</td>\n",
       "    </tr>\n",
       "  </tbody>\n",
       "</table>\n",
       "</div>"
      ],
      "text/plain": [
       "Column Names         A         B         C         D\n",
       "Index Name                                          \n",
       "0            -0.277132  1.622261  0.266663  0.256330\n",
       "10            0.773031  1.984252 -0.965572  0.838083\n",
       "20            0.907624  1.960571 -0.489330  1.402876\n",
       "30            1.998059  4.621441 -0.197663  1.170443\n",
       "40            2.568558  3.716339 -0.508828  2.351296\n",
       "50            3.868183  4.005405  0.837007  1.849780\n",
       "60            4.672623  4.408270  1.881386  2.015442\n",
       "70            5.274628  5.200597 -0.483123  2.255120\n",
       "80            5.043719  4.198476  0.453307  4.767578\n",
       "90            4.692032  3.116860  2.539092  3.681809"
      ]
     },
     "execution_count": 73,
     "metadata": {},
     "output_type": "execute_result"
    }
   ],
   "source": [
    "# Create a random dataframe to test with\n",
    "df = pd.DataFrame( np.random.randn(10,4).cumsum(axis=0), columns=list(\"ABCD\"),\n",
    "    index=np.arange(0,100,10))\n",
    "df.index.name=\"Index Name\"\n",
    "df.columns.name=\"Column Names\"\n",
    "df"
   ]
  },
  {
   "cell_type": "code",
   "execution_count": 74,
   "metadata": {
    "collapsed": false
   },
   "outputs": [
    {
     "data": {
      "text/plain": [
       "<matplotlib.axes._subplots.AxesSubplot at 0x1f9a44ae400>"
      ]
     },
     "execution_count": 74,
     "metadata": {},
     "output_type": "execute_result"
    },
    {
     "data": {
      "image/png": "[encoded data removed]",
      "text/plain": [
       "<matplotlib.figure.Figure at 0x1f9a6dab3c8>"
      ]
     },
     "metadata": {},
     "output_type": "display_data"
    }
   ],
   "source": [
    "df.plot(kind=\"line\", style=\"-o\", title=\"DataFrame Plot\")"
   ]
  },
  {
   "cell_type": "markdown",
   "metadata": {},
   "source": [
    "## Example: students and grades\n",
    "\n"
   ]
  },
  {
   "cell_type": "code",
   "execution_count": 75,
   "metadata": {
    "collapsed": false,
    "scrolled": true
   },
   "outputs": [
    {
     "data": {
      "text/html": [
       "<div>\n",
       "<table border=\"1\" class=\"dataframe\">\n",
       "  <thead>\n",
       "    <tr style=\"text-align: right;\">\n",
       "      <th></th>\n",
       "      <th>Name</th>\n",
       "      <th>Studnr</th>\n",
       "    </tr>\n",
       "  </thead>\n",
       "  <tbody>\n",
       "    <tr>\n",
       "      <th>0</th>\n",
       "      <td>John</td>\n",
       "      <td>203588</td>\n",
       "    </tr>\n",
       "    <tr>\n",
       "      <th>1</th>\n",
       "      <td>Mary</td>\n",
       "      <td>190998</td>\n",
       "    </tr>\n",
       "    <tr>\n",
       "      <th>2</th>\n",
       "      <td>Jane</td>\n",
       "      <td>876189</td>\n",
       "    </tr>\n",
       "    <tr>\n",
       "      <th>3</th>\n",
       "      <td>Anne</td>\n",
       "      <td>486857</td>\n",
       "    </tr>\n",
       "    <tr>\n",
       "      <th>4</th>\n",
       "      <td>Peter</td>\n",
       "      <td>812017</td>\n",
       "    </tr>\n",
       "    <tr>\n",
       "      <th>5</th>\n",
       "      <td>Bob</td>\n",
       "      <td>193971</td>\n",
       "    </tr>\n",
       "    <tr>\n",
       "      <th>6</th>\n",
       "      <td>Carol</td>\n",
       "      <td>361935</td>\n",
       "    </tr>\n",
       "    <tr>\n",
       "      <th>7</th>\n",
       "      <td>Zach</td>\n",
       "      <td>360451</td>\n",
       "    </tr>\n",
       "    <tr>\n",
       "      <th>8</th>\n",
       "      <td>David</td>\n",
       "      <td>180586</td>\n",
       "    </tr>\n",
       "    <tr>\n",
       "      <th>9</th>\n",
       "      <td>Iris</td>\n",
       "      <td>298910</td>\n",
       "    </tr>\n",
       "    <tr>\n",
       "      <th>10</th>\n",
       "      <td>Sarah</td>\n",
       "      <td>883497</td>\n",
       "    </tr>\n",
       "    <tr>\n",
       "      <th>11</th>\n",
       "      <td>Charlie</td>\n",
       "      <td>817299</td>\n",
       "    </tr>\n",
       "    <tr>\n",
       "      <th>12</th>\n",
       "      <td>Eve</td>\n",
       "      <td>562673</td>\n",
       "    </tr>\n",
       "    <tr>\n",
       "      <th>13</th>\n",
       "      <td>George</td>\n",
       "      <td>975528</td>\n",
       "    </tr>\n",
       "  </tbody>\n",
       "</table>\n",
       "</div>"
      ],
      "text/plain": [
       "       Name  Studnr\n",
       "0      John  203588\n",
       "1      Mary  190998\n",
       "2      Jane  876189\n",
       "3      Anne  486857\n",
       "4     Peter  812017\n",
       "5       Bob  193971\n",
       "6     Carol  361935\n",
       "7      Zach  360451\n",
       "8     David  180586\n",
       "9      Iris  298910\n",
       "10    Sarah  883497\n",
       "11  Charlie  817299\n",
       "12      Eve  562673\n",
       "13   George  975528"
      ]
     },
     "execution_count": 75,
     "metadata": {},
     "output_type": "execute_result"
    }
   ],
   "source": [
    "# Read a file with student names and student numbers\n",
    "student = pd.read_csv(\"students.csv\")\n",
    "student"
   ]
  },
  {
   "cell_type": "code",
   "execution_count": 76,
   "metadata": {
    "collapsed": false
   },
   "outputs": [
    {
     "data": {
      "text/html": [
       "<div>\n",
       "<table border=\"1\" class=\"dataframe\">\n",
       "  <thead>\n",
       "    <tr style=\"text-align: right;\">\n",
       "      <th></th>\n",
       "      <th>Studnr</th>\n",
       "      <th>Course</th>\n",
       "      <th>Test1</th>\n",
       "      <th>Test2</th>\n",
       "      <th>Test3</th>\n",
       "      <th>Test4</th>\n",
       "    </tr>\n",
       "  </thead>\n",
       "  <tbody>\n",
       "    <tr>\n",
       "      <th>0</th>\n",
       "      <td>298910.0</td>\n",
       "      <td>EPA101</td>\n",
       "      <td>5.1</td>\n",
       "      <td>9.1</td>\n",
       "      <td>8.7</td>\n",
       "      <td>6.8</td>\n",
       "    </tr>\n",
       "    <tr>\n",
       "      <th>1</th>\n",
       "      <td>361935.0</td>\n",
       "      <td>EPA101</td>\n",
       "      <td>6.7</td>\n",
       "      <td>6.5</td>\n",
       "      <td>NaN</td>\n",
       "      <td>7.4</td>\n",
       "    </tr>\n",
       "    <tr>\n",
       "      <th>2</th>\n",
       "      <td>486857.0</td>\n",
       "      <td>EPA101</td>\n",
       "      <td>9.2</td>\n",
       "      <td>NaN</td>\n",
       "      <td>9.0</td>\n",
       "      <td>6.9</td>\n",
       "    </tr>\n",
       "    <tr>\n",
       "      <th>3</th>\n",
       "      <td>876189.0</td>\n",
       "      <td>EPA101</td>\n",
       "      <td>4.9</td>\n",
       "      <td>6.3</td>\n",
       "      <td>9.9</td>\n",
       "      <td>6.9</td>\n",
       "    </tr>\n",
       "    <tr>\n",
       "      <th>4</th>\n",
       "      <td>883497.0</td>\n",
       "      <td>EPA101</td>\n",
       "      <td>9.3</td>\n",
       "      <td>8.5</td>\n",
       "      <td>4.4</td>\n",
       "      <td>NaN</td>\n",
       "    </tr>\n",
       "    <tr>\n",
       "      <th>5</th>\n",
       "      <td>812017.0</td>\n",
       "      <td>EPA101</td>\n",
       "      <td>8.4</td>\n",
       "      <td>5.7</td>\n",
       "      <td>8.1</td>\n",
       "      <td>4.7</td>\n",
       "    </tr>\n",
       "    <tr>\n",
       "      <th>6</th>\n",
       "      <td>193971.0</td>\n",
       "      <td>EPA101</td>\n",
       "      <td>9.1</td>\n",
       "      <td>NaN</td>\n",
       "      <td>5.7</td>\n",
       "      <td>8.2</td>\n",
       "    </tr>\n",
       "    <tr>\n",
       "      <th>7</th>\n",
       "      <td>975528.0</td>\n",
       "      <td>EPA101</td>\n",
       "      <td>9.2</td>\n",
       "      <td>4.2</td>\n",
       "      <td>6.9</td>\n",
       "      <td>7.4</td>\n",
       "    </tr>\n",
       "    <tr>\n",
       "      <th>8</th>\n",
       "      <td>817299.0</td>\n",
       "      <td>EPA101</td>\n",
       "      <td>4.5</td>\n",
       "      <td>5.6</td>\n",
       "      <td>6.0</td>\n",
       "      <td>8.9</td>\n",
       "    </tr>\n",
       "    <tr>\n",
       "      <th>9</th>\n",
       "      <td>562673.0</td>\n",
       "      <td>EPA101</td>\n",
       "      <td>8.1</td>\n",
       "      <td>9.0</td>\n",
       "      <td>5.1</td>\n",
       "      <td>4.1</td>\n",
       "    </tr>\n",
       "    <tr>\n",
       "      <th>10</th>\n",
       "      <td>190998.0</td>\n",
       "      <td>EPA101</td>\n",
       "      <td>7.8</td>\n",
       "      <td>9.7</td>\n",
       "      <td>4.8</td>\n",
       "      <td>8.5</td>\n",
       "    </tr>\n",
       "    <tr>\n",
       "      <th>11</th>\n",
       "      <td>360451.0</td>\n",
       "      <td>EPA101</td>\n",
       "      <td>4.1</td>\n",
       "      <td>5.1</td>\n",
       "      <td>NaN</td>\n",
       "      <td>5.2</td>\n",
       "    </tr>\n",
       "    <tr>\n",
       "      <th>12</th>\n",
       "      <td>203588.0</td>\n",
       "      <td>EPA101</td>\n",
       "      <td>NaN</td>\n",
       "      <td>7.3</td>\n",
       "      <td>7.2</td>\n",
       "      <td>7.4</td>\n",
       "    </tr>\n",
       "    <tr>\n",
       "      <th>13</th>\n",
       "      <td>180586.0</td>\n",
       "      <td>EPA101</td>\n",
       "      <td>NaN</td>\n",
       "      <td>8.2</td>\n",
       "      <td>5.5</td>\n",
       "      <td>NaN</td>\n",
       "    </tr>\n",
       "    <tr>\n",
       "      <th>14</th>\n",
       "      <td>180586.0</td>\n",
       "      <td>EPA202</td>\n",
       "      <td>7.6</td>\n",
       "      <td>8.4</td>\n",
       "      <td>8.5</td>\n",
       "      <td>7.9</td>\n",
       "    </tr>\n",
       "    <tr>\n",
       "      <th>15</th>\n",
       "      <td>812017.0</td>\n",
       "      <td>EPA202</td>\n",
       "      <td>7.8</td>\n",
       "      <td>7.2</td>\n",
       "      <td>4.6</td>\n",
       "      <td>4.3</td>\n",
       "    </tr>\n",
       "    <tr>\n",
       "      <th>16</th>\n",
       "      <td>975528.0</td>\n",
       "      <td>EPA202</td>\n",
       "      <td>5.8</td>\n",
       "      <td>5.4</td>\n",
       "      <td>NaN</td>\n",
       "      <td>4.1</td>\n",
       "    </tr>\n",
       "    <tr>\n",
       "      <th>17</th>\n",
       "      <td>360451.0</td>\n",
       "      <td>EPA202</td>\n",
       "      <td>6.1</td>\n",
       "      <td>5.9</td>\n",
       "      <td>4.1</td>\n",
       "      <td>7.6</td>\n",
       "    </tr>\n",
       "    <tr>\n",
       "      <th>18</th>\n",
       "      <td>817299.0</td>\n",
       "      <td>EPA202</td>\n",
       "      <td>5.1</td>\n",
       "      <td>4.4</td>\n",
       "      <td>6.3</td>\n",
       "      <td>7.1</td>\n",
       "    </tr>\n",
       "    <tr>\n",
       "      <th>19</th>\n",
       "      <td>486857.0</td>\n",
       "      <td>EPA202</td>\n",
       "      <td>7.5</td>\n",
       "      <td>4.8</td>\n",
       "      <td>NaN</td>\n",
       "      <td>9.9</td>\n",
       "    </tr>\n",
       "    <tr>\n",
       "      <th>20</th>\n",
       "      <td>361935.0</td>\n",
       "      <td>EPA202</td>\n",
       "      <td>6.8</td>\n",
       "      <td>NaN</td>\n",
       "      <td>8.6</td>\n",
       "      <td>5.9</td>\n",
       "    </tr>\n",
       "    <tr>\n",
       "      <th>21</th>\n",
       "      <td>298910.0</td>\n",
       "      <td>EPA202</td>\n",
       "      <td>9.7</td>\n",
       "      <td>5.4</td>\n",
       "      <td>9.1</td>\n",
       "      <td>6.5</td>\n",
       "    </tr>\n",
       "    <tr>\n",
       "      <th>22</th>\n",
       "      <td>562673.0</td>\n",
       "      <td>EPA202</td>\n",
       "      <td>8.0</td>\n",
       "      <td>4.4</td>\n",
       "      <td>5.9</td>\n",
       "      <td>5.0</td>\n",
       "    </tr>\n",
       "    <tr>\n",
       "      <th>23</th>\n",
       "      <td>193971.0</td>\n",
       "      <td>EPA202</td>\n",
       "      <td>7.0</td>\n",
       "      <td>8.3</td>\n",
       "      <td>6.1</td>\n",
       "      <td>4.7</td>\n",
       "    </tr>\n",
       "    <tr>\n",
       "      <th>24</th>\n",
       "      <td>876189.0</td>\n",
       "      <td>EPA202</td>\n",
       "      <td>9.6</td>\n",
       "      <td>6.9</td>\n",
       "      <td>6.9</td>\n",
       "      <td>NaN</td>\n",
       "    </tr>\n",
       "    <tr>\n",
       "      <th>25</th>\n",
       "      <td>883497.0</td>\n",
       "      <td>EPA202</td>\n",
       "      <td>4.2</td>\n",
       "      <td>9.6</td>\n",
       "      <td>8.2</td>\n",
       "      <td>NaN</td>\n",
       "    </tr>\n",
       "    <tr>\n",
       "      <th>26</th>\n",
       "      <td>190998.0</td>\n",
       "      <td>EPA202</td>\n",
       "      <td>NaN</td>\n",
       "      <td>5.7</td>\n",
       "      <td>7.6</td>\n",
       "      <td>6.5</td>\n",
       "    </tr>\n",
       "    <tr>\n",
       "      <th>27</th>\n",
       "      <td>203588.0</td>\n",
       "      <td>EPA202</td>\n",
       "      <td>NaN</td>\n",
       "      <td>NaN</td>\n",
       "      <td>9.1</td>\n",
       "      <td>8.9</td>\n",
       "    </tr>\n",
       "    <tr>\n",
       "      <th>28</th>\n",
       "      <td>812017.0</td>\n",
       "      <td>EPA303</td>\n",
       "      <td>9.6</td>\n",
       "      <td>7.3</td>\n",
       "      <td>6.4</td>\n",
       "      <td>5.4</td>\n",
       "    </tr>\n",
       "    <tr>\n",
       "      <th>29</th>\n",
       "      <td>360451.0</td>\n",
       "      <td>EPA303</td>\n",
       "      <td>9.6</td>\n",
       "      <td>8.9</td>\n",
       "      <td>NaN</td>\n",
       "      <td>NaN</td>\n",
       "    </tr>\n",
       "    <tr>\n",
       "      <th>30</th>\n",
       "      <td>193971.0</td>\n",
       "      <td>EPA303</td>\n",
       "      <td>9.8</td>\n",
       "      <td>6.3</td>\n",
       "      <td>6.1</td>\n",
       "      <td>7.1</td>\n",
       "    </tr>\n",
       "    <tr>\n",
       "      <th>31</th>\n",
       "      <td>486857.0</td>\n",
       "      <td>EPA303</td>\n",
       "      <td>6.1</td>\n",
       "      <td>8.0</td>\n",
       "      <td>5.9</td>\n",
       "      <td>8.2</td>\n",
       "    </tr>\n",
       "    <tr>\n",
       "      <th>32</th>\n",
       "      <td>975528.0</td>\n",
       "      <td>EPA303</td>\n",
       "      <td>9.1</td>\n",
       "      <td>6.5</td>\n",
       "      <td>5.0</td>\n",
       "      <td>8.5</td>\n",
       "    </tr>\n",
       "    <tr>\n",
       "      <th>33</th>\n",
       "      <td>180586.0</td>\n",
       "      <td>EPA303</td>\n",
       "      <td>5.7</td>\n",
       "      <td>4.2</td>\n",
       "      <td>6.4</td>\n",
       "      <td>NaN</td>\n",
       "    </tr>\n",
       "    <tr>\n",
       "      <th>34</th>\n",
       "      <td>883497.0</td>\n",
       "      <td>EPA303</td>\n",
       "      <td>4.1</td>\n",
       "      <td>9.6</td>\n",
       "      <td>9.9</td>\n",
       "      <td>6.9</td>\n",
       "    </tr>\n",
       "    <tr>\n",
       "      <th>35</th>\n",
       "      <td>876189.0</td>\n",
       "      <td>EPA303</td>\n",
       "      <td>5.1</td>\n",
       "      <td>4.6</td>\n",
       "      <td>4.3</td>\n",
       "      <td>5.6</td>\n",
       "    </tr>\n",
       "    <tr>\n",
       "      <th>36</th>\n",
       "      <td>190998.0</td>\n",
       "      <td>EPA303</td>\n",
       "      <td>9.2</td>\n",
       "      <td>NaN</td>\n",
       "      <td>8.9</td>\n",
       "      <td>6.9</td>\n",
       "    </tr>\n",
       "    <tr>\n",
       "      <th>37</th>\n",
       "      <td>298910.0</td>\n",
       "      <td>EPA303</td>\n",
       "      <td>4.9</td>\n",
       "      <td>NaN</td>\n",
       "      <td>6.4</td>\n",
       "      <td>7.4</td>\n",
       "    </tr>\n",
       "    <tr>\n",
       "      <th>38</th>\n",
       "      <td>203588.0</td>\n",
       "      <td>EPA303</td>\n",
       "      <td>7.9</td>\n",
       "      <td>4.6</td>\n",
       "      <td>6.2</td>\n",
       "      <td>9.7</td>\n",
       "    </tr>\n",
       "    <tr>\n",
       "      <th>39</th>\n",
       "      <td>817299.0</td>\n",
       "      <td>EPA303</td>\n",
       "      <td>8.4</td>\n",
       "      <td>5.8</td>\n",
       "      <td>5.0</td>\n",
       "      <td>6.6</td>\n",
       "    </tr>\n",
       "    <tr>\n",
       "      <th>40</th>\n",
       "      <td>361935.0</td>\n",
       "      <td>EPA303</td>\n",
       "      <td>NaN</td>\n",
       "      <td>8.4</td>\n",
       "      <td>NaN</td>\n",
       "      <td>8.7</td>\n",
       "    </tr>\n",
       "    <tr>\n",
       "      <th>41</th>\n",
       "      <td>562673.0</td>\n",
       "      <td>EPA303</td>\n",
       "      <td>NaN</td>\n",
       "      <td>4.9</td>\n",
       "      <td>8.2</td>\n",
       "      <td>6.1</td>\n",
       "    </tr>\n",
       "  </tbody>\n",
       "</table>\n",
       "</div>"
      ],
      "text/plain": [
       "      Studnr  Course  Test1  Test2  Test3  Test4\n",
       "0   298910.0  EPA101    5.1    9.1    8.7    6.8\n",
       "1   361935.0  EPA101    6.7    6.5    NaN    7.4\n",
       "2   486857.0  EPA101    9.2    NaN    9.0    6.9\n",
       "3   876189.0  EPA101    4.9    6.3    9.9    6.9\n",
       "4   883497.0  EPA101    9.3    8.5    4.4    NaN\n",
       "5   812017.0  EPA101    8.4    5.7    8.1    4.7\n",
       "6   193971.0  EPA101    9.1    NaN    5.7    8.2\n",
       "7   975528.0  EPA101    9.2    4.2    6.9    7.4\n",
       "8   817299.0  EPA101    4.5    5.6    6.0    8.9\n",
       "9   562673.0  EPA101    8.1    9.0    5.1    4.1\n",
       "10  190998.0  EPA101    7.8    9.7    4.8    8.5\n",
       "11  360451.0  EPA101    4.1    5.1    NaN    5.2\n",
       "12  203588.0  EPA101    NaN    7.3    7.2    7.4\n",
       "13  180586.0  EPA101    NaN    8.2    5.5    NaN\n",
       "14  180586.0  EPA202    7.6    8.4    8.5    7.9\n",
       "15  812017.0  EPA202    7.8    7.2    4.6    4.3\n",
       "16  975528.0  EPA202    5.8    5.4    NaN    4.1\n",
       "17  360451.0  EPA202    6.1    5.9    4.1    7.6\n",
       "18  817299.0  EPA202    5.1    4.4    6.3    7.1\n",
       "19  486857.0  EPA202    7.5    4.8    NaN    9.9\n",
       "20  361935.0  EPA202    6.8    NaN    8.6    5.9\n",
       "21  298910.0  EPA202    9.7    5.4    9.1    6.5\n",
       "22  562673.0  EPA202    8.0    4.4    5.9    5.0\n",
       "23  193971.0  EPA202    7.0    8.3    6.1    4.7\n",
       "24  876189.0  EPA202    9.6    6.9    6.9    NaN\n",
       "25  883497.0  EPA202    4.2    9.6    8.2    NaN\n",
       "26  190998.0  EPA202    NaN    5.7    7.6    6.5\n",
       "27  203588.0  EPA202    NaN    NaN    9.1    8.9\n",
       "28  812017.0  EPA303    9.6    7.3    6.4    5.4\n",
       "29  360451.0  EPA303    9.6    8.9    NaN    NaN\n",
       "30  193971.0  EPA303    9.8    6.3    6.1    7.1\n",
       "31  486857.0  EPA303    6.1    8.0    5.9    8.2\n",
       "32  975528.0  EPA303    9.1    6.5    5.0    8.5\n",
       "33  180586.0  EPA303    5.7    4.2    6.4    NaN\n",
       "34  883497.0  EPA303    4.1    9.6    9.9    6.9\n",
       "35  876189.0  EPA303    5.1    4.6    4.3    5.6\n",
       "36  190998.0  EPA303    9.2    NaN    8.9    6.9\n",
       "37  298910.0  EPA303    4.9    NaN    6.4    7.4\n",
       "38  203588.0  EPA303    7.9    4.6    6.2    9.7\n",
       "39  817299.0  EPA303    8.4    5.8    5.0    6.6\n",
       "40  361935.0  EPA303    NaN    8.4    NaN    8.7\n",
       "41  562673.0  EPA303    NaN    4.9    8.2    6.1"
      ]
     },
     "execution_count": 76,
     "metadata": {},
     "output_type": "execute_result"
    }
   ],
   "source": [
    "# Read in some student numbers, courses and grades (4 tests)\n",
    "result = pd.read_csv(\"grades.csv\")\n",
    "result"
   ]
  },
  {
   "cell_type": "code",
   "execution_count": 77,
   "metadata": {
    "collapsed": false
   },
   "outputs": [
    {
     "data": {
      "text/html": [
       "<div>\n",
       "<table border=\"1\" class=\"dataframe\">\n",
       "  <thead>\n",
       "    <tr style=\"text-align: right;\">\n",
       "      <th></th>\n",
       "      <th>Studnr</th>\n",
       "      <th>Course</th>\n",
       "      <th>Test1</th>\n",
       "      <th>Test2</th>\n",
       "      <th>Test3</th>\n",
       "      <th>Test4</th>\n",
       "    </tr>\n",
       "  </thead>\n",
       "  <tbody>\n",
       "    <tr>\n",
       "      <th>11</th>\n",
       "      <td>360451.0</td>\n",
       "      <td>EPA101</td>\n",
       "      <td>4.1</td>\n",
       "      <td>5.1</td>\n",
       "      <td>NaN</td>\n",
       "      <td>5.2</td>\n",
       "    </tr>\n",
       "    <tr>\n",
       "      <th>17</th>\n",
       "      <td>360451.0</td>\n",
       "      <td>EPA202</td>\n",
       "      <td>6.1</td>\n",
       "      <td>5.9</td>\n",
       "      <td>4.1</td>\n",
       "      <td>7.6</td>\n",
       "    </tr>\n",
       "    <tr>\n",
       "      <th>29</th>\n",
       "      <td>360451.0</td>\n",
       "      <td>EPA303</td>\n",
       "      <td>9.6</td>\n",
       "      <td>8.9</td>\n",
       "      <td>NaN</td>\n",
       "      <td>NaN</td>\n",
       "    </tr>\n",
       "  </tbody>\n",
       "</table>\n",
       "</div>"
      ],
      "text/plain": [
       "      Studnr  Course  Test1  Test2  Test3  Test4\n",
       "11  360451.0  EPA101    4.1    5.1    NaN    5.2\n",
       "17  360451.0  EPA202    6.1    5.9    4.1    7.6\n",
       "29  360451.0  EPA303    9.6    8.9    NaN    NaN"
      ]
     },
     "execution_count": 77,
     "metadata": {},
     "output_type": "execute_result"
    }
   ],
   "source": [
    "# Show results for one student\n",
    "result[result.Studnr==360451]"
   ]
  },
  {
   "cell_type": "code",
   "execution_count": 78,
   "metadata": {
    "collapsed": false,
    "scrolled": true
   },
   "outputs": [
    {
     "data": {
      "text/html": [
       "<div>\n",
       "<table border=\"1\" class=\"dataframe\">\n",
       "  <thead>\n",
       "    <tr style=\"text-align: right;\">\n",
       "      <th></th>\n",
       "      <th>Name</th>\n",
       "      <th>Studnr</th>\n",
       "      <th>Course</th>\n",
       "      <th>Test1</th>\n",
       "      <th>Test2</th>\n",
       "      <th>Test3</th>\n",
       "      <th>Test4</th>\n",
       "    </tr>\n",
       "  </thead>\n",
       "  <tbody>\n",
       "    <tr>\n",
       "      <th>0</th>\n",
       "      <td>John</td>\n",
       "      <td>203588</td>\n",
       "      <td>EPA101</td>\n",
       "      <td>NaN</td>\n",
       "      <td>7.3</td>\n",
       "      <td>7.2</td>\n",
       "      <td>7.4</td>\n",
       "    </tr>\n",
       "    <tr>\n",
       "      <th>1</th>\n",
       "      <td>John</td>\n",
       "      <td>203588</td>\n",
       "      <td>EPA202</td>\n",
       "      <td>NaN</td>\n",
       "      <td>NaN</td>\n",
       "      <td>9.1</td>\n",
       "      <td>8.9</td>\n",
       "    </tr>\n",
       "    <tr>\n",
       "      <th>2</th>\n",
       "      <td>John</td>\n",
       "      <td>203588</td>\n",
       "      <td>EPA303</td>\n",
       "      <td>7.9</td>\n",
       "      <td>4.6</td>\n",
       "      <td>6.2</td>\n",
       "      <td>9.7</td>\n",
       "    </tr>\n",
       "    <tr>\n",
       "      <th>3</th>\n",
       "      <td>Mary</td>\n",
       "      <td>190998</td>\n",
       "      <td>EPA101</td>\n",
       "      <td>7.8</td>\n",
       "      <td>9.7</td>\n",
       "      <td>4.8</td>\n",
       "      <td>8.5</td>\n",
       "    </tr>\n",
       "    <tr>\n",
       "      <th>4</th>\n",
       "      <td>Mary</td>\n",
       "      <td>190998</td>\n",
       "      <td>EPA202</td>\n",
       "      <td>NaN</td>\n",
       "      <td>5.7</td>\n",
       "      <td>7.6</td>\n",
       "      <td>6.5</td>\n",
       "    </tr>\n",
       "    <tr>\n",
       "      <th>5</th>\n",
       "      <td>Mary</td>\n",
       "      <td>190998</td>\n",
       "      <td>EPA303</td>\n",
       "      <td>9.2</td>\n",
       "      <td>NaN</td>\n",
       "      <td>8.9</td>\n",
       "      <td>6.9</td>\n",
       "    </tr>\n",
       "    <tr>\n",
       "      <th>6</th>\n",
       "      <td>Jane</td>\n",
       "      <td>876189</td>\n",
       "      <td>EPA101</td>\n",
       "      <td>4.9</td>\n",
       "      <td>6.3</td>\n",
       "      <td>9.9</td>\n",
       "      <td>6.9</td>\n",
       "    </tr>\n",
       "    <tr>\n",
       "      <th>7</th>\n",
       "      <td>Jane</td>\n",
       "      <td>876189</td>\n",
       "      <td>EPA202</td>\n",
       "      <td>9.6</td>\n",
       "      <td>6.9</td>\n",
       "      <td>6.9</td>\n",
       "      <td>NaN</td>\n",
       "    </tr>\n",
       "    <tr>\n",
       "      <th>8</th>\n",
       "      <td>Jane</td>\n",
       "      <td>876189</td>\n",
       "      <td>EPA303</td>\n",
       "      <td>5.1</td>\n",
       "      <td>4.6</td>\n",
       "      <td>4.3</td>\n",
       "      <td>5.6</td>\n",
       "    </tr>\n",
       "    <tr>\n",
       "      <th>9</th>\n",
       "      <td>Anne</td>\n",
       "      <td>486857</td>\n",
       "      <td>EPA101</td>\n",
       "      <td>9.2</td>\n",
       "      <td>NaN</td>\n",
       "      <td>9.0</td>\n",
       "      <td>6.9</td>\n",
       "    </tr>\n",
       "    <tr>\n",
       "      <th>10</th>\n",
       "      <td>Anne</td>\n",
       "      <td>486857</td>\n",
       "      <td>EPA202</td>\n",
       "      <td>7.5</td>\n",
       "      <td>4.8</td>\n",
       "      <td>NaN</td>\n",
       "      <td>9.9</td>\n",
       "    </tr>\n",
       "    <tr>\n",
       "      <th>11</th>\n",
       "      <td>Anne</td>\n",
       "      <td>486857</td>\n",
       "      <td>EPA303</td>\n",
       "      <td>6.1</td>\n",
       "      <td>8.0</td>\n",
       "      <td>5.9</td>\n",
       "      <td>8.2</td>\n",
       "    </tr>\n",
       "    <tr>\n",
       "      <th>12</th>\n",
       "      <td>Peter</td>\n",
       "      <td>812017</td>\n",
       "      <td>EPA101</td>\n",
       "      <td>8.4</td>\n",
       "      <td>5.7</td>\n",
       "      <td>8.1</td>\n",
       "      <td>4.7</td>\n",
       "    </tr>\n",
       "    <tr>\n",
       "      <th>13</th>\n",
       "      <td>Peter</td>\n",
       "      <td>812017</td>\n",
       "      <td>EPA202</td>\n",
       "      <td>7.8</td>\n",
       "      <td>7.2</td>\n",
       "      <td>4.6</td>\n",
       "      <td>4.3</td>\n",
       "    </tr>\n",
       "    <tr>\n",
       "      <th>14</th>\n",
       "      <td>Peter</td>\n",
       "      <td>812017</td>\n",
       "      <td>EPA303</td>\n",
       "      <td>9.6</td>\n",
       "      <td>7.3</td>\n",
       "      <td>6.4</td>\n",
       "      <td>5.4</td>\n",
       "    </tr>\n",
       "    <tr>\n",
       "      <th>15</th>\n",
       "      <td>Bob</td>\n",
       "      <td>193971</td>\n",
       "      <td>EPA101</td>\n",
       "      <td>9.1</td>\n",
       "      <td>NaN</td>\n",
       "      <td>5.7</td>\n",
       "      <td>8.2</td>\n",
       "    </tr>\n",
       "    <tr>\n",
       "      <th>16</th>\n",
       "      <td>Bob</td>\n",
       "      <td>193971</td>\n",
       "      <td>EPA202</td>\n",
       "      <td>7.0</td>\n",
       "      <td>8.3</td>\n",
       "      <td>6.1</td>\n",
       "      <td>4.7</td>\n",
       "    </tr>\n",
       "    <tr>\n",
       "      <th>17</th>\n",
       "      <td>Bob</td>\n",
       "      <td>193971</td>\n",
       "      <td>EPA303</td>\n",
       "      <td>9.8</td>\n",
       "      <td>6.3</td>\n",
       "      <td>6.1</td>\n",
       "      <td>7.1</td>\n",
       "    </tr>\n",
       "    <tr>\n",
       "      <th>18</th>\n",
       "      <td>Carol</td>\n",
       "      <td>361935</td>\n",
       "      <td>EPA101</td>\n",
       "      <td>6.7</td>\n",
       "      <td>6.5</td>\n",
       "      <td>NaN</td>\n",
       "      <td>7.4</td>\n",
       "    </tr>\n",
       "    <tr>\n",
       "      <th>19</th>\n",
       "      <td>Carol</td>\n",
       "      <td>361935</td>\n",
       "      <td>EPA202</td>\n",
       "      <td>6.8</td>\n",
       "      <td>NaN</td>\n",
       "      <td>8.6</td>\n",
       "      <td>5.9</td>\n",
       "    </tr>\n",
       "    <tr>\n",
       "      <th>20</th>\n",
       "      <td>Carol</td>\n",
       "      <td>361935</td>\n",
       "      <td>EPA303</td>\n",
       "      <td>NaN</td>\n",
       "      <td>8.4</td>\n",
       "      <td>NaN</td>\n",
       "      <td>8.7</td>\n",
       "    </tr>\n",
       "    <tr>\n",
       "      <th>21</th>\n",
       "      <td>Zach</td>\n",
       "      <td>360451</td>\n",
       "      <td>EPA101</td>\n",
       "      <td>4.1</td>\n",
       "      <td>5.1</td>\n",
       "      <td>NaN</td>\n",
       "      <td>5.2</td>\n",
       "    </tr>\n",
       "    <tr>\n",
       "      <th>22</th>\n",
       "      <td>Zach</td>\n",
       "      <td>360451</td>\n",
       "      <td>EPA202</td>\n",
       "      <td>6.1</td>\n",
       "      <td>5.9</td>\n",
       "      <td>4.1</td>\n",
       "      <td>7.6</td>\n",
       "    </tr>\n",
       "    <tr>\n",
       "      <th>23</th>\n",
       "      <td>Zach</td>\n",
       "      <td>360451</td>\n",
       "      <td>EPA303</td>\n",
       "      <td>9.6</td>\n",
       "      <td>8.9</td>\n",
       "      <td>NaN</td>\n",
       "      <td>NaN</td>\n",
       "    </tr>\n",
       "    <tr>\n",
       "      <th>24</th>\n",
       "      <td>David</td>\n",
       "      <td>180586</td>\n",
       "      <td>EPA101</td>\n",
       "      <td>NaN</td>\n",
       "      <td>8.2</td>\n",
       "      <td>5.5</td>\n",
       "      <td>NaN</td>\n",
       "    </tr>\n",
       "    <tr>\n",
       "      <th>25</th>\n",
       "      <td>David</td>\n",
       "      <td>180586</td>\n",
       "      <td>EPA202</td>\n",
       "      <td>7.6</td>\n",
       "      <td>8.4</td>\n",
       "      <td>8.5</td>\n",
       "      <td>7.9</td>\n",
       "    </tr>\n",
       "    <tr>\n",
       "      <th>26</th>\n",
       "      <td>David</td>\n",
       "      <td>180586</td>\n",
       "      <td>EPA303</td>\n",
       "      <td>5.7</td>\n",
       "      <td>4.2</td>\n",
       "      <td>6.4</td>\n",
       "      <td>NaN</td>\n",
       "    </tr>\n",
       "    <tr>\n",
       "      <th>27</th>\n",
       "      <td>Iris</td>\n",
       "      <td>298910</td>\n",
       "      <td>EPA101</td>\n",
       "      <td>5.1</td>\n",
       "      <td>9.1</td>\n",
       "      <td>8.7</td>\n",
       "      <td>6.8</td>\n",
       "    </tr>\n",
       "    <tr>\n",
       "      <th>28</th>\n",
       "      <td>Iris</td>\n",
       "      <td>298910</td>\n",
       "      <td>EPA202</td>\n",
       "      <td>9.7</td>\n",
       "      <td>5.4</td>\n",
       "      <td>9.1</td>\n",
       "      <td>6.5</td>\n",
       "    </tr>\n",
       "    <tr>\n",
       "      <th>29</th>\n",
       "      <td>Iris</td>\n",
       "      <td>298910</td>\n",
       "      <td>EPA303</td>\n",
       "      <td>4.9</td>\n",
       "      <td>NaN</td>\n",
       "      <td>6.4</td>\n",
       "      <td>7.4</td>\n",
       "    </tr>\n",
       "    <tr>\n",
       "      <th>30</th>\n",
       "      <td>Sarah</td>\n",
       "      <td>883497</td>\n",
       "      <td>EPA101</td>\n",
       "      <td>9.3</td>\n",
       "      <td>8.5</td>\n",
       "      <td>4.4</td>\n",
       "      <td>NaN</td>\n",
       "    </tr>\n",
       "    <tr>\n",
       "      <th>31</th>\n",
       "      <td>Sarah</td>\n",
       "      <td>883497</td>\n",
       "      <td>EPA202</td>\n",
       "      <td>4.2</td>\n",
       "      <td>9.6</td>\n",
       "      <td>8.2</td>\n",
       "      <td>NaN</td>\n",
       "    </tr>\n",
       "    <tr>\n",
       "      <th>32</th>\n",
       "      <td>Sarah</td>\n",
       "      <td>883497</td>\n",
       "      <td>EPA303</td>\n",
       "      <td>4.1</td>\n",
       "      <td>9.6</td>\n",
       "      <td>9.9</td>\n",
       "      <td>6.9</td>\n",
       "    </tr>\n",
       "    <tr>\n",
       "      <th>33</th>\n",
       "      <td>Charlie</td>\n",
       "      <td>817299</td>\n",
       "      <td>EPA101</td>\n",
       "      <td>4.5</td>\n",
       "      <td>5.6</td>\n",
       "      <td>6.0</td>\n",
       "      <td>8.9</td>\n",
       "    </tr>\n",
       "    <tr>\n",
       "      <th>34</th>\n",
       "      <td>Charlie</td>\n",
       "      <td>817299</td>\n",
       "      <td>EPA202</td>\n",
       "      <td>5.1</td>\n",
       "      <td>4.4</td>\n",
       "      <td>6.3</td>\n",
       "      <td>7.1</td>\n",
       "    </tr>\n",
       "    <tr>\n",
       "      <th>35</th>\n",
       "      <td>Charlie</td>\n",
       "      <td>817299</td>\n",
       "      <td>EPA303</td>\n",
       "      <td>8.4</td>\n",
       "      <td>5.8</td>\n",
       "      <td>5.0</td>\n",
       "      <td>6.6</td>\n",
       "    </tr>\n",
       "    <tr>\n",
       "      <th>36</th>\n",
       "      <td>Eve</td>\n",
       "      <td>562673</td>\n",
       "      <td>EPA101</td>\n",
       "      <td>8.1</td>\n",
       "      <td>9.0</td>\n",
       "      <td>5.1</td>\n",
       "      <td>4.1</td>\n",
       "    </tr>\n",
       "    <tr>\n",
       "      <th>37</th>\n",
       "      <td>Eve</td>\n",
       "      <td>562673</td>\n",
       "      <td>EPA202</td>\n",
       "      <td>8.0</td>\n",
       "      <td>4.4</td>\n",
       "      <td>5.9</td>\n",
       "      <td>5.0</td>\n",
       "    </tr>\n",
       "    <tr>\n",
       "      <th>38</th>\n",
       "      <td>Eve</td>\n",
       "      <td>562673</td>\n",
       "      <td>EPA303</td>\n",
       "      <td>NaN</td>\n",
       "      <td>4.9</td>\n",
       "      <td>8.2</td>\n",
       "      <td>6.1</td>\n",
       "    </tr>\n",
       "    <tr>\n",
       "      <th>39</th>\n",
       "      <td>George</td>\n",
       "      <td>975528</td>\n",
       "      <td>EPA101</td>\n",
       "      <td>9.2</td>\n",
       "      <td>4.2</td>\n",
       "      <td>6.9</td>\n",
       "      <td>7.4</td>\n",
       "    </tr>\n",
       "    <tr>\n",
       "      <th>40</th>\n",
       "      <td>George</td>\n",
       "      <td>975528</td>\n",
       "      <td>EPA202</td>\n",
       "      <td>5.8</td>\n",
       "      <td>5.4</td>\n",
       "      <td>NaN</td>\n",
       "      <td>4.1</td>\n",
       "    </tr>\n",
       "    <tr>\n",
       "      <th>41</th>\n",
       "      <td>George</td>\n",
       "      <td>975528</td>\n",
       "      <td>EPA303</td>\n",
       "      <td>9.1</td>\n",
       "      <td>6.5</td>\n",
       "      <td>5.0</td>\n",
       "      <td>8.5</td>\n",
       "    </tr>\n",
       "  </tbody>\n",
       "</table>\n",
       "</div>"
      ],
      "text/plain": [
       "       Name  Studnr  Course  Test1  Test2  Test3  Test4\n",
       "0      John  203588  EPA101    NaN    7.3    7.2    7.4\n",
       "1      John  203588  EPA202    NaN    NaN    9.1    8.9\n",
       "2      John  203588  EPA303    7.9    4.6    6.2    9.7\n",
       "3      Mary  190998  EPA101    7.8    9.7    4.8    8.5\n",
       "4      Mary  190998  EPA202    NaN    5.7    7.6    6.5\n",
       "5      Mary  190998  EPA303    9.2    NaN    8.9    6.9\n",
       "6      Jane  876189  EPA101    4.9    6.3    9.9    6.9\n",
       "7      Jane  876189  EPA202    9.6    6.9    6.9    NaN\n",
       "8      Jane  876189  EPA303    5.1    4.6    4.3    5.6\n",
       "9      Anne  486857  EPA101    9.2    NaN    9.0    6.9\n",
       "10     Anne  486857  EPA202    7.5    4.8    NaN    9.9\n",
       "11     Anne  486857  EPA303    6.1    8.0    5.9    8.2\n",
       "12    Peter  812017  EPA101    8.4    5.7    8.1    4.7\n",
       "13    Peter  812017  EPA202    7.8    7.2    4.6    4.3\n",
       "14    Peter  812017  EPA303    9.6    7.3    6.4    5.4\n",
       "15      Bob  193971  EPA101    9.1    NaN    5.7    8.2\n",
       "16      Bob  193971  EPA202    7.0    8.3    6.1    4.7\n",
       "17      Bob  193971  EPA303    9.8    6.3    6.1    7.1\n",
       "18    Carol  361935  EPA101    6.7    6.5    NaN    7.4\n",
       "19    Carol  361935  EPA202    6.8    NaN    8.6    5.9\n",
       "20    Carol  361935  EPA303    NaN    8.4    NaN    8.7\n",
       "21     Zach  360451  EPA101    4.1    5.1    NaN    5.2\n",
       "22     Zach  360451  EPA202    6.1    5.9    4.1    7.6\n",
       "23     Zach  360451  EPA303    9.6    8.9    NaN    NaN\n",
       "24    David  180586  EPA101    NaN    8.2    5.5    NaN\n",
       "25    David  180586  EPA202    7.6    8.4    8.5    7.9\n",
       "26    David  180586  EPA303    5.7    4.2    6.4    NaN\n",
       "27     Iris  298910  EPA101    5.1    9.1    8.7    6.8\n",
       "28     Iris  298910  EPA202    9.7    5.4    9.1    6.5\n",
       "29     Iris  298910  EPA303    4.9    NaN    6.4    7.4\n",
       "30    Sarah  883497  EPA101    9.3    8.5    4.4    NaN\n",
       "31    Sarah  883497  EPA202    4.2    9.6    8.2    NaN\n",
       "32    Sarah  883497  EPA303    4.1    9.6    9.9    6.9\n",
       "33  Charlie  817299  EPA101    4.5    5.6    6.0    8.9\n",
       "34  Charlie  817299  EPA202    5.1    4.4    6.3    7.1\n",
       "35  Charlie  817299  EPA303    8.4    5.8    5.0    6.6\n",
       "36      Eve  562673  EPA101    8.1    9.0    5.1    4.1\n",
       "37      Eve  562673  EPA202    8.0    4.4    5.9    5.0\n",
       "38      Eve  562673  EPA303    NaN    4.9    8.2    6.1\n",
       "39   George  975528  EPA101    9.2    4.2    6.9    7.4\n",
       "40   George  975528  EPA202    5.8    5.4    NaN    4.1\n",
       "41   George  975528  EPA303    9.1    6.5    5.0    8.5"
      ]
     },
     "execution_count": 78,
     "metadata": {},
     "output_type": "execute_result"
    }
   ],
   "source": [
    "# Merge the 2 tables of student names and grades together\n",
    "grades=pd.merge(student,result,on=\"Studnr\",how=\"left\")\n",
    "grades"
   ]
  },
  {
   "cell_type": "code",
   "execution_count": 79,
   "metadata": {
    "collapsed": false
   },
   "outputs": [
    {
     "data": {
      "text/html": [
       "<div>\n",
       "<table border=\"1\" class=\"dataframe\">\n",
       "  <thead>\n",
       "    <tr style=\"text-align: right;\">\n",
       "      <th></th>\n",
       "      <th>Name</th>\n",
       "      <th>Studnr</th>\n",
       "      <th>Course</th>\n",
       "      <th>Test1</th>\n",
       "      <th>Test2</th>\n",
       "      <th>Test3</th>\n",
       "      <th>Test4</th>\n",
       "      <th>Final</th>\n",
       "    </tr>\n",
       "  </thead>\n",
       "  <tbody>\n",
       "    <tr>\n",
       "      <th>0</th>\n",
       "      <td>John</td>\n",
       "      <td>203588</td>\n",
       "      <td>EPA101</td>\n",
       "      <td>NaN</td>\n",
       "      <td>7.3</td>\n",
       "      <td>7.2</td>\n",
       "      <td>7.4</td>\n",
       "      <td>7.300000</td>\n",
       "    </tr>\n",
       "    <tr>\n",
       "      <th>1</th>\n",
       "      <td>John</td>\n",
       "      <td>203588</td>\n",
       "      <td>EPA202</td>\n",
       "      <td>NaN</td>\n",
       "      <td>NaN</td>\n",
       "      <td>9.1</td>\n",
       "      <td>8.9</td>\n",
       "      <td>9.000000</td>\n",
       "    </tr>\n",
       "    <tr>\n",
       "      <th>2</th>\n",
       "      <td>John</td>\n",
       "      <td>203588</td>\n",
       "      <td>EPA303</td>\n",
       "      <td>7.9</td>\n",
       "      <td>4.6</td>\n",
       "      <td>6.2</td>\n",
       "      <td>9.7</td>\n",
       "      <td>7.100000</td>\n",
       "    </tr>\n",
       "    <tr>\n",
       "      <th>3</th>\n",
       "      <td>Mary</td>\n",
       "      <td>190998</td>\n",
       "      <td>EPA101</td>\n",
       "      <td>7.8</td>\n",
       "      <td>9.7</td>\n",
       "      <td>4.8</td>\n",
       "      <td>8.5</td>\n",
       "      <td>7.700000</td>\n",
       "    </tr>\n",
       "    <tr>\n",
       "      <th>4</th>\n",
       "      <td>Mary</td>\n",
       "      <td>190998</td>\n",
       "      <td>EPA202</td>\n",
       "      <td>NaN</td>\n",
       "      <td>5.7</td>\n",
       "      <td>7.6</td>\n",
       "      <td>6.5</td>\n",
       "      <td>6.600000</td>\n",
       "    </tr>\n",
       "    <tr>\n",
       "      <th>5</th>\n",
       "      <td>Mary</td>\n",
       "      <td>190998</td>\n",
       "      <td>EPA303</td>\n",
       "      <td>9.2</td>\n",
       "      <td>NaN</td>\n",
       "      <td>8.9</td>\n",
       "      <td>6.9</td>\n",
       "      <td>8.333333</td>\n",
       "    </tr>\n",
       "    <tr>\n",
       "      <th>6</th>\n",
       "      <td>Jane</td>\n",
       "      <td>876189</td>\n",
       "      <td>EPA101</td>\n",
       "      <td>4.9</td>\n",
       "      <td>6.3</td>\n",
       "      <td>9.9</td>\n",
       "      <td>6.9</td>\n",
       "      <td>7.000000</td>\n",
       "    </tr>\n",
       "    <tr>\n",
       "      <th>7</th>\n",
       "      <td>Jane</td>\n",
       "      <td>876189</td>\n",
       "      <td>EPA202</td>\n",
       "      <td>9.6</td>\n",
       "      <td>6.9</td>\n",
       "      <td>6.9</td>\n",
       "      <td>NaN</td>\n",
       "      <td>7.800000</td>\n",
       "    </tr>\n",
       "    <tr>\n",
       "      <th>8</th>\n",
       "      <td>Jane</td>\n",
       "      <td>876189</td>\n",
       "      <td>EPA303</td>\n",
       "      <td>5.1</td>\n",
       "      <td>4.6</td>\n",
       "      <td>4.3</td>\n",
       "      <td>5.6</td>\n",
       "      <td>4.900000</td>\n",
       "    </tr>\n",
       "    <tr>\n",
       "      <th>9</th>\n",
       "      <td>Anne</td>\n",
       "      <td>486857</td>\n",
       "      <td>EPA101</td>\n",
       "      <td>9.2</td>\n",
       "      <td>NaN</td>\n",
       "      <td>9.0</td>\n",
       "      <td>6.9</td>\n",
       "      <td>8.366667</td>\n",
       "    </tr>\n",
       "  </tbody>\n",
       "</table>\n",
       "</div>"
      ],
      "text/plain": [
       "   Name  Studnr  Course  Test1  Test2  Test3  Test4     Final\n",
       "0  John  203588  EPA101    NaN    7.3    7.2    7.4  7.300000\n",
       "1  John  203588  EPA202    NaN    NaN    9.1    8.9  9.000000\n",
       "2  John  203588  EPA303    7.9    4.6    6.2    9.7  7.100000\n",
       "3  Mary  190998  EPA101    7.8    9.7    4.8    8.5  7.700000\n",
       "4  Mary  190998  EPA202    NaN    5.7    7.6    6.5  6.600000\n",
       "5  Mary  190998  EPA303    9.2    NaN    8.9    6.9  8.333333\n",
       "6  Jane  876189  EPA101    4.9    6.3    9.9    6.9  7.000000\n",
       "7  Jane  876189  EPA202    9.6    6.9    6.9    NaN  7.800000\n",
       "8  Jane  876189  EPA303    5.1    4.6    4.3    5.6  4.900000\n",
       "9  Anne  486857  EPA101    9.2    NaN    9.0    6.9  8.366667"
      ]
     },
     "execution_count": 79,
     "metadata": {},
     "output_type": "execute_result"
    }
   ],
   "source": [
    "# Add a column with the mean of the tests\n",
    "grades['Final'] = grades.ix[:,'Test1':'Test4'].mean(axis=1)\n",
    "grades.head(10)"
   ]
  },
  {
   "cell_type": "code",
   "execution_count": 80,
   "metadata": {
    "collapsed": false,
    "scrolled": true
   },
   "outputs": [
    {
     "data": {
      "text/html": [
       "<div>\n",
       "<table border=\"1\" class=\"dataframe\">\n",
       "  <thead>\n",
       "    <tr style=\"text-align: right;\">\n",
       "      <th></th>\n",
       "      <th>Name</th>\n",
       "      <th>Studnr</th>\n",
       "      <th>Course</th>\n",
       "      <th>Test1</th>\n",
       "      <th>Test2</th>\n",
       "      <th>Test3</th>\n",
       "      <th>Test4</th>\n",
       "      <th>Final</th>\n",
       "      <th>Passed</th>\n",
       "      <th>Passed2</th>\n",
       "    </tr>\n",
       "  </thead>\n",
       "  <tbody>\n",
       "    <tr>\n",
       "      <th>0</th>\n",
       "      <td>John</td>\n",
       "      <td>203588</td>\n",
       "      <td>EPA101</td>\n",
       "      <td>NaN</td>\n",
       "      <td>7.3</td>\n",
       "      <td>7.2</td>\n",
       "      <td>7.4</td>\n",
       "      <td>7.300000</td>\n",
       "      <td>True</td>\n",
       "      <td>True</td>\n",
       "    </tr>\n",
       "    <tr>\n",
       "      <th>1</th>\n",
       "      <td>John</td>\n",
       "      <td>203588</td>\n",
       "      <td>EPA202</td>\n",
       "      <td>NaN</td>\n",
       "      <td>NaN</td>\n",
       "      <td>9.1</td>\n",
       "      <td>8.9</td>\n",
       "      <td>9.000000</td>\n",
       "      <td>True</td>\n",
       "      <td>True</td>\n",
       "    </tr>\n",
       "    <tr>\n",
       "      <th>2</th>\n",
       "      <td>John</td>\n",
       "      <td>203588</td>\n",
       "      <td>EPA303</td>\n",
       "      <td>7.9</td>\n",
       "      <td>4.6</td>\n",
       "      <td>6.2</td>\n",
       "      <td>9.7</td>\n",
       "      <td>7.100000</td>\n",
       "      <td>True</td>\n",
       "      <td>True</td>\n",
       "    </tr>\n",
       "    <tr>\n",
       "      <th>3</th>\n",
       "      <td>Mary</td>\n",
       "      <td>190998</td>\n",
       "      <td>EPA101</td>\n",
       "      <td>7.8</td>\n",
       "      <td>9.7</td>\n",
       "      <td>4.8</td>\n",
       "      <td>8.5</td>\n",
       "      <td>7.700000</td>\n",
       "      <td>True</td>\n",
       "      <td>True</td>\n",
       "    </tr>\n",
       "    <tr>\n",
       "      <th>4</th>\n",
       "      <td>Mary</td>\n",
       "      <td>190998</td>\n",
       "      <td>EPA202</td>\n",
       "      <td>NaN</td>\n",
       "      <td>5.7</td>\n",
       "      <td>7.6</td>\n",
       "      <td>6.5</td>\n",
       "      <td>6.600000</td>\n",
       "      <td>True</td>\n",
       "      <td>True</td>\n",
       "    </tr>\n",
       "    <tr>\n",
       "      <th>5</th>\n",
       "      <td>Mary</td>\n",
       "      <td>190998</td>\n",
       "      <td>EPA303</td>\n",
       "      <td>9.2</td>\n",
       "      <td>NaN</td>\n",
       "      <td>8.9</td>\n",
       "      <td>6.9</td>\n",
       "      <td>8.333333</td>\n",
       "      <td>True</td>\n",
       "      <td>True</td>\n",
       "    </tr>\n",
       "    <tr>\n",
       "      <th>6</th>\n",
       "      <td>Jane</td>\n",
       "      <td>876189</td>\n",
       "      <td>EPA101</td>\n",
       "      <td>4.9</td>\n",
       "      <td>6.3</td>\n",
       "      <td>9.9</td>\n",
       "      <td>6.9</td>\n",
       "      <td>7.000000</td>\n",
       "      <td>True</td>\n",
       "      <td>True</td>\n",
       "    </tr>\n",
       "    <tr>\n",
       "      <th>7</th>\n",
       "      <td>Jane</td>\n",
       "      <td>876189</td>\n",
       "      <td>EPA202</td>\n",
       "      <td>9.6</td>\n",
       "      <td>6.9</td>\n",
       "      <td>6.9</td>\n",
       "      <td>NaN</td>\n",
       "      <td>7.800000</td>\n",
       "      <td>True</td>\n",
       "      <td>True</td>\n",
       "    </tr>\n",
       "    <tr>\n",
       "      <th>8</th>\n",
       "      <td>Jane</td>\n",
       "      <td>876189</td>\n",
       "      <td>EPA303</td>\n",
       "      <td>5.1</td>\n",
       "      <td>4.6</td>\n",
       "      <td>4.3</td>\n",
       "      <td>5.6</td>\n",
       "      <td>4.900000</td>\n",
       "      <td>False</td>\n",
       "      <td>False</td>\n",
       "    </tr>\n",
       "    <tr>\n",
       "      <th>9</th>\n",
       "      <td>Anne</td>\n",
       "      <td>486857</td>\n",
       "      <td>EPA101</td>\n",
       "      <td>9.2</td>\n",
       "      <td>NaN</td>\n",
       "      <td>9.0</td>\n",
       "      <td>6.9</td>\n",
       "      <td>8.366667</td>\n",
       "      <td>True</td>\n",
       "      <td>True</td>\n",
       "    </tr>\n",
       "  </tbody>\n",
       "</table>\n",
       "</div>"
      ],
      "text/plain": [
       "   Name  Studnr  Course  Test1  Test2  Test3  Test4     Final Passed Passed2\n",
       "0  John  203588  EPA101    NaN    7.3    7.2    7.4  7.300000   True    True\n",
       "1  John  203588  EPA202    NaN    NaN    9.1    8.9  9.000000   True    True\n",
       "2  John  203588  EPA303    7.9    4.6    6.2    9.7  7.100000   True    True\n",
       "3  Mary  190998  EPA101    7.8    9.7    4.8    8.5  7.700000   True    True\n",
       "4  Mary  190998  EPA202    NaN    5.7    7.6    6.5  6.600000   True    True\n",
       "5  Mary  190998  EPA303    9.2    NaN    8.9    6.9  8.333333   True    True\n",
       "6  Jane  876189  EPA101    4.9    6.3    9.9    6.9  7.000000   True    True\n",
       "7  Jane  876189  EPA202    9.6    6.9    6.9    NaN  7.800000   True    True\n",
       "8  Jane  876189  EPA303    5.1    4.6    4.3    5.6  4.900000  False   False\n",
       "9  Anne  486857  EPA101    9.2    NaN    9.0    6.9  8.366667   True    True"
      ]
     },
     "execution_count": 80,
     "metadata": {},
     "output_type": "execute_result"
    }
   ],
   "source": [
    "# Create extra columne 'Passed'\n",
    "grades['Passed'] = np.where( grades['Final']>=5.8, True, False)\n",
    "grades['Passed2'] = grades['Final']>=5.8\n",
    "grades.head(10)"
   ]
  },
  {
   "cell_type": "code",
   "execution_count": 81,
   "metadata": {
    "collapsed": false
   },
   "outputs": [
    {
     "data": {
      "text/plain": [
       "True     37\n",
       "False     5\n",
       "Name: Passed, dtype: int64"
      ]
     },
     "execution_count": 81,
     "metadata": {},
     "output_type": "execute_result"
    }
   ],
   "source": [
    "# How many passed/failed?\n",
    "pd.value_counts(grades['Passed'])"
   ]
  },
  {
   "cell_type": "code",
   "execution_count": 82,
   "metadata": {
    "collapsed": false
   },
   "outputs": [
    {
     "data": {
      "text/plain": [
       "6.976984126984128"
      ]
     },
     "execution_count": 82,
     "metadata": {},
     "output_type": "execute_result"
    }
   ],
   "source": [
    "grades['Final'].mean()"
   ]
  },
  {
   "cell_type": "code",
   "execution_count": 83,
   "metadata": {
    "collapsed": false
   },
   "outputs": [
    {
     "data": {
      "text/plain": [
       "<matplotlib.axes._subplots.AxesSubplot at 0x1f9a44a91d0>"
      ]
     },
     "execution_count": 83,
     "metadata": {},
     "output_type": "execute_result"
    },
    {
     "data": {
      "image/png": "[encoded data removed]",
      "text/plain": [
       "<matplotlib.figure.Figure at 0x1f9a6f48e80>"
      ]
     },
     "metadata": {},
     "output_type": "display_data"
    }
   ],
   "source": [
    "grades['Final'].plot()"
   ]
  },
  {
   "cell_type": "code",
   "execution_count": 84,
   "metadata": {
    "collapsed": false
   },
   "outputs": [
    {
     "data": {
      "text/plain": [
       "<matplotlib.axes._subplots.AxesSubplot at 0x1f9a7351860>"
      ]
     },
     "execution_count": 84,
     "metadata": {},
     "output_type": "execute_result"
    },
    {
     "data": {
      "image/png": "[encoded data removed]",
      "text/plain": [
       "<matplotlib.figure.Figure at 0x1f9a740dd68>"
      ]
     },
     "metadata": {},
     "output_type": "display_data"
    }
   ],
   "source": [
    "# Histogram of grades\n",
    "grades['Final'].hist()"
   ]
  },
  {
   "cell_type": "code",
   "execution_count": null,
   "metadata": {
    "collapsed": true
   },
   "outputs": [],
   "source": []
  },
  {
   "cell_type": "markdown",
   "metadata": {},
   "source": [
    "## Time Series (Ch 10)\n",
    "\n",
    "Working with dates and times in Pandas and Python. \n",
    "\n",
    "Used for:\n",
    "    * Timestamps - specific instant in time\n",
    "    * Intervals - period between start and end timestamps.\n",
    "    \n",
    "Examples: Series with timestamps as index.\n",
    "\n",
    "Data types used:\n",
    "\n",
    "    pandas.datetime\n",
    "    \n",
    "    datetime.datetime\n",
    "    \n",
    "    pandas.Timestamp     - more or less equivalent to datetime\n",
    "    \n",
    "A datetime is (Year, Month, Day, Hour, Minute, Second, Millisecond)\n",
    "\n",
    "    date.year                     date.hour              date.millisecond\n",
    "    date.month                    date.minute\n",
    "    date.day                      date.second\n",
    "\n"
   ]
  },
  {
   "cell_type": "markdown",
   "metadata": {},
   "source": [
    "### Creating a Datetimes"
   ]
  },
  {
   "cell_type": "code",
   "execution_count": 85,
   "metadata": {
    "collapsed": false
   },
   "outputs": [
    {
     "data": {
      "text/plain": [
       "datetime.datetime(2017, 2, 16, 13, 42, 56, 983502)"
      ]
     },
     "execution_count": 85,
     "metadata": {},
     "output_type": "execute_result"
    }
   ],
   "source": [
    "# Get the current date and time\n",
    "now = pd.datetime.now()\n",
    "now"
   ]
  },
  {
   "cell_type": "code",
   "execution_count": 86,
   "metadata": {
    "collapsed": false
   },
   "outputs": [
    {
     "data": {
      "text/plain": [
       "datetime.datetime(2016, 6, 10, 0, 0)"
      ]
     },
     "execution_count": 86,
     "metadata": {},
     "output_type": "execute_result"
    }
   ],
   "source": [
    "# Parse it from a string using a specified format\n",
    "pd.datetime.strptime( \"2016-10-6\", \"%Y-%d-%m\")   # June 10, 2016"
   ]
  },
  {
   "cell_type": "markdown",
   "metadata": {},
   "source": [
    "Possible format strings:\n",
    "\n",
    "    %Y  Year with century as a decimal number.\n",
    "    %m  Month as a decimal number [01,12].\n",
    "    %d  Day of the month as a decimal number [01,31].\n",
    "    %H  Hour (24-hour clock) as a decimal number [00,23].\n",
    "    %M  Minute as a decimal number [00,59].\n",
    "    %S  Second as a decimal number [00,61].\n",
    "    %z  Time zone offset from UTC.\n",
    "    %a  Locale's abbreviated weekday name.\n",
    "    %A  Locale's full weekday name.\n",
    "    %b  Locale's abbreviated month name.\n",
    "    %B  Locale's full month name.\n",
    "    %c  Locale's appropriate date and time representation.\n",
    "    %I  Hour (12-hour clock) as a decimal number [01,12].\n",
    "    %p  Locale's equivalent of either AM or PM.\n",
    "    \n",
    "    and more ... \n",
    "\n",
    "E.g. ```\"%Y/%b/%d - %H:%M:%S\"``` will parse ```\"2016/Apr/16 - 23:30:50\"```"
   ]
  },
  {
   "cell_type": "markdown",
   "metadata": {},
   "source": [
    "### Date ranges\n",
    "\n",
    "Create a date range, for certain period and/or with particular frequency.\n",
    "\n",
    "    pd.date_range( start=\"2016-1-1\", end=\"2017-1-1\", freq=\"W\" )\n",
    "    pd.date_range( start=\"2016-1-1\", periods=20, freq=\"BM\" )\n",
    "\n",
    "Offset aliases strings for pandas.date_range( start, end, periods, freq )\n",
    "\n",
    "http://pandas.pydata.org/pandas-docs/stable/timeseries.html#timeseries-offset-aliases\n",
    "\n",
    "  * H - hour (4H = every 4 hours)\n",
    "  * min - minute\n",
    "  * D - day (2D = every 2 days)\n",
    "  * M - End of month\n",
    "  * MS - Start of month\n",
    "  * W - Weekly (default: Sunday)\n",
    "  * W-Mon - Weekly every monday (2W-Tue - every second Tuesday), similar for Tue, Wed, Thu, Fri, Sat, Sun.\n",
    "  * WOM-1Mon - Week of month (WOM-2Wed - every second wednesday of the month), similar for Tue, Wed, Thu, Fri, Sat, Sun\n",
    "  * B - Business day frequency \n",
    "  * BM - Business end of Month\n",
    "  * BMS - Business start of Month\n",
    "  * Q - Quarter End\n",
    "  * Q - Quarter Start\n",
    "  * ... and more\n"
   ]
  },
  {
   "cell_type": "code",
   "execution_count": 87,
   "metadata": {
    "collapsed": false
   },
   "outputs": [
    {
     "data": {
      "text/plain": [
       "DatetimeIndex(['2016-01-14', '2016-02-11', '2016-03-10', '2016-04-14',\n",
       "               '2016-05-12', '2016-06-09', '2016-07-14', '2016-08-11',\n",
       "               '2016-09-08', '2016-10-13', '2016-11-10', '2016-12-08',\n",
       "               '2017-01-12', '2017-02-09', '2017-03-09', '2017-04-13',\n",
       "               '2017-05-11', '2017-06-08', '2017-07-13', '2017-08-10'],\n",
       "              dtype='datetime64[ns]', freq='WOM-2THU')"
      ]
     },
     "execution_count": 87,
     "metadata": {},
     "output_type": "execute_result"
    }
   ],
   "source": [
    "#pd.date_range( start=\"2016-1-1\", end=\"2017-1-1\", freq=\"W\" )\n",
    "dr=pd.date_range( start=\"2016-1-1\", periods=20, freq=\"WOM-2Thu\" )\n",
    "dr"
   ]
  },
  {
   "cell_type": "markdown",
   "metadata": {},
   "source": [
    "### Slicing, Indexing TimeSeries\n",
    "\n",
    "You can access TimeSeries as usual, but can pass dates in any form.\n",
    "\n",
    "   * ts[0:10]\n",
    "   * ts['1-1-2016':'8-1-2016']  \n",
    "   * ts['20160101']"
   ]
  },
  {
   "cell_type": "code",
   "execution_count": 88,
   "metadata": {
    "collapsed": false
   },
   "outputs": [
    {
     "data": {
      "text/plain": [
       "2016-01-01    0.595279\n",
       "2016-01-02    0.490056\n",
       "2016-01-03    0.741655\n",
       "2016-01-04    0.086796\n",
       "2016-01-05    0.755716\n",
       "2016-01-06    0.026172\n",
       "2016-01-07    0.213961\n",
       "2016-01-08    0.476858\n",
       "2016-01-09    0.980886\n",
       "2016-01-10    0.905778\n",
       "Freq: D, dtype: float64"
      ]
     },
     "execution_count": 88,
     "metadata": {},
     "output_type": "execute_result"
    }
   ],
   "source": [
    "# Let's create a big time series\n",
    "\n",
    "ts = pd.Series( np.random.random(1000), index=pd.date_range('1/1/2016', periods=1000))\n",
    "ts.head(10)"
   ]
  },
  {
   "cell_type": "code",
   "execution_count": 89,
   "metadata": {
    "collapsed": false
   },
   "outputs": [
    {
     "data": {
      "text/plain": [
       "2016-01-01    0.595279\n",
       "2016-01-02    0.490056\n",
       "2016-01-03    0.741655\n",
       "2016-01-04    0.086796\n",
       "2016-01-05    0.755716\n",
       "Freq: D, dtype: float64"
      ]
     },
     "execution_count": 89,
     "metadata": {},
     "output_type": "execute_result"
    }
   ],
   "source": [
    "# Standard slicing\n",
    "ts[0:5]"
   ]
  },
  {
   "cell_type": "code",
   "execution_count": 90,
   "metadata": {
    "collapsed": false,
    "scrolled": true
   },
   "outputs": [
    {
     "data": {
      "text/plain": [
       "0.59527904398351261"
      ]
     },
     "execution_count": 90,
     "metadata": {},
     "output_type": "execute_result"
    }
   ],
   "source": [
    "# Selecting on date\n",
    "ts['20160101']"
   ]
  },
  {
   "cell_type": "code",
   "execution_count": 91,
   "metadata": {
    "collapsed": false
   },
   "outputs": [
    {
     "data": {
      "text/plain": [
       "0.59527904398351261"
      ]
     },
     "execution_count": 91,
     "metadata": {},
     "output_type": "execute_result"
    }
   ],
   "source": [
    "ts['01/01/2016']"
   ]
  },
  {
   "cell_type": "code",
   "execution_count": 92,
   "metadata": {
    "collapsed": false
   },
   "outputs": [
    {
     "data": {
      "text/plain": [
       "2017-05-01    0.570041\n",
       "2017-05-02    0.391717\n",
       "2017-05-03    0.488587\n",
       "2017-05-04    0.899459\n",
       "2017-05-05    0.265166\n",
       "2017-05-06    0.542195\n",
       "2017-05-07    0.917402\n",
       "2017-05-08    0.743899\n",
       "2017-05-09    0.160839\n",
       "2017-05-10    0.188446\n",
       "2017-05-11    0.829103\n",
       "2017-05-12    0.083952\n",
       "2017-05-13    0.707566\n",
       "2017-05-14    0.770143\n",
       "2017-05-15    0.731641\n",
       "2017-05-16    0.346835\n",
       "2017-05-17    0.496560\n",
       "2017-05-18    0.388061\n",
       "2017-05-19    0.958094\n",
       "2017-05-20    0.324870\n",
       "2017-05-21    0.629134\n",
       "2017-05-22    0.965190\n",
       "2017-05-23    0.817537\n",
       "2017-05-24    0.890255\n",
       "2017-05-25    0.296492\n",
       "2017-05-26    0.317615\n",
       "2017-05-27    0.184298\n",
       "2017-05-28    0.125485\n",
       "2017-05-29    0.626851\n",
       "2017-05-30    0.621664\n",
       "2017-05-31    0.135359\n",
       "Freq: D, dtype: float64"
      ]
     },
     "execution_count": 92,
     "metadata": {},
     "output_type": "execute_result"
    }
   ],
   "source": [
    "# Select by month\n",
    "ts['2017-5']"
   ]
  },
  {
   "cell_type": "code",
   "execution_count": 93,
   "metadata": {
    "collapsed": false
   },
   "outputs": [
    {
     "data": {
      "text/plain": [
       "2016-01-01    0.595279\n",
       "2016-01-02    0.490056\n",
       "2016-01-03    0.741655\n",
       "2016-01-04    0.086796\n",
       "2016-01-05    0.755716\n",
       "2016-01-06    0.026172\n",
       "2016-01-07    0.213961\n",
       "2016-01-08    0.476858\n",
       "2016-01-09    0.980886\n",
       "2016-01-10    0.905778\n",
       "2016-01-11    0.301915\n",
       "2016-01-12    0.185655\n",
       "2016-01-13    0.045625\n",
       "2016-01-14    0.780927\n",
       "2016-01-15    0.993273\n",
       "2016-01-16    0.880832\n",
       "2016-01-17    0.970070\n",
       "2016-01-18    0.013869\n",
       "2016-01-19    0.704042\n",
       "2016-01-20    0.065152\n",
       "2016-01-21    0.530789\n",
       "2016-01-22    0.454458\n",
       "2016-01-23    0.016616\n",
       "2016-01-24    0.258141\n",
       "2016-01-25    0.167477\n",
       "2016-01-26    0.204084\n",
       "2016-01-27    0.143021\n",
       "2016-01-28    0.778222\n",
       "2016-01-29    0.237505\n",
       "2016-01-30    0.072860\n",
       "                ...   \n",
       "2016-12-02    0.794601\n",
       "2016-12-03    0.238371\n",
       "2016-12-04    0.216759\n",
       "2016-12-05    0.365459\n",
       "2016-12-06    0.013481\n",
       "2016-12-07    0.379941\n",
       "2016-12-08    0.834966\n",
       "2016-12-09    0.572853\n",
       "2016-12-10    0.176522\n",
       "2016-12-11    0.674396\n",
       "2016-12-12    0.950041\n",
       "2016-12-13    0.405619\n",
       "2016-12-14    0.316756\n",
       "2016-12-15    0.191064\n",
       "2016-12-16    0.359056\n",
       "2016-12-17    0.624351\n",
       "2016-12-18    0.180527\n",
       "2016-12-19    0.085159\n",
       "2016-12-20    0.203740\n",
       "2016-12-21    0.176374\n",
       "2016-12-22    0.553573\n",
       "2016-12-23    0.901632\n",
       "2016-12-24    0.722628\n",
       "2016-12-25    0.192930\n",
       "2016-12-26    0.592585\n",
       "2016-12-27    0.838294\n",
       "2016-12-28    0.447745\n",
       "2016-12-29    0.104314\n",
       "2016-12-30    0.552662\n",
       "2016-12-31    0.213302\n",
       "Freq: D, dtype: float64"
      ]
     },
     "execution_count": 93,
     "metadata": {},
     "output_type": "execute_result"
    }
   ],
   "source": [
    "# Select a year\n",
    "ts['2016']"
   ]
  },
  {
   "cell_type": "markdown",
   "metadata": {
    "collapsed": true
   },
   "source": [
    "### Resampling\n",
    "\n",
    "Suppose you need the timestamps at another interval (resample). Resampling requires two\n",
    "things:\n",
    "  * At what new interval do you want to sample? (upsampling / downsampling)\n",
    "  * How to calculate the new value based on the available values (sum, max, min, mean, ...)?\n",
    "  \n",
    " \n",
    "    ts.resample('7D').max()    # Resample to every 7 days, take maximum value available.\n",
    "    \n",
    "The frequency uses the same list as for ```daterange```.\n",
    "\n",
    "http://pandas.pydata.org/pandas-docs/stable/timeseries.html#timeseries-offset-aliases\n"
   ]
  },
  {
   "cell_type": "code",
   "execution_count": 94,
   "metadata": {
    "collapsed": false,
    "scrolled": true
   },
   "outputs": [
    {
     "data": {
      "text/plain": [
       "2016-01-01 00:00:00    15\n",
       "2016-01-01 00:05:00     3\n",
       "2016-01-01 00:10:00     9\n",
       "2016-01-01 00:15:00     1\n",
       "2016-01-01 00:20:00     7\n",
       "2016-01-01 00:25:00     2\n",
       "2016-01-01 00:30:00    13\n",
       "2016-01-01 00:35:00     2\n",
       "2016-01-01 00:40:00     2\n",
       "2016-01-01 00:45:00     4\n",
       "Freq: 5T, dtype: int32"
      ]
     },
     "execution_count": 94,
     "metadata": {},
     "output_type": "execute_result"
    }
   ],
   "source": [
    "# Make a Timeseries, representing observations every 5 minutes.\n",
    "ts = pd.Series( np.random.randint(0,20,100), \n",
    "               index=pd.date_range( '1/1/2016', periods=100, freq=\"5min\") )\n",
    "ts.head(10)"
   ]
  },
  {
   "cell_type": "code",
   "execution_count": 95,
   "metadata": {
    "collapsed": false
   },
   "outputs": [
    {
     "data": {
      "text/plain": [
       "<matplotlib.axes._subplots.AxesSubplot at 0x1f9a6f55358>"
      ]
     },
     "execution_count": 95,
     "metadata": {},
     "output_type": "execute_result"
    },
    {
     "data": {
      "image/png": "[encoded data removed]",
      "text/plain": [
       "<matplotlib.figure.Figure at 0x1f9a7442630>"
      ]
     },
     "metadata": {},
     "output_type": "display_data"
    }
   ],
   "source": [
    "# Let's plot them\n",
    "ts.plot()"
   ]
  },
  {
   "cell_type": "code",
   "execution_count": 96,
   "metadata": {
    "collapsed": false
   },
   "outputs": [
    {
     "data": {
      "text/plain": [
       "2016-01-01 00:00:00     88\n",
       "2016-01-01 01:00:00    126\n",
       "2016-01-01 02:00:00     98\n",
       "2016-01-01 03:00:00    115\n",
       "2016-01-01 04:00:00     85\n",
       "2016-01-01 05:00:00    119\n",
       "2016-01-01 06:00:00    154\n",
       "2016-01-01 07:00:00    129\n",
       "2016-01-01 08:00:00     20\n",
       "Freq: H, dtype: int32"
      ]
     },
     "execution_count": 96,
     "metadata": {},
     "output_type": "execute_result"
    }
   ],
   "source": [
    "# Let's say you actually want a resolution of hours only. Sum all the observations.\n",
    "ts.resample('1H').sum()"
   ]
  },
  {
   "cell_type": "code",
   "execution_count": 97,
   "metadata": {
    "collapsed": false
   },
   "outputs": [
    {
     "data": {
      "text/plain": [
       "<matplotlib.axes._subplots.AxesSubplot at 0x1f9a7c19940>"
      ]
     },
     "execution_count": 97,
     "metadata": {},
     "output_type": "execute_result"
    },
    {
     "data": {
      "image/png": "[encoded data removed]",
      "text/plain": [
       "<matplotlib.figure.Figure at 0x1f9a7c33cf8>"
      ]
     },
     "metadata": {},
     "output_type": "display_data"
    }
   ],
   "source": [
    "ts.resample('1H').sum().plot()"
   ]
  },
  {
   "cell_type": "code",
   "execution_count": 98,
   "metadata": {
    "collapsed": false
   },
   "outputs": [
    {
     "data": {
      "text/plain": [
       "<matplotlib.legend.Legend at 0x1f9a73acba8>"
      ]
     },
     "execution_count": 98,
     "metadata": {},
     "output_type": "execute_result"
    },
    {
     "data": {
      "image/png": "[encoded data removed]",
      "text/plain": [
       "<matplotlib.figure.Figure at 0x1f9a7d0d6d8>"
      ]
     },
     "metadata": {},
     "output_type": "display_data"
    }
   ],
   "source": [
    "# We could have taken the mean value or the max...\n",
    "ts.resample('1H').mean().plot(label=\"Mean\")\n",
    "ts.resample('1H').max().plot(label=\"Max\")\n",
    "ts.resample('1H').min().plot(label=\"Min\")\n",
    "plt.legend(loc=(1.1,0.7))"
   ]
  },
  {
   "cell_type": "markdown",
   "metadata": {},
   "source": [
    "## Apply, applymap, map (Ch. 9)\n",
    "\n",
    "You can apply a function on the values in a Series or Dataframe. We have\n",
    "seen many uses of that: sum, mean, log, etc.\n",
    "\n",
    "There is a general way to use this. You can even write your own function that you want to apply.\n",
    "\n",
    "### Series\n",
    "\n",
    "    series.map( func / dictionary / series )\n",
    "  \n",
    "    series.apply( func )\n",
    "  \n",
    "  \n",
    "### Dataframes\n",
    "\n",
    "    dataframe.apply( func, axis )    # Works on whole rows or columns at a time\n",
    "  \n",
    "    dataframe.applymap( func )       # Works per element"
   ]
  },
  {
   "cell_type": "code",
   "execution_count": 99,
   "metadata": {
    "collapsed": false
   },
   "outputs": [
    {
     "data": {
      "text/plain": [
       "A    1\n",
       "B    2\n",
       "C    3\n",
       "D    4\n",
       "E    5\n",
       "dtype: int32"
      ]
     },
     "execution_count": 99,
     "metadata": {},
     "output_type": "execute_result"
    }
   ],
   "source": [
    "# Example, create a simple Series\n",
    "s = pd.Series( np.arange(1,6), index=list(\"ABCDE\") )\n",
    "s"
   ]
  },
  {
   "cell_type": "code",
   "execution_count": 100,
   "metadata": {
    "collapsed": false,
    "scrolled": true
   },
   "outputs": [
    {
     "data": {
      "text/plain": [
       "A    0.000000\n",
       "B    0.693147\n",
       "C    1.098612\n",
       "D    1.386294\n",
       "E    1.609438\n",
       "dtype: float64"
      ]
     },
     "execution_count": 100,
     "metadata": {},
     "output_type": "execute_result"
    }
   ],
   "source": [
    "# Apply the log function to each of the values\n",
    "# Note, alternative for this is np.log(s)\n",
    "s.map( np.log )"
   ]
  },
  {
   "cell_type": "code",
   "execution_count": 101,
   "metadata": {
    "collapsed": false
   },
   "outputs": [
    {
     "data": {
      "text/plain": [
       "1.5"
      ]
     },
     "execution_count": 101,
     "metadata": {},
     "output_type": "execute_result"
    }
   ],
   "source": [
    "# Our own function\n",
    "def f(x):\n",
    "    \"\"\"Calculate some function and round of to two decimals\"\"\"\n",
    "    return float(\"%.2f\" % (x*(x+1)/(x+2)))\n",
    "\n",
    "f(2)"
   ]
  },
  {
   "cell_type": "code",
   "execution_count": 102,
   "metadata": {
    "collapsed": false
   },
   "outputs": [
    {
     "data": {
      "text/plain": [
       "A    0.67\n",
       "B    1.50\n",
       "C    2.40\n",
       "D    3.33\n",
       "E    4.29\n",
       "dtype: float64"
      ]
     },
     "execution_count": 102,
     "metadata": {},
     "output_type": "execute_result"
    }
   ],
   "source": [
    "s.map( f )"
   ]
  },
  {
   "cell_type": "code",
   "execution_count": 103,
   "metadata": {
    "collapsed": false
   },
   "outputs": [
    {
     "data": {
      "text/plain": [
       "A    0.67\n",
       "B    1.50\n",
       "C    2.40\n",
       "D    3.33\n",
       "E    4.29\n",
       "dtype: float64"
      ]
     },
     "execution_count": 103,
     "metadata": {},
     "output_type": "execute_result"
    }
   ],
   "source": [
    "s.apply(f)"
   ]
  },
  {
   "cell_type": "code",
   "execution_count": 104,
   "metadata": {
    "collapsed": false
   },
   "outputs": [
    {
     "data": {
      "text/html": [
       "<div>\n",
       "<table border=\"1\" class=\"dataframe\">\n",
       "  <thead>\n",
       "    <tr style=\"text-align: right;\">\n",
       "      <th></th>\n",
       "      <th>A</th>\n",
       "      <th>B</th>\n",
       "      <th>C</th>\n",
       "      <th>D</th>\n",
       "    </tr>\n",
       "  </thead>\n",
       "  <tbody>\n",
       "    <tr>\n",
       "      <th>1</th>\n",
       "      <td>1</td>\n",
       "      <td>2</td>\n",
       "      <td>3</td>\n",
       "      <td>4</td>\n",
       "    </tr>\n",
       "    <tr>\n",
       "      <th>2</th>\n",
       "      <td>5</td>\n",
       "      <td>6</td>\n",
       "      <td>7</td>\n",
       "      <td>8</td>\n",
       "    </tr>\n",
       "    <tr>\n",
       "      <th>3</th>\n",
       "      <td>9</td>\n",
       "      <td>10</td>\n",
       "      <td>11</td>\n",
       "      <td>12</td>\n",
       "    </tr>\n",
       "  </tbody>\n",
       "</table>\n",
       "</div>"
      ],
      "text/plain": [
       "   A   B   C   D\n",
       "1  1   2   3   4\n",
       "2  5   6   7   8\n",
       "3  9  10  11  12"
      ]
     },
     "execution_count": 104,
     "metadata": {},
     "output_type": "execute_result"
    }
   ],
   "source": [
    "# Dataframes\n",
    "df = pd.DataFrame( np.arange(1,13).reshape(3,4), columns=list(\"ABCD\"), index=[1,2,3] )\n",
    "df"
   ]
  },
  {
   "cell_type": "code",
   "execution_count": 105,
   "metadata": {
    "collapsed": false
   },
   "outputs": [
    {
     "data": {
      "text/html": [
       "<div>\n",
       "<table border=\"1\" class=\"dataframe\">\n",
       "  <thead>\n",
       "    <tr style=\"text-align: right;\">\n",
       "      <th></th>\n",
       "      <th>A</th>\n",
       "      <th>B</th>\n",
       "      <th>C</th>\n",
       "      <th>D</th>\n",
       "    </tr>\n",
       "  </thead>\n",
       "  <tbody>\n",
       "    <tr>\n",
       "      <th>1</th>\n",
       "      <td>0.67</td>\n",
       "      <td>1.50</td>\n",
       "      <td>2.40</td>\n",
       "      <td>3.33</td>\n",
       "    </tr>\n",
       "    <tr>\n",
       "      <th>2</th>\n",
       "      <td>4.29</td>\n",
       "      <td>5.25</td>\n",
       "      <td>6.22</td>\n",
       "      <td>7.20</td>\n",
       "    </tr>\n",
       "    <tr>\n",
       "      <th>3</th>\n",
       "      <td>8.18</td>\n",
       "      <td>9.17</td>\n",
       "      <td>10.15</td>\n",
       "      <td>11.14</td>\n",
       "    </tr>\n",
       "  </tbody>\n",
       "</table>\n",
       "</div>"
      ],
      "text/plain": [
       "      A     B      C      D\n",
       "1  0.67  1.50   2.40   3.33\n",
       "2  4.29  5.25   6.22   7.20\n",
       "3  8.18  9.17  10.15  11.14"
      ]
     },
     "execution_count": 105,
     "metadata": {},
     "output_type": "execute_result"
    }
   ],
   "source": [
    "# When applying a function to each element, use applymap\n",
    "df.applymap( f )"
   ]
  },
  {
   "cell_type": "code",
   "execution_count": 106,
   "metadata": {
    "collapsed": false
   },
   "outputs": [
    {
     "data": {
      "text/plain": [
       "A    15\n",
       "B    18\n",
       "C    21\n",
       "D    24\n",
       "dtype: int64"
      ]
     },
     "execution_count": 106,
     "metadata": {},
     "output_type": "execute_result"
    }
   ],
   "source": [
    "# dataframe.apply works on rows or columns\n",
    "df.apply( np.sum, axis=0 )\n",
    "\n",
    "# Of course, this is similar to \n",
    "#df.sum(axis = 0)"
   ]
  },
  {
   "cell_type": "code",
   "execution_count": 107,
   "metadata": {
    "collapsed": false
   },
   "outputs": [
    {
     "data": {
      "text/plain": [
       "1    10\n",
       "2    26\n",
       "3    42\n",
       "dtype: int64"
      ]
     },
     "execution_count": 107,
     "metadata": {},
     "output_type": "execute_result"
    }
   ],
   "source": [
    "df.apply( sum, axis=1 )\n",
    "\n",
    "# or df.sum( axis=1 )"
   ]
  },
  {
   "cell_type": "code",
   "execution_count": null,
   "metadata": {
    "collapsed": true
   },
   "outputs": [],
   "source": []
  },
  {
   "cell_type": "code",
   "execution_count": null,
   "metadata": {
    "collapsed": true
   },
   "outputs": [],
   "source": []
  },
  {
   "cell_type": "markdown",
   "metadata": {},
   "source": [
    "### Data aggregation, grouping data\n",
    "\n",
    "Categorizing data into groups and applying a function to each group (such as aggregation).\n",
    "\n",
    "The steps are:\n",
    "\n",
    "  1. Split dataframe into groups\n",
    "  2. Apply function to each group separately\n",
    "  3. Combine result into a dataframe\n",
    "  \n",
    "  \n",
    "    dataframe.groupby('Key').apply( function  )\n",
    "    \n",
    "    \n",
    "```resample``` of TimeSeries is similar to ```groupby```.\n"
   ]
  },
  {
   "cell_type": "markdown",
   "metadata": {},
   "source": [
    "\n",
    "<img src=\"split-apply-combine.jpg\"/>\n",
    "\n",
    "Source: Python for Data Analysis - *Wes McKinney*"
   ]
  },
  {
   "cell_type": "code",
   "execution_count": 108,
   "metadata": {
    "collapsed": false
   },
   "outputs": [
    {
     "data": {
      "text/html": [
       "<div>\n",
       "<table border=\"1\" class=\"dataframe\">\n",
       "  <thead>\n",
       "    <tr style=\"text-align: right;\">\n",
       "      <th></th>\n",
       "      <th>sex</th>\n",
       "      <th>study</th>\n",
       "      <th>data1</th>\n",
       "      <th>data2</th>\n",
       "    </tr>\n",
       "    <tr>\n",
       "      <th>name</th>\n",
       "      <th></th>\n",
       "      <th></th>\n",
       "      <th></th>\n",
       "      <th></th>\n",
       "    </tr>\n",
       "  </thead>\n",
       "  <tbody>\n",
       "    <tr>\n",
       "      <th>John</th>\n",
       "      <td>M</td>\n",
       "      <td>EPA</td>\n",
       "      <td>0.897557</td>\n",
       "      <td>0.397809</td>\n",
       "    </tr>\n",
       "    <tr>\n",
       "      <th>Mary</th>\n",
       "      <td>F</td>\n",
       "      <td>EPA</td>\n",
       "      <td>0.981761</td>\n",
       "      <td>0.183383</td>\n",
       "    </tr>\n",
       "    <tr>\n",
       "      <th>Bob</th>\n",
       "      <td>M</td>\n",
       "      <td>MOT</td>\n",
       "      <td>0.374708</td>\n",
       "      <td>0.072755</td>\n",
       "    </tr>\n",
       "    <tr>\n",
       "      <th>Eve</th>\n",
       "      <td>F</td>\n",
       "      <td>SEPAM</td>\n",
       "      <td>0.414432</td>\n",
       "      <td>0.059558</td>\n",
       "    </tr>\n",
       "    <tr>\n",
       "      <th>George</th>\n",
       "      <td>M</td>\n",
       "      <td>SEPAM</td>\n",
       "      <td>0.759576</td>\n",
       "      <td>0.030975</td>\n",
       "    </tr>\n",
       "    <tr>\n",
       "      <th>Anne</th>\n",
       "      <td>F</td>\n",
       "      <td>MOT</td>\n",
       "      <td>0.749669</td>\n",
       "      <td>0.960724</td>\n",
       "    </tr>\n",
       "    <tr>\n",
       "      <th>Zach</th>\n",
       "      <td>M</td>\n",
       "      <td>EPA</td>\n",
       "      <td>0.935305</td>\n",
       "      <td>0.350159</td>\n",
       "    </tr>\n",
       "  </tbody>\n",
       "</table>\n",
       "</div>"
      ],
      "text/plain": [
       "       sex  study     data1     data2\n",
       "name                                 \n",
       "John     M    EPA  0.897557  0.397809\n",
       "Mary     F    EPA  0.981761  0.183383\n",
       "Bob      M    MOT  0.374708  0.072755\n",
       "Eve      F  SEPAM  0.414432  0.059558\n",
       "George   M  SEPAM  0.759576  0.030975\n",
       "Anne     F    MOT  0.749669  0.960724\n",
       "Zach     M    EPA  0.935305  0.350159"
      ]
     },
     "execution_count": 108,
     "metadata": {},
     "output_type": "execute_result"
    }
   ],
   "source": [
    "# Example dataframe\n",
    "\n",
    "df = pd.DataFrame( {'name': ['John','Mary','Bob','Eve','George','Anne','Zach'],\n",
    "                    'sex': list(\"MFMFMFM\"),\n",
    "                    'study': ['EPA','EPA','MOT','SEPAM','SEPAM','MOT', 'EPA'],\n",
    "                    'data1': np.random.random(7),\n",
    "                    'data2': np.random.random(7)}, \n",
    "                  columns=['name','sex','study','data1','data2'])\n",
    "df = df.set_index('name')\n",
    "df"
   ]
  },
  {
   "cell_type": "markdown",
   "metadata": {},
   "source": [
    "### Grouping by column"
   ]
  },
  {
   "cell_type": "code",
   "execution_count": 109,
   "metadata": {
    "collapsed": false
   },
   "outputs": [
    {
     "data": {
      "text/html": [
       "<div>\n",
       "<table border=\"1\" class=\"dataframe\">\n",
       "  <thead>\n",
       "    <tr style=\"text-align: right;\">\n",
       "      <th></th>\n",
       "      <th>data1</th>\n",
       "      <th>data2</th>\n",
       "    </tr>\n",
       "    <tr>\n",
       "      <th>study</th>\n",
       "      <th></th>\n",
       "      <th></th>\n",
       "    </tr>\n",
       "  </thead>\n",
       "  <tbody>\n",
       "    <tr>\n",
       "      <th>EPA</th>\n",
       "      <td>0.938208</td>\n",
       "      <td>0.310450</td>\n",
       "    </tr>\n",
       "    <tr>\n",
       "      <th>MOT</th>\n",
       "      <td>0.562188</td>\n",
       "      <td>0.516740</td>\n",
       "    </tr>\n",
       "    <tr>\n",
       "      <th>SEPAM</th>\n",
       "      <td>0.587004</td>\n",
       "      <td>0.045267</td>\n",
       "    </tr>\n",
       "  </tbody>\n",
       "</table>\n",
       "</div>"
      ],
      "text/plain": [
       "          data1     data2\n",
       "study                    \n",
       "EPA    0.938208  0.310450\n",
       "MOT    0.562188  0.516740\n",
       "SEPAM  0.587004  0.045267"
      ]
     },
     "execution_count": 109,
     "metadata": {},
     "output_type": "execute_result"
    }
   ],
   "source": [
    "# Group by study and take the mean.... non-numeric columns are left out automatically\n",
    "df.groupby('study').mean()"
   ]
  },
  {
   "cell_type": "code",
   "execution_count": 110,
   "metadata": {
    "collapsed": false
   },
   "outputs": [
    {
     "data": {
      "text/html": [
       "<div>\n",
       "<table border=\"1\" class=\"dataframe\">\n",
       "  <thead>\n",
       "    <tr style=\"text-align: right;\">\n",
       "      <th></th>\n",
       "      <th>data1</th>\n",
       "    </tr>\n",
       "    <tr>\n",
       "      <th>study</th>\n",
       "      <th></th>\n",
       "    </tr>\n",
       "  </thead>\n",
       "  <tbody>\n",
       "    <tr>\n",
       "      <th>EPA</th>\n",
       "      <td>0.938208</td>\n",
       "    </tr>\n",
       "    <tr>\n",
       "      <th>MOT</th>\n",
       "      <td>0.562188</td>\n",
       "    </tr>\n",
       "    <tr>\n",
       "      <th>SEPAM</th>\n",
       "      <td>0.587004</td>\n",
       "    </tr>\n",
       "  </tbody>\n",
       "</table>\n",
       "</div>"
      ],
      "text/plain": [
       "          data1\n",
       "study          \n",
       "EPA    0.938208\n",
       "MOT    0.562188\n",
       "SEPAM  0.587004"
      ]
     },
     "execution_count": 110,
     "metadata": {},
     "output_type": "execute_result"
    }
   ],
   "source": [
    "# If you are only intersted in data1, select it.\n",
    "df.groupby('study')[['data1']].mean()"
   ]
  },
  {
   "cell_type": "code",
   "execution_count": 111,
   "metadata": {
    "collapsed": false
   },
   "outputs": [
    {
     "data": {
      "text/plain": [
       "study\n",
       "EPA      0.938208\n",
       "MOT      0.562188\n",
       "SEPAM    0.587004\n",
       "Name: data1, dtype: float64"
      ]
     },
     "execution_count": 111,
     "metadata": {},
     "output_type": "execute_result"
    }
   ],
   "source": [
    "# Or, select it first, and then group (but group on df.study, not just 'study')\n",
    "df.data1.groupby(df.study).mean()"
   ]
  },
  {
   "cell_type": "markdown",
   "metadata": {},
   "source": [
    "### Grouping by arbitrary data, Series"
   ]
  },
  {
   "cell_type": "code",
   "execution_count": 112,
   "metadata": {
    "collapsed": false
   },
   "outputs": [
    {
     "data": {
      "text/html": [
       "<div>\n",
       "<table border=\"1\" class=\"dataframe\">\n",
       "  <thead>\n",
       "    <tr style=\"text-align: right;\">\n",
       "      <th></th>\n",
       "      <th>data1</th>\n",
       "      <th>data2</th>\n",
       "    </tr>\n",
       "  </thead>\n",
       "  <tbody>\n",
       "    <tr>\n",
       "      <th>A</th>\n",
       "      <td>0.802267</td>\n",
       "      <td>0.463169</td>\n",
       "    </tr>\n",
       "    <tr>\n",
       "      <th>B</th>\n",
       "      <td>0.698097</td>\n",
       "      <td>0.121471</td>\n",
       "    </tr>\n",
       "    <tr>\n",
       "      <th>C</th>\n",
       "      <td>0.935305</td>\n",
       "      <td>0.350159</td>\n",
       "    </tr>\n",
       "    <tr>\n",
       "      <th>D</th>\n",
       "      <td>0.374708</td>\n",
       "      <td>0.072755</td>\n",
       "    </tr>\n",
       "  </tbody>\n",
       "</table>\n",
       "</div>"
      ],
      "text/plain": [
       "      data1     data2\n",
       "A  0.802267  0.463169\n",
       "B  0.698097  0.121471\n",
       "C  0.935305  0.350159\n",
       "D  0.374708  0.072755"
      ]
     },
     "execution_count": 112,
     "metadata": {},
     "output_type": "execute_result"
    }
   ],
   "source": [
    "# In general, groupby can take any series to group the data by, as long as the length matches\n",
    "# But, usually you use data from the dataframe itself...\n",
    "l = ['A','B','D','B','A','A','C']\n",
    "\n",
    "df.groupby(l).mean()"
   ]
  },
  {
   "cell_type": "markdown",
   "metadata": {},
   "source": [
    "### Grouping by multiple columns"
   ]
  },
  {
   "cell_type": "code",
   "execution_count": 113,
   "metadata": {
    "collapsed": false,
    "scrolled": true
   },
   "outputs": [
    {
     "data": {
      "text/html": [
       "<div>\n",
       "<table border=\"1\" class=\"dataframe\">\n",
       "  <thead>\n",
       "    <tr style=\"text-align: right;\">\n",
       "      <th></th>\n",
       "      <th></th>\n",
       "      <th>data1</th>\n",
       "      <th>data2</th>\n",
       "    </tr>\n",
       "    <tr>\n",
       "      <th>study</th>\n",
       "      <th>sex</th>\n",
       "      <th></th>\n",
       "      <th></th>\n",
       "    </tr>\n",
       "  </thead>\n",
       "  <tbody>\n",
       "    <tr>\n",
       "      <th rowspan=\"2\" valign=\"top\">EPA</th>\n",
       "      <th>F</th>\n",
       "      <td>0.981761</td>\n",
       "      <td>0.183383</td>\n",
       "    </tr>\n",
       "    <tr>\n",
       "      <th>M</th>\n",
       "      <td>0.916431</td>\n",
       "      <td>0.373984</td>\n",
       "    </tr>\n",
       "    <tr>\n",
       "      <th rowspan=\"2\" valign=\"top\">MOT</th>\n",
       "      <th>F</th>\n",
       "      <td>0.749669</td>\n",
       "      <td>0.960724</td>\n",
       "    </tr>\n",
       "    <tr>\n",
       "      <th>M</th>\n",
       "      <td>0.374708</td>\n",
       "      <td>0.072755</td>\n",
       "    </tr>\n",
       "    <tr>\n",
       "      <th rowspan=\"2\" valign=\"top\">SEPAM</th>\n",
       "      <th>F</th>\n",
       "      <td>0.414432</td>\n",
       "      <td>0.059558</td>\n",
       "    </tr>\n",
       "    <tr>\n",
       "      <th>M</th>\n",
       "      <td>0.759576</td>\n",
       "      <td>0.030975</td>\n",
       "    </tr>\n",
       "  </tbody>\n",
       "</table>\n",
       "</div>"
      ],
      "text/plain": [
       "              data1     data2\n",
       "study sex                    \n",
       "EPA   F    0.981761  0.183383\n",
       "      M    0.916431  0.373984\n",
       "MOT   F    0.749669  0.960724\n",
       "      M    0.374708  0.072755\n",
       "SEPAM F    0.414432  0.059558\n",
       "      M    0.759576  0.030975"
      ]
     },
     "execution_count": 113,
     "metadata": {},
     "output_type": "execute_result"
    }
   ],
   "source": [
    "# Group by multiple columns\n",
    "df.groupby( ['study', 'sex' ]).mean()\n",
    "\n",
    "# This would yield the same result. Naming 'columns' directly is a shortcut.\n",
    "#df.groupby( [ df.study, df.sex] ).mean()"
   ]
  },
  {
   "cell_type": "markdown",
   "metadata": {},
   "source": [
    "### Typical aggregation functions\n",
    "\n",
    "  * size - size of each group.\n",
    "  * count - number of non-NaN values\n",
    "  * sum, prod\n",
    "  * mean\n",
    "  * std, varr\n",
    "  * min, max\n",
    "  * first, last\n",
    "  \n",
    "  * describe - general statics per group\n",
    "  "
   ]
  },
  {
   "cell_type": "code",
   "execution_count": 114,
   "metadata": {
    "collapsed": false
   },
   "outputs": [
    {
     "data": {
      "text/plain": [
       "study\n",
       "EPA      3\n",
       "MOT      2\n",
       "SEPAM    2\n",
       "dtype: int64"
      ]
     },
     "execution_count": 114,
     "metadata": {},
     "output_type": "execute_result"
    }
   ],
   "source": [
    "gr = df.groupby( 'study' )\n",
    "\n",
    "gr.size()"
   ]
  },
  {
   "cell_type": "code",
   "execution_count": 115,
   "metadata": {
    "collapsed": false
   },
   "outputs": [
    {
     "data": {
      "text/html": [
       "<div>\n",
       "<table border=\"1\" class=\"dataframe\">\n",
       "  <thead>\n",
       "    <tr style=\"text-align: right;\">\n",
       "      <th></th>\n",
       "      <th>sex</th>\n",
       "      <th>data1</th>\n",
       "      <th>data2</th>\n",
       "    </tr>\n",
       "    <tr>\n",
       "      <th>study</th>\n",
       "      <th></th>\n",
       "      <th></th>\n",
       "      <th></th>\n",
       "    </tr>\n",
       "  </thead>\n",
       "  <tbody>\n",
       "    <tr>\n",
       "      <th>EPA</th>\n",
       "      <td>3</td>\n",
       "      <td>3</td>\n",
       "      <td>3</td>\n",
       "    </tr>\n",
       "    <tr>\n",
       "      <th>MOT</th>\n",
       "      <td>2</td>\n",
       "      <td>2</td>\n",
       "      <td>2</td>\n",
       "    </tr>\n",
       "    <tr>\n",
       "      <th>SEPAM</th>\n",
       "      <td>2</td>\n",
       "      <td>2</td>\n",
       "      <td>2</td>\n",
       "    </tr>\n",
       "  </tbody>\n",
       "</table>\n",
       "</div>"
      ],
      "text/plain": [
       "       sex  data1  data2\n",
       "study                   \n",
       "EPA      3      3      3\n",
       "MOT      2      2      2\n",
       "SEPAM    2      2      2"
      ]
     },
     "execution_count": 115,
     "metadata": {},
     "output_type": "execute_result"
    }
   ],
   "source": [
    "gr.count()"
   ]
  },
  {
   "cell_type": "code",
   "execution_count": 116,
   "metadata": {
    "collapsed": false,
    "scrolled": true
   },
   "outputs": [
    {
     "data": {
      "text/html": [
       "<div>\n",
       "<table border=\"1\" class=\"dataframe\">\n",
       "  <thead>\n",
       "    <tr style=\"text-align: right;\">\n",
       "      <th></th>\n",
       "      <th>data1</th>\n",
       "      <th>data2</th>\n",
       "    </tr>\n",
       "    <tr>\n",
       "      <th>study</th>\n",
       "      <th></th>\n",
       "      <th></th>\n",
       "    </tr>\n",
       "  </thead>\n",
       "  <tbody>\n",
       "    <tr>\n",
       "      <th>EPA</th>\n",
       "      <td>2.814623</td>\n",
       "      <td>0.931351</td>\n",
       "    </tr>\n",
       "    <tr>\n",
       "      <th>MOT</th>\n",
       "      <td>1.124377</td>\n",
       "      <td>1.033479</td>\n",
       "    </tr>\n",
       "    <tr>\n",
       "      <th>SEPAM</th>\n",
       "      <td>1.174008</td>\n",
       "      <td>0.090533</td>\n",
       "    </tr>\n",
       "  </tbody>\n",
       "</table>\n",
       "</div>"
      ],
      "text/plain": [
       "          data1     data2\n",
       "study                    \n",
       "EPA    2.814623  0.931351\n",
       "MOT    1.124377  1.033479\n",
       "SEPAM  1.174008  0.090533"
      ]
     },
     "execution_count": 116,
     "metadata": {},
     "output_type": "execute_result"
    }
   ],
   "source": [
    "gr.sum()"
   ]
  },
  {
   "cell_type": "code",
   "execution_count": 117,
   "metadata": {
    "collapsed": false,
    "scrolled": false
   },
   "outputs": [
    {
     "data": {
      "text/html": [
       "<div>\n",
       "<table border=\"1\" class=\"dataframe\">\n",
       "  <thead>\n",
       "    <tr style=\"text-align: right;\">\n",
       "      <th></th>\n",
       "      <th></th>\n",
       "      <th>data1</th>\n",
       "      <th>data2</th>\n",
       "    </tr>\n",
       "    <tr>\n",
       "      <th>study</th>\n",
       "      <th></th>\n",
       "      <th></th>\n",
       "      <th></th>\n",
       "    </tr>\n",
       "  </thead>\n",
       "  <tbody>\n",
       "    <tr>\n",
       "      <th rowspan=\"8\" valign=\"top\">EPA</th>\n",
       "      <th>count</th>\n",
       "      <td>3.000000</td>\n",
       "      <td>3.000000</td>\n",
       "    </tr>\n",
       "    <tr>\n",
       "      <th>mean</th>\n",
       "      <td>0.938208</td>\n",
       "      <td>0.310450</td>\n",
       "    </tr>\n",
       "    <tr>\n",
       "      <th>std</th>\n",
       "      <td>0.042177</td>\n",
       "      <td>0.112593</td>\n",
       "    </tr>\n",
       "    <tr>\n",
       "      <th>min</th>\n",
       "      <td>0.897557</td>\n",
       "      <td>0.183383</td>\n",
       "    </tr>\n",
       "    <tr>\n",
       "      <th>25%</th>\n",
       "      <td>0.916431</td>\n",
       "      <td>0.266771</td>\n",
       "    </tr>\n",
       "    <tr>\n",
       "      <th>50%</th>\n",
       "      <td>0.935305</td>\n",
       "      <td>0.350159</td>\n",
       "    </tr>\n",
       "    <tr>\n",
       "      <th>75%</th>\n",
       "      <td>0.958533</td>\n",
       "      <td>0.373984</td>\n",
       "    </tr>\n",
       "    <tr>\n",
       "      <th>max</th>\n",
       "      <td>0.981761</td>\n",
       "      <td>0.397809</td>\n",
       "    </tr>\n",
       "    <tr>\n",
       "      <th rowspan=\"8\" valign=\"top\">MOT</th>\n",
       "      <th>count</th>\n",
       "      <td>2.000000</td>\n",
       "      <td>2.000000</td>\n",
       "    </tr>\n",
       "    <tr>\n",
       "      <th>mean</th>\n",
       "      <td>0.562188</td>\n",
       "      <td>0.516740</td>\n",
       "    </tr>\n",
       "    <tr>\n",
       "      <th>std</th>\n",
       "      <td>0.265138</td>\n",
       "      <td>0.627889</td>\n",
       "    </tr>\n",
       "    <tr>\n",
       "      <th>min</th>\n",
       "      <td>0.374708</td>\n",
       "      <td>0.072755</td>\n",
       "    </tr>\n",
       "    <tr>\n",
       "      <th>25%</th>\n",
       "      <td>0.468448</td>\n",
       "      <td>0.294747</td>\n",
       "    </tr>\n",
       "    <tr>\n",
       "      <th>50%</th>\n",
       "      <td>0.562188</td>\n",
       "      <td>0.516740</td>\n",
       "    </tr>\n",
       "    <tr>\n",
       "      <th>75%</th>\n",
       "      <td>0.655929</td>\n",
       "      <td>0.738732</td>\n",
       "    </tr>\n",
       "    <tr>\n",
       "      <th>max</th>\n",
       "      <td>0.749669</td>\n",
       "      <td>0.960724</td>\n",
       "    </tr>\n",
       "    <tr>\n",
       "      <th rowspan=\"8\" valign=\"top\">SEPAM</th>\n",
       "      <th>count</th>\n",
       "      <td>2.000000</td>\n",
       "      <td>2.000000</td>\n",
       "    </tr>\n",
       "    <tr>\n",
       "      <th>mean</th>\n",
       "      <td>0.587004</td>\n",
       "      <td>0.045267</td>\n",
       "    </tr>\n",
       "    <tr>\n",
       "      <th>std</th>\n",
       "      <td>0.244053</td>\n",
       "      <td>0.020211</td>\n",
       "    </tr>\n",
       "    <tr>\n",
       "      <th>min</th>\n",
       "      <td>0.414432</td>\n",
       "      <td>0.030975</td>\n",
       "    </tr>\n",
       "    <tr>\n",
       "      <th>25%</th>\n",
       "      <td>0.500718</td>\n",
       "      <td>0.038121</td>\n",
       "    </tr>\n",
       "    <tr>\n",
       "      <th>50%</th>\n",
       "      <td>0.587004</td>\n",
       "      <td>0.045267</td>\n",
       "    </tr>\n",
       "    <tr>\n",
       "      <th>75%</th>\n",
       "      <td>0.673290</td>\n",
       "      <td>0.052412</td>\n",
       "    </tr>\n",
       "    <tr>\n",
       "      <th>max</th>\n",
       "      <td>0.759576</td>\n",
       "      <td>0.059558</td>\n",
       "    </tr>\n",
       "  </tbody>\n",
       "</table>\n",
       "</div>"
      ],
      "text/plain": [
       "                data1     data2\n",
       "study                          \n",
       "EPA   count  3.000000  3.000000\n",
       "      mean   0.938208  0.310450\n",
       "      std    0.042177  0.112593\n",
       "      min    0.897557  0.183383\n",
       "      25%    0.916431  0.266771\n",
       "      50%    0.935305  0.350159\n",
       "      75%    0.958533  0.373984\n",
       "      max    0.981761  0.397809\n",
       "MOT   count  2.000000  2.000000\n",
       "      mean   0.562188  0.516740\n",
       "      std    0.265138  0.627889\n",
       "      min    0.374708  0.072755\n",
       "      25%    0.468448  0.294747\n",
       "      50%    0.562188  0.516740\n",
       "      75%    0.655929  0.738732\n",
       "      max    0.749669  0.960724\n",
       "SEPAM count  2.000000  2.000000\n",
       "      mean   0.587004  0.045267\n",
       "      std    0.244053  0.020211\n",
       "      min    0.414432  0.030975\n",
       "      25%    0.500718  0.038121\n",
       "      50%    0.587004  0.045267\n",
       "      75%    0.673290  0.052412\n",
       "      max    0.759576  0.059558"
      ]
     },
     "execution_count": 117,
     "metadata": {},
     "output_type": "execute_result"
    }
   ],
   "source": [
    "gr.describe()"
   ]
  },
  {
   "cell_type": "markdown",
   "metadata": {},
   "source": [
    "### Aggregate different ways at the same time\n",
    "\n",
    "We can aggregate the same data in different ways (sum, mean\n",
    ", min, max, ...) at the same time.\n"
   ]
  },
  {
   "cell_type": "code",
   "execution_count": 118,
   "metadata": {
    "collapsed": false
   },
   "outputs": [
    {
     "data": {
      "text/html": [
       "<div>\n",
       "<table border=\"1\" class=\"dataframe\">\n",
       "  <thead>\n",
       "    <tr>\n",
       "      <th></th>\n",
       "      <th colspan=\"5\" halign=\"left\">data1</th>\n",
       "      <th colspan=\"5\" halign=\"left\">data2</th>\n",
       "    </tr>\n",
       "    <tr>\n",
       "      <th></th>\n",
       "      <th>sum</th>\n",
       "      <th>mean</th>\n",
       "      <th>min</th>\n",
       "      <th>max</th>\n",
       "      <th>std</th>\n",
       "      <th>sum</th>\n",
       "      <th>mean</th>\n",
       "      <th>min</th>\n",
       "      <th>max</th>\n",
       "      <th>std</th>\n",
       "    </tr>\n",
       "    <tr>\n",
       "      <th>study</th>\n",
       "      <th></th>\n",
       "      <th></th>\n",
       "      <th></th>\n",
       "      <th></th>\n",
       "      <th></th>\n",
       "      <th></th>\n",
       "      <th></th>\n",
       "      <th></th>\n",
       "      <th></th>\n",
       "      <th></th>\n",
       "    </tr>\n",
       "  </thead>\n",
       "  <tbody>\n",
       "    <tr>\n",
       "      <th>EPA</th>\n",
       "      <td>2.814623</td>\n",
       "      <td>0.938208</td>\n",
       "      <td>0.897557</td>\n",
       "      <td>0.981761</td>\n",
       "      <td>0.042177</td>\n",
       "      <td>0.931351</td>\n",
       "      <td>0.310450</td>\n",
       "      <td>0.183383</td>\n",
       "      <td>0.397809</td>\n",
       "      <td>0.112593</td>\n",
       "    </tr>\n",
       "    <tr>\n",
       "      <th>MOT</th>\n",
       "      <td>1.124377</td>\n",
       "      <td>0.562188</td>\n",
       "      <td>0.374708</td>\n",
       "      <td>0.749669</td>\n",
       "      <td>0.265138</td>\n",
       "      <td>1.033479</td>\n",
       "      <td>0.516740</td>\n",
       "      <td>0.072755</td>\n",
       "      <td>0.960724</td>\n",
       "      <td>0.627889</td>\n",
       "    </tr>\n",
       "    <tr>\n",
       "      <th>SEPAM</th>\n",
       "      <td>1.174008</td>\n",
       "      <td>0.587004</td>\n",
       "      <td>0.414432</td>\n",
       "      <td>0.759576</td>\n",
       "      <td>0.244053</td>\n",
       "      <td>0.090533</td>\n",
       "      <td>0.045267</td>\n",
       "      <td>0.030975</td>\n",
       "      <td>0.059558</td>\n",
       "      <td>0.020211</td>\n",
       "    </tr>\n",
       "  </tbody>\n",
       "</table>\n",
       "</div>"
      ],
      "text/plain": [
       "          data1                                             data2            \\\n",
       "            sum      mean       min       max       std       sum      mean   \n",
       "study                                                                         \n",
       "EPA    2.814623  0.938208  0.897557  0.981761  0.042177  0.931351  0.310450   \n",
       "MOT    1.124377  0.562188  0.374708  0.749669  0.265138  1.033479  0.516740   \n",
       "SEPAM  1.174008  0.587004  0.414432  0.759576  0.244053  0.090533  0.045267   \n",
       "\n",
       "                                     \n",
       "            min       max       std  \n",
       "study                                \n",
       "EPA    0.183383  0.397809  0.112593  \n",
       "MOT    0.072755  0.960724  0.627889  \n",
       "SEPAM  0.030975  0.059558  0.020211  "
      ]
     },
     "execution_count": 118,
     "metadata": {},
     "output_type": "execute_result"
    }
   ],
   "source": [
    "# Show sum, mean, min, max and std dev for both data1 and data2\n",
    "gr.agg( ['sum', 'mean', 'min', 'max', 'std'])"
   ]
  },
  {
   "cell_type": "code",
   "execution_count": 119,
   "metadata": {
    "collapsed": false
   },
   "outputs": [
    {
     "data": {
      "text/html": [
       "<div>\n",
       "<table border=\"1\" class=\"dataframe\">\n",
       "  <thead>\n",
       "    <tr>\n",
       "      <th></th>\n",
       "      <th colspan=\"3\" halign=\"left\">data1</th>\n",
       "      <th colspan=\"4\" halign=\"left\">data2</th>\n",
       "    </tr>\n",
       "    <tr>\n",
       "      <th></th>\n",
       "      <th>sum</th>\n",
       "      <th>mean</th>\n",
       "      <th>var</th>\n",
       "      <th>mean</th>\n",
       "      <th>min</th>\n",
       "      <th>max</th>\n",
       "      <th>std</th>\n",
       "    </tr>\n",
       "    <tr>\n",
       "      <th>study</th>\n",
       "      <th></th>\n",
       "      <th></th>\n",
       "      <th></th>\n",
       "      <th></th>\n",
       "      <th></th>\n",
       "      <th></th>\n",
       "      <th></th>\n",
       "    </tr>\n",
       "  </thead>\n",
       "  <tbody>\n",
       "    <tr>\n",
       "      <th>EPA</th>\n",
       "      <td>2.814623</td>\n",
       "      <td>0.938208</td>\n",
       "      <td>0.001779</td>\n",
       "      <td>0.310450</td>\n",
       "      <td>0.183383</td>\n",
       "      <td>0.397809</td>\n",
       "      <td>0.112593</td>\n",
       "    </tr>\n",
       "    <tr>\n",
       "      <th>MOT</th>\n",
       "      <td>1.124377</td>\n",
       "      <td>0.562188</td>\n",
       "      <td>0.070298</td>\n",
       "      <td>0.516740</td>\n",
       "      <td>0.072755</td>\n",
       "      <td>0.960724</td>\n",
       "      <td>0.627889</td>\n",
       "    </tr>\n",
       "    <tr>\n",
       "      <th>SEPAM</th>\n",
       "      <td>1.174008</td>\n",
       "      <td>0.587004</td>\n",
       "      <td>0.059562</td>\n",
       "      <td>0.045267</td>\n",
       "      <td>0.030975</td>\n",
       "      <td>0.059558</td>\n",
       "      <td>0.020211</td>\n",
       "    </tr>\n",
       "  </tbody>\n",
       "</table>\n",
       "</div>"
      ],
      "text/plain": [
       "          data1                         data2                              \n",
       "            sum      mean       var      mean       min       max       std\n",
       "study                                                                      \n",
       "EPA    2.814623  0.938208  0.001779  0.310450  0.183383  0.397809  0.112593\n",
       "MOT    1.124377  0.562188  0.070298  0.516740  0.072755  0.960724  0.627889\n",
       "SEPAM  1.174008  0.587004  0.059562  0.045267  0.030975  0.059558  0.020211"
      ]
     },
     "execution_count": 119,
     "metadata": {},
     "output_type": "execute_result"
    }
   ],
   "source": [
    "# Or dependent on column show different aggregations.\n",
    "# You can use any function that aggregates.\n",
    "# Some shortcuts exist, such as \"mean\", \"sum\", \"min\", \"max\", \"std\", \"var\", etc.\n",
    "\n",
    "gr.agg( { 'data1': [ np.sum, np.mean, np.var ],\n",
    "          'data2' : ['mean', 'min', 'max', 'std']})"
   ]
  },
  {
   "cell_type": "code",
   "execution_count": null,
   "metadata": {
    "collapsed": true
   },
   "outputs": [],
   "source": []
  },
  {
   "cell_type": "markdown",
   "metadata": {},
   "source": [
    "### Plotting\n",
    "\n",
    "Plotting groups will label the x-axis with the group-names."
   ]
  },
  {
   "cell_type": "code",
   "execution_count": 120,
   "metadata": {
    "collapsed": false,
    "scrolled": false
   },
   "outputs": [
    {
     "data": {
      "text/plain": [
       "<matplotlib.axes._subplots.AxesSubplot at 0x1f9a7dac3c8>"
      ]
     },
     "execution_count": 120,
     "metadata": {},
     "output_type": "execute_result"
    },
    {
     "data": {
      "image/png": "[encoded data removed]",
      "text/plain": [
       "<matplotlib.figure.Figure at 0x1f9a7dcc588>"
      ]
     },
     "metadata": {},
     "output_type": "display_data"
    }
   ],
   "source": [
    "gr.mean().plot()"
   ]
  },
  {
   "cell_type": "code",
   "execution_count": 121,
   "metadata": {
    "collapsed": false,
    "scrolled": true
   },
   "outputs": [
    {
     "data": {
      "text/plain": [
       "<matplotlib.axes._subplots.AxesSubplot at 0x1f9a7dfbe80>"
      ]
     },
     "execution_count": 121,
     "metadata": {},
     "output_type": "execute_result"
    },
    {
     "data": {
      "image/png": "[encoded data removed]",
      "text/plain": [
       "<matplotlib.figure.Figure at 0x1f9a7e5cc88>"
      ]
     },
     "metadata": {},
     "output_type": "display_data"
    }
   ],
   "source": [
    "# When grouped on two columns\n",
    "df.groupby(['study','sex']).mean().plot()"
   ]
  },
  {
   "cell_type": "code",
   "execution_count": null,
   "metadata": {
    "collapsed": true
   },
   "outputs": [],
   "source": []
  },
  {
   "cell_type": "markdown",
   "metadata": {},
   "source": [
    "## Pivot tables\n",
    "\n",
    "Grouping data along rows and columns.\n",
    "\n",
    "    pd.pivot_table( dataframe, ... )\n",
    "    \n",
    "or\n",
    "\n",
    "    dataframe.pivot_table( ... )\n",
    "    "
   ]
  },
  {
   "cell_type": "code",
   "execution_count": 122,
   "metadata": {
    "collapsed": false
   },
   "outputs": [
    {
     "data": {
      "text/html": [
       "<div>\n",
       "<table border=\"1\" class=\"dataframe\">\n",
       "  <thead>\n",
       "    <tr>\n",
       "      <th></th>\n",
       "      <th colspan=\"3\" halign=\"left\">data1</th>\n",
       "    </tr>\n",
       "    <tr>\n",
       "      <th>study</th>\n",
       "      <th>EPA</th>\n",
       "      <th>MOT</th>\n",
       "      <th>SEPAM</th>\n",
       "    </tr>\n",
       "    <tr>\n",
       "      <th>sex</th>\n",
       "      <th></th>\n",
       "      <th></th>\n",
       "      <th></th>\n",
       "    </tr>\n",
       "  </thead>\n",
       "  <tbody>\n",
       "    <tr>\n",
       "      <th>F</th>\n",
       "      <td>0.981761</td>\n",
       "      <td>0.749669</td>\n",
       "      <td>0.414432</td>\n",
       "    </tr>\n",
       "    <tr>\n",
       "      <th>M</th>\n",
       "      <td>0.916431</td>\n",
       "      <td>0.374708</td>\n",
       "      <td>0.759576</td>\n",
       "    </tr>\n",
       "  </tbody>\n",
       "</table>\n",
       "</div>"
      ],
      "text/plain": [
       "          data1                    \n",
       "study       EPA       MOT     SEPAM\n",
       "sex                                \n",
       "F      0.981761  0.749669  0.414432\n",
       "M      0.916431  0.374708  0.759576"
      ]
     },
     "execution_count": 122,
     "metadata": {},
     "output_type": "execute_result"
    }
   ],
   "source": [
    "df.pivot_table( columns=['study'], index=['sex'], values=['data1'], aggfunc=np.mean )"
   ]
  },
  {
   "cell_type": "code",
   "execution_count": 123,
   "metadata": {
    "collapsed": false
   },
   "outputs": [
    {
     "data": {
      "text/html": [
       "<div>\n",
       "<table border=\"1\" class=\"dataframe\">\n",
       "  <thead>\n",
       "    <tr>\n",
       "      <th></th>\n",
       "      <th colspan=\"4\" halign=\"left\">data1</th>\n",
       "      <th colspan=\"4\" halign=\"left\">data2</th>\n",
       "    </tr>\n",
       "    <tr>\n",
       "      <th>study</th>\n",
       "      <th>EPA</th>\n",
       "      <th>MOT</th>\n",
       "      <th>SEPAM</th>\n",
       "      <th>All</th>\n",
       "      <th>EPA</th>\n",
       "      <th>MOT</th>\n",
       "      <th>SEPAM</th>\n",
       "      <th>All</th>\n",
       "    </tr>\n",
       "    <tr>\n",
       "      <th>sex</th>\n",
       "      <th></th>\n",
       "      <th></th>\n",
       "      <th></th>\n",
       "      <th></th>\n",
       "      <th></th>\n",
       "      <th></th>\n",
       "      <th></th>\n",
       "      <th></th>\n",
       "    </tr>\n",
       "  </thead>\n",
       "  <tbody>\n",
       "    <tr>\n",
       "      <th>F</th>\n",
       "      <td>0.981761</td>\n",
       "      <td>0.749669</td>\n",
       "      <td>0.414432</td>\n",
       "      <td>2.145862</td>\n",
       "      <td>0.183383</td>\n",
       "      <td>0.960724</td>\n",
       "      <td>0.059558</td>\n",
       "      <td>1.203666</td>\n",
       "    </tr>\n",
       "    <tr>\n",
       "      <th>M</th>\n",
       "      <td>1.832861</td>\n",
       "      <td>0.374708</td>\n",
       "      <td>0.759576</td>\n",
       "      <td>2.967145</td>\n",
       "      <td>0.747968</td>\n",
       "      <td>0.072755</td>\n",
       "      <td>0.030975</td>\n",
       "      <td>0.851698</td>\n",
       "    </tr>\n",
       "    <tr>\n",
       "      <th>All</th>\n",
       "      <td>2.814623</td>\n",
       "      <td>1.124377</td>\n",
       "      <td>1.174008</td>\n",
       "      <td>5.113007</td>\n",
       "      <td>0.931351</td>\n",
       "      <td>1.033479</td>\n",
       "      <td>0.090533</td>\n",
       "      <td>2.055364</td>\n",
       "    </tr>\n",
       "  </tbody>\n",
       "</table>\n",
       "</div>"
      ],
      "text/plain": [
       "          data1                                   data2                      \\\n",
       "study       EPA       MOT     SEPAM       All       EPA       MOT     SEPAM   \n",
       "sex                                                                           \n",
       "F      0.981761  0.749669  0.414432  2.145862  0.183383  0.960724  0.059558   \n",
       "M      1.832861  0.374708  0.759576  2.967145  0.747968  0.072755  0.030975   \n",
       "All    2.814623  1.124377  1.174008  5.113007  0.931351  1.033479  0.090533   \n",
       "\n",
       "                 \n",
       "study       All  \n",
       "sex              \n",
       "F      1.203666  \n",
       "M      0.851698  \n",
       "All    2.055364  "
      ]
     },
     "execution_count": 123,
     "metadata": {},
     "output_type": "execute_result"
    }
   ],
   "source": [
    "# Adding an \"All\" row / column\n",
    "\n",
    "df.pivot_table( index=['sex'], columns=['study'], margins=True, aggfunc=np.sum )"
   ]
  },
  {
   "cell_type": "code",
   "execution_count": null,
   "metadata": {
    "collapsed": true
   },
   "outputs": [],
   "source": []
  },
  {
   "cell_type": "markdown",
   "metadata": {},
   "source": [
    "## Example: Weather"
   ]
  },
  {
   "cell_type": "code",
   "execution_count": 124,
   "metadata": {
    "collapsed": false
   },
   "outputs": [],
   "source": [
    "data = pd.read_csv(\"weather_year.csv\", parse_dates=['EDT'])"
   ]
  },
  {
   "cell_type": "code",
   "execution_count": 125,
   "metadata": {
    "collapsed": false,
    "scrolled": true
   },
   "outputs": [
    {
     "data": {
      "text/html": [
       "<div>\n",
       "<table border=\"1\" class=\"dataframe\">\n",
       "  <thead>\n",
       "    <tr style=\"text-align: right;\">\n",
       "      <th></th>\n",
       "      <th>EDT</th>\n",
       "      <th>Max TemperatureF</th>\n",
       "      <th>Mean TemperatureF</th>\n",
       "      <th>Min TemperatureF</th>\n",
       "      <th>Max Dew PointF</th>\n",
       "      <th>MeanDew PointF</th>\n",
       "      <th>Min DewpointF</th>\n",
       "      <th>Max Humidity</th>\n",
       "      <th>Mean Humidity</th>\n",
       "      <th>Min Humidity</th>\n",
       "      <th>...</th>\n",
       "      <th>Max VisibilityMiles</th>\n",
       "      <th>Mean VisibilityMiles</th>\n",
       "      <th>Min VisibilityMiles</th>\n",
       "      <th>Max Wind SpeedMPH</th>\n",
       "      <th>Mean Wind SpeedMPH</th>\n",
       "      <th>Max Gust SpeedMPH</th>\n",
       "      <th>PrecipitationIn</th>\n",
       "      <th>CloudCover</th>\n",
       "      <th>Events</th>\n",
       "      <th>WindDirDegrees</th>\n",
       "    </tr>\n",
       "  </thead>\n",
       "  <tbody>\n",
       "    <tr>\n",
       "      <th>0</th>\n",
       "      <td>2012-03-10</td>\n",
       "      <td>56</td>\n",
       "      <td>40</td>\n",
       "      <td>24</td>\n",
       "      <td>24</td>\n",
       "      <td>20</td>\n",
       "      <td>16</td>\n",
       "      <td>74</td>\n",
       "      <td>50</td>\n",
       "      <td>26</td>\n",
       "      <td>...</td>\n",
       "      <td>10</td>\n",
       "      <td>10</td>\n",
       "      <td>10</td>\n",
       "      <td>13</td>\n",
       "      <td>6</td>\n",
       "      <td>17.0</td>\n",
       "      <td>0.00</td>\n",
       "      <td>0</td>\n",
       "      <td>NaN</td>\n",
       "      <td>138</td>\n",
       "    </tr>\n",
       "    <tr>\n",
       "      <th>1</th>\n",
       "      <td>2012-03-11</td>\n",
       "      <td>67</td>\n",
       "      <td>49</td>\n",
       "      <td>30</td>\n",
       "      <td>43</td>\n",
       "      <td>31</td>\n",
       "      <td>24</td>\n",
       "      <td>78</td>\n",
       "      <td>53</td>\n",
       "      <td>28</td>\n",
       "      <td>...</td>\n",
       "      <td>10</td>\n",
       "      <td>10</td>\n",
       "      <td>10</td>\n",
       "      <td>22</td>\n",
       "      <td>7</td>\n",
       "      <td>32.0</td>\n",
       "      <td>T</td>\n",
       "      <td>1</td>\n",
       "      <td>Rain</td>\n",
       "      <td>163</td>\n",
       "    </tr>\n",
       "    <tr>\n",
       "      <th>2</th>\n",
       "      <td>2012-03-12</td>\n",
       "      <td>71</td>\n",
       "      <td>62</td>\n",
       "      <td>53</td>\n",
       "      <td>59</td>\n",
       "      <td>55</td>\n",
       "      <td>43</td>\n",
       "      <td>90</td>\n",
       "      <td>76</td>\n",
       "      <td>61</td>\n",
       "      <td>...</td>\n",
       "      <td>10</td>\n",
       "      <td>10</td>\n",
       "      <td>6</td>\n",
       "      <td>24</td>\n",
       "      <td>14</td>\n",
       "      <td>36.0</td>\n",
       "      <td>0.03</td>\n",
       "      <td>6</td>\n",
       "      <td>Rain</td>\n",
       "      <td>190</td>\n",
       "    </tr>\n",
       "    <tr>\n",
       "      <th>3</th>\n",
       "      <td>2012-03-13</td>\n",
       "      <td>76</td>\n",
       "      <td>63</td>\n",
       "      <td>50</td>\n",
       "      <td>57</td>\n",
       "      <td>53</td>\n",
       "      <td>47</td>\n",
       "      <td>93</td>\n",
       "      <td>66</td>\n",
       "      <td>38</td>\n",
       "      <td>...</td>\n",
       "      <td>10</td>\n",
       "      <td>10</td>\n",
       "      <td>4</td>\n",
       "      <td>16</td>\n",
       "      <td>5</td>\n",
       "      <td>24.0</td>\n",
       "      <td>0.00</td>\n",
       "      <td>0</td>\n",
       "      <td>NaN</td>\n",
       "      <td>242</td>\n",
       "    </tr>\n",
       "    <tr>\n",
       "      <th>4</th>\n",
       "      <td>2012-03-14</td>\n",
       "      <td>80</td>\n",
       "      <td>62</td>\n",
       "      <td>44</td>\n",
       "      <td>58</td>\n",
       "      <td>52</td>\n",
       "      <td>43</td>\n",
       "      <td>93</td>\n",
       "      <td>68</td>\n",
       "      <td>42</td>\n",
       "      <td>...</td>\n",
       "      <td>10</td>\n",
       "      <td>10</td>\n",
       "      <td>10</td>\n",
       "      <td>16</td>\n",
       "      <td>6</td>\n",
       "      <td>22.0</td>\n",
       "      <td>0.00</td>\n",
       "      <td>0</td>\n",
       "      <td>NaN</td>\n",
       "      <td>202</td>\n",
       "    </tr>\n",
       "  </tbody>\n",
       "</table>\n",
       "<p>5 rows × 23 columns</p>\n",
       "</div>"
      ],
      "text/plain": [
       "         EDT  Max TemperatureF  Mean TemperatureF  Min TemperatureF  \\\n",
       "0 2012-03-10                56                 40                24   \n",
       "1 2012-03-11                67                 49                30   \n",
       "2 2012-03-12                71                 62                53   \n",
       "3 2012-03-13                76                 63                50   \n",
       "4 2012-03-14                80                 62                44   \n",
       "\n",
       "   Max Dew PointF  MeanDew PointF  Min DewpointF  Max Humidity  \\\n",
       "0              24              20             16            74   \n",
       "1              43              31             24            78   \n",
       "2              59              55             43            90   \n",
       "3              57              53             47            93   \n",
       "4              58              52             43            93   \n",
       "\n",
       "    Mean Humidity   Min Humidity       ...         Max VisibilityMiles  \\\n",
       "0              50             26       ...                          10   \n",
       "1              53             28       ...                          10   \n",
       "2              76             61       ...                          10   \n",
       "3              66             38       ...                          10   \n",
       "4              68             42       ...                          10   \n",
       "\n",
       "    Mean VisibilityMiles   Min VisibilityMiles   Max Wind SpeedMPH  \\\n",
       "0                     10                    10                  13   \n",
       "1                     10                    10                  22   \n",
       "2                     10                     6                  24   \n",
       "3                     10                     4                  16   \n",
       "4                     10                    10                  16   \n",
       "\n",
       "    Mean Wind SpeedMPH   Max Gust SpeedMPH  PrecipitationIn   CloudCover  \\\n",
       "0                    6                17.0             0.00            0   \n",
       "1                    7                32.0                T            1   \n",
       "2                   14                36.0             0.03            6   \n",
       "3                    5                24.0             0.00            0   \n",
       "4                    6                22.0             0.00            0   \n",
       "\n",
       "    Events  WindDirDegrees  \n",
       "0      NaN             138  \n",
       "1     Rain             163  \n",
       "2     Rain             190  \n",
       "3      NaN             242  \n",
       "4      NaN             202  \n",
       "\n",
       "[5 rows x 23 columns]"
      ]
     },
     "execution_count": 125,
     "metadata": {},
     "output_type": "execute_result"
    }
   ],
   "source": [
    "data.head(5)\n",
    "#data.tail(5)"
   ]
  },
  {
   "cell_type": "code",
   "execution_count": 126,
   "metadata": {
    "collapsed": false
   },
   "outputs": [
    {
     "data": {
      "text/plain": [
       "(366, 23)"
      ]
     },
     "execution_count": 126,
     "metadata": {},
     "output_type": "execute_result"
    }
   ],
   "source": [
    "data.shape"
   ]
  },
  {
   "cell_type": "code",
   "execution_count": 127,
   "metadata": {
    "collapsed": false
   },
   "outputs": [
    {
     "data": {
      "text/plain": [
       "Index(['EDT', 'Max TemperatureF', 'Mean TemperatureF', 'Min TemperatureF',\n",
       "       'Max Dew PointF', 'MeanDew PointF', 'Min DewpointF', 'Max Humidity',\n",
       "       ' Mean Humidity', ' Min Humidity', ' Max Sea Level PressureIn',\n",
       "       ' Mean Sea Level PressureIn', ' Min Sea Level PressureIn',\n",
       "       ' Max VisibilityMiles', ' Mean VisibilityMiles', ' Min VisibilityMiles',\n",
       "       ' Max Wind SpeedMPH', ' Mean Wind SpeedMPH', ' Max Gust SpeedMPH',\n",
       "       'PrecipitationIn', ' CloudCover', ' Events', ' WindDirDegrees'],\n",
       "      dtype='object')"
      ]
     },
     "execution_count": 127,
     "metadata": {},
     "output_type": "execute_result"
    }
   ],
   "source": [
    "data.columns"
   ]
  },
  {
   "cell_type": "code",
   "execution_count": 128,
   "metadata": {
    "collapsed": true
   },
   "outputs": [],
   "source": [
    "# Rename the columns\n",
    "data.columns = [\"date\", \"max_temp\", \"mean_temp\", \"min_temp\", \"max_dew\",\n",
    "                \"mean_dew\", \"min_dew\", \"max_humidity\", \"mean_humidity\",\n",
    "                \"min_humidity\", \"max_pressure\", \"mean_pressure\",\n",
    "                \"min_pressure\", \"max_visibilty\", \"mean_visibility\",\n",
    "                \"min_visibility\", \"max_wind\", \"mean_wind\", \"min_wind\",\n",
    "                \"precipitation\", \"cloud_cover\", \"events\", \"wind_dir\"]"
   ]
  },
  {
   "cell_type": "code",
   "execution_count": 129,
   "metadata": {
    "collapsed": false
   },
   "outputs": [
    {
     "data": {
      "text/html": [
       "<div>\n",
       "<table border=\"1\" class=\"dataframe\">\n",
       "  <thead>\n",
       "    <tr style=\"text-align: right;\">\n",
       "      <th></th>\n",
       "      <th>max_temp</th>\n",
       "      <th>mean_temp</th>\n",
       "      <th>min_temp</th>\n",
       "      <th>max_dew</th>\n",
       "      <th>mean_dew</th>\n",
       "      <th>min_dew</th>\n",
       "      <th>max_humidity</th>\n",
       "      <th>mean_humidity</th>\n",
       "      <th>min_humidity</th>\n",
       "      <th>max_pressure</th>\n",
       "      <th>...</th>\n",
       "      <th>max_visibilty</th>\n",
       "      <th>mean_visibility</th>\n",
       "      <th>min_visibility</th>\n",
       "      <th>max_wind</th>\n",
       "      <th>mean_wind</th>\n",
       "      <th>min_wind</th>\n",
       "      <th>precipitation</th>\n",
       "      <th>cloud_cover</th>\n",
       "      <th>events</th>\n",
       "      <th>wind_dir</th>\n",
       "    </tr>\n",
       "    <tr>\n",
       "      <th>date</th>\n",
       "      <th></th>\n",
       "      <th></th>\n",
       "      <th></th>\n",
       "      <th></th>\n",
       "      <th></th>\n",
       "      <th></th>\n",
       "      <th></th>\n",
       "      <th></th>\n",
       "      <th></th>\n",
       "      <th></th>\n",
       "      <th></th>\n",
       "      <th></th>\n",
       "      <th></th>\n",
       "      <th></th>\n",
       "      <th></th>\n",
       "      <th></th>\n",
       "      <th></th>\n",
       "      <th></th>\n",
       "      <th></th>\n",
       "      <th></th>\n",
       "      <th></th>\n",
       "    </tr>\n",
       "  </thead>\n",
       "  <tbody>\n",
       "    <tr>\n",
       "      <th>2012-03-10</th>\n",
       "      <td>56</td>\n",
       "      <td>40</td>\n",
       "      <td>24</td>\n",
       "      <td>24</td>\n",
       "      <td>20</td>\n",
       "      <td>16</td>\n",
       "      <td>74</td>\n",
       "      <td>50</td>\n",
       "      <td>26</td>\n",
       "      <td>30.53</td>\n",
       "      <td>...</td>\n",
       "      <td>10</td>\n",
       "      <td>10</td>\n",
       "      <td>10</td>\n",
       "      <td>13</td>\n",
       "      <td>6</td>\n",
       "      <td>17.0</td>\n",
       "      <td>0.00</td>\n",
       "      <td>0</td>\n",
       "      <td>NaN</td>\n",
       "      <td>138</td>\n",
       "    </tr>\n",
       "    <tr>\n",
       "      <th>2012-03-11</th>\n",
       "      <td>67</td>\n",
       "      <td>49</td>\n",
       "      <td>30</td>\n",
       "      <td>43</td>\n",
       "      <td>31</td>\n",
       "      <td>24</td>\n",
       "      <td>78</td>\n",
       "      <td>53</td>\n",
       "      <td>28</td>\n",
       "      <td>30.37</td>\n",
       "      <td>...</td>\n",
       "      <td>10</td>\n",
       "      <td>10</td>\n",
       "      <td>10</td>\n",
       "      <td>22</td>\n",
       "      <td>7</td>\n",
       "      <td>32.0</td>\n",
       "      <td>T</td>\n",
       "      <td>1</td>\n",
       "      <td>Rain</td>\n",
       "      <td>163</td>\n",
       "    </tr>\n",
       "    <tr>\n",
       "      <th>2012-03-12</th>\n",
       "      <td>71</td>\n",
       "      <td>62</td>\n",
       "      <td>53</td>\n",
       "      <td>59</td>\n",
       "      <td>55</td>\n",
       "      <td>43</td>\n",
       "      <td>90</td>\n",
       "      <td>76</td>\n",
       "      <td>61</td>\n",
       "      <td>30.13</td>\n",
       "      <td>...</td>\n",
       "      <td>10</td>\n",
       "      <td>10</td>\n",
       "      <td>6</td>\n",
       "      <td>24</td>\n",
       "      <td>14</td>\n",
       "      <td>36.0</td>\n",
       "      <td>0.03</td>\n",
       "      <td>6</td>\n",
       "      <td>Rain</td>\n",
       "      <td>190</td>\n",
       "    </tr>\n",
       "    <tr>\n",
       "      <th>2012-03-13</th>\n",
       "      <td>76</td>\n",
       "      <td>63</td>\n",
       "      <td>50</td>\n",
       "      <td>57</td>\n",
       "      <td>53</td>\n",
       "      <td>47</td>\n",
       "      <td>93</td>\n",
       "      <td>66</td>\n",
       "      <td>38</td>\n",
       "      <td>30.12</td>\n",
       "      <td>...</td>\n",
       "      <td>10</td>\n",
       "      <td>10</td>\n",
       "      <td>4</td>\n",
       "      <td>16</td>\n",
       "      <td>5</td>\n",
       "      <td>24.0</td>\n",
       "      <td>0.00</td>\n",
       "      <td>0</td>\n",
       "      <td>NaN</td>\n",
       "      <td>242</td>\n",
       "    </tr>\n",
       "    <tr>\n",
       "      <th>2012-03-14</th>\n",
       "      <td>80</td>\n",
       "      <td>62</td>\n",
       "      <td>44</td>\n",
       "      <td>58</td>\n",
       "      <td>52</td>\n",
       "      <td>43</td>\n",
       "      <td>93</td>\n",
       "      <td>68</td>\n",
       "      <td>42</td>\n",
       "      <td>30.15</td>\n",
       "      <td>...</td>\n",
       "      <td>10</td>\n",
       "      <td>10</td>\n",
       "      <td>10</td>\n",
       "      <td>16</td>\n",
       "      <td>6</td>\n",
       "      <td>22.0</td>\n",
       "      <td>0.00</td>\n",
       "      <td>0</td>\n",
       "      <td>NaN</td>\n",
       "      <td>202</td>\n",
       "    </tr>\n",
       "  </tbody>\n",
       "</table>\n",
       "<p>5 rows × 22 columns</p>\n",
       "</div>"
      ],
      "text/plain": [
       "            max_temp  mean_temp  min_temp  max_dew  mean_dew  min_dew  \\\n",
       "date                                                                    \n",
       "2012-03-10        56         40        24       24        20       16   \n",
       "2012-03-11        67         49        30       43        31       24   \n",
       "2012-03-12        71         62        53       59        55       43   \n",
       "2012-03-13        76         63        50       57        53       47   \n",
       "2012-03-14        80         62        44       58        52       43   \n",
       "\n",
       "            max_humidity  mean_humidity  min_humidity  max_pressure    ...     \\\n",
       "date                                                                   ...      \n",
       "2012-03-10            74             50            26         30.53    ...      \n",
       "2012-03-11            78             53            28         30.37    ...      \n",
       "2012-03-12            90             76            61         30.13    ...      \n",
       "2012-03-13            93             66            38         30.12    ...      \n",
       "2012-03-14            93             68            42         30.15    ...      \n",
       "\n",
       "            max_visibilty  mean_visibility  min_visibility  max_wind  \\\n",
       "date                                                                   \n",
       "2012-03-10             10               10              10        13   \n",
       "2012-03-11             10               10              10        22   \n",
       "2012-03-12             10               10               6        24   \n",
       "2012-03-13             10               10               4        16   \n",
       "2012-03-14             10               10              10        16   \n",
       "\n",
       "            mean_wind  min_wind  precipitation  cloud_cover events  wind_dir  \n",
       "date                                                                          \n",
       "2012-03-10          6      17.0           0.00            0    NaN       138  \n",
       "2012-03-11          7      32.0              T            1   Rain       163  \n",
       "2012-03-12         14      36.0           0.03            6   Rain       190  \n",
       "2012-03-13          5      24.0           0.00            0    NaN       242  \n",
       "2012-03-14          6      22.0           0.00            0    NaN       202  \n",
       "\n",
       "[5 rows x 22 columns]"
      ]
     },
     "execution_count": 129,
     "metadata": {},
     "output_type": "execute_result"
    }
   ],
   "source": [
    "# Make the date the index of the dataframe.\n",
    "data = data.set_index('date')\n",
    "data.head()"
   ]
  },
  {
   "cell_type": "code",
   "execution_count": 130,
   "metadata": {
    "collapsed": false
   },
   "outputs": [
    {
     "data": {
      "text/html": [
       "<div>\n",
       "<table border=\"1\" class=\"dataframe\">\n",
       "  <thead>\n",
       "    <tr style=\"text-align: right;\">\n",
       "      <th></th>\n",
       "      <th>max_temp</th>\n",
       "      <th>mean_temp</th>\n",
       "      <th>min_temp</th>\n",
       "      <th>max_dew</th>\n",
       "      <th>mean_dew</th>\n",
       "      <th>min_dew</th>\n",
       "      <th>max_humidity</th>\n",
       "      <th>mean_humidity</th>\n",
       "      <th>min_humidity</th>\n",
       "      <th>max_pressure</th>\n",
       "      <th>...</th>\n",
       "      <th>max_visibilty</th>\n",
       "      <th>mean_visibility</th>\n",
       "      <th>min_visibility</th>\n",
       "      <th>max_wind</th>\n",
       "      <th>mean_wind</th>\n",
       "      <th>min_wind</th>\n",
       "      <th>precipitation</th>\n",
       "      <th>cloud_cover</th>\n",
       "      <th>events</th>\n",
       "      <th>wind_dir</th>\n",
       "    </tr>\n",
       "    <tr>\n",
       "      <th>date</th>\n",
       "      <th></th>\n",
       "      <th></th>\n",
       "      <th></th>\n",
       "      <th></th>\n",
       "      <th></th>\n",
       "      <th></th>\n",
       "      <th></th>\n",
       "      <th></th>\n",
       "      <th></th>\n",
       "      <th></th>\n",
       "      <th></th>\n",
       "      <th></th>\n",
       "      <th></th>\n",
       "      <th></th>\n",
       "      <th></th>\n",
       "      <th></th>\n",
       "      <th></th>\n",
       "      <th></th>\n",
       "      <th></th>\n",
       "      <th></th>\n",
       "      <th></th>\n",
       "    </tr>\n",
       "  </thead>\n",
       "  <tbody>\n",
       "    <tr>\n",
       "      <th>2012-12-01</th>\n",
       "      <td>66</td>\n",
       "      <td>55</td>\n",
       "      <td>44</td>\n",
       "      <td>46</td>\n",
       "      <td>42</td>\n",
       "      <td>39</td>\n",
       "      <td>82</td>\n",
       "      <td>65</td>\n",
       "      <td>48</td>\n",
       "      <td>30.21</td>\n",
       "      <td>...</td>\n",
       "      <td>10</td>\n",
       "      <td>9</td>\n",
       "      <td>8</td>\n",
       "      <td>18</td>\n",
       "      <td>7</td>\n",
       "      <td>25.0</td>\n",
       "      <td>0.00</td>\n",
       "      <td>7</td>\n",
       "      <td>NaN</td>\n",
       "      <td>168</td>\n",
       "    </tr>\n",
       "    <tr>\n",
       "      <th>2012-12-02</th>\n",
       "      <td>63</td>\n",
       "      <td>60</td>\n",
       "      <td>56</td>\n",
       "      <td>59</td>\n",
       "      <td>54</td>\n",
       "      <td>47</td>\n",
       "      <td>97</td>\n",
       "      <td>76</td>\n",
       "      <td>55</td>\n",
       "      <td>30.10</td>\n",
       "      <td>...</td>\n",
       "      <td>10</td>\n",
       "      <td>8</td>\n",
       "      <td>4</td>\n",
       "      <td>23</td>\n",
       "      <td>11</td>\n",
       "      <td>31.0</td>\n",
       "      <td>0.16</td>\n",
       "      <td>8</td>\n",
       "      <td>Rain</td>\n",
       "      <td>216</td>\n",
       "    </tr>\n",
       "    <tr>\n",
       "      <th>2012-12-03</th>\n",
       "      <td>71</td>\n",
       "      <td>66</td>\n",
       "      <td>61</td>\n",
       "      <td>59</td>\n",
       "      <td>56</td>\n",
       "      <td>49</td>\n",
       "      <td>97</td>\n",
       "      <td>79</td>\n",
       "      <td>60</td>\n",
       "      <td>30.11</td>\n",
       "      <td>...</td>\n",
       "      <td>10</td>\n",
       "      <td>10</td>\n",
       "      <td>6</td>\n",
       "      <td>23</td>\n",
       "      <td>11</td>\n",
       "      <td>29.0</td>\n",
       "      <td>0.03</td>\n",
       "      <td>5</td>\n",
       "      <td>Rain</td>\n",
       "      <td>203</td>\n",
       "    </tr>\n",
       "    <tr>\n",
       "      <th>2012-12-04</th>\n",
       "      <td>65</td>\n",
       "      <td>51</td>\n",
       "      <td>37</td>\n",
       "      <td>58</td>\n",
       "      <td>49</td>\n",
       "      <td>37</td>\n",
       "      <td>93</td>\n",
       "      <td>75</td>\n",
       "      <td>56</td>\n",
       "      <td>30.24</td>\n",
       "      <td>...</td>\n",
       "      <td>10</td>\n",
       "      <td>8</td>\n",
       "      <td>1</td>\n",
       "      <td>22</td>\n",
       "      <td>8</td>\n",
       "      <td>30.0</td>\n",
       "      <td>0.09</td>\n",
       "      <td>7</td>\n",
       "      <td>Rain</td>\n",
       "      <td>250</td>\n",
       "    </tr>\n",
       "    <tr>\n",
       "      <th>2012-12-05</th>\n",
       "      <td>51</td>\n",
       "      <td>41</td>\n",
       "      <td>31</td>\n",
       "      <td>35</td>\n",
       "      <td>32</td>\n",
       "      <td>28</td>\n",
       "      <td>100</td>\n",
       "      <td>73</td>\n",
       "      <td>46</td>\n",
       "      <td>30.38</td>\n",
       "      <td>...</td>\n",
       "      <td>10</td>\n",
       "      <td>10</td>\n",
       "      <td>8</td>\n",
       "      <td>9</td>\n",
       "      <td>4</td>\n",
       "      <td>13.0</td>\n",
       "      <td>0.00</td>\n",
       "      <td>0</td>\n",
       "      <td>NaN</td>\n",
       "      <td>57</td>\n",
       "    </tr>\n",
       "    <tr>\n",
       "      <th>2012-12-06</th>\n",
       "      <td>50</td>\n",
       "      <td>40</td>\n",
       "      <td>29</td>\n",
       "      <td>43</td>\n",
       "      <td>34</td>\n",
       "      <td>26</td>\n",
       "      <td>89</td>\n",
       "      <td>71</td>\n",
       "      <td>52</td>\n",
       "      <td>30.22</td>\n",
       "      <td>...</td>\n",
       "      <td>10</td>\n",
       "      <td>10</td>\n",
       "      <td>8</td>\n",
       "      <td>10</td>\n",
       "      <td>6</td>\n",
       "      <td>13.0</td>\n",
       "      <td>0.00</td>\n",
       "      <td>4</td>\n",
       "      <td>NaN</td>\n",
       "      <td>146</td>\n",
       "    </tr>\n",
       "    <tr>\n",
       "      <th>2012-12-07</th>\n",
       "      <td>54</td>\n",
       "      <td>51</td>\n",
       "      <td>47</td>\n",
       "      <td>52</td>\n",
       "      <td>49</td>\n",
       "      <td>44</td>\n",
       "      <td>100</td>\n",
       "      <td>93</td>\n",
       "      <td>86</td>\n",
       "      <td>29.96</td>\n",
       "      <td>...</td>\n",
       "      <td>9</td>\n",
       "      <td>2</td>\n",
       "      <td>0</td>\n",
       "      <td>10</td>\n",
       "      <td>3</td>\n",
       "      <td>14.0</td>\n",
       "      <td>0.10</td>\n",
       "      <td>8</td>\n",
       "      <td>Fog-Rain</td>\n",
       "      <td>139</td>\n",
       "    </tr>\n",
       "    <tr>\n",
       "      <th>2012-12-08</th>\n",
       "      <td>52</td>\n",
       "      <td>49</td>\n",
       "      <td>46</td>\n",
       "      <td>52</td>\n",
       "      <td>46</td>\n",
       "      <td>39</td>\n",
       "      <td>100</td>\n",
       "      <td>91</td>\n",
       "      <td>86</td>\n",
       "      <td>30.01</td>\n",
       "      <td>...</td>\n",
       "      <td>10</td>\n",
       "      <td>6</td>\n",
       "      <td>2</td>\n",
       "      <td>10</td>\n",
       "      <td>4</td>\n",
       "      <td>13.0</td>\n",
       "      <td>T</td>\n",
       "      <td>8</td>\n",
       "      <td>Rain</td>\n",
       "      <td>338</td>\n",
       "    </tr>\n",
       "    <tr>\n",
       "      <th>2012-12-09</th>\n",
       "      <td>59</td>\n",
       "      <td>52</td>\n",
       "      <td>44</td>\n",
       "      <td>56</td>\n",
       "      <td>51</td>\n",
       "      <td>42</td>\n",
       "      <td>100</td>\n",
       "      <td>93</td>\n",
       "      <td>86</td>\n",
       "      <td>30.01</td>\n",
       "      <td>...</td>\n",
       "      <td>10</td>\n",
       "      <td>5</td>\n",
       "      <td>0</td>\n",
       "      <td>16</td>\n",
       "      <td>7</td>\n",
       "      <td>25.0</td>\n",
       "      <td>0.33</td>\n",
       "      <td>8</td>\n",
       "      <td>Fog-Rain</td>\n",
       "      <td>176</td>\n",
       "    </tr>\n",
       "    <tr>\n",
       "      <th>2012-12-10</th>\n",
       "      <td>48</td>\n",
       "      <td>39</td>\n",
       "      <td>29</td>\n",
       "      <td>45</td>\n",
       "      <td>32</td>\n",
       "      <td>25</td>\n",
       "      <td>96</td>\n",
       "      <td>87</td>\n",
       "      <td>78</td>\n",
       "      <td>29.99</td>\n",
       "      <td>...</td>\n",
       "      <td>10</td>\n",
       "      <td>8</td>\n",
       "      <td>2</td>\n",
       "      <td>16</td>\n",
       "      <td>9</td>\n",
       "      <td>23.0</td>\n",
       "      <td>0.00</td>\n",
       "      <td>8</td>\n",
       "      <td>NaN</td>\n",
       "      <td>299</td>\n",
       "    </tr>\n",
       "    <tr>\n",
       "      <th>2012-12-11</th>\n",
       "      <td>37</td>\n",
       "      <td>31</td>\n",
       "      <td>24</td>\n",
       "      <td>25</td>\n",
       "      <td>22</td>\n",
       "      <td>19</td>\n",
       "      <td>85</td>\n",
       "      <td>69</td>\n",
       "      <td>52</td>\n",
       "      <td>30.25</td>\n",
       "      <td>...</td>\n",
       "      <td>10</td>\n",
       "      <td>10</td>\n",
       "      <td>9</td>\n",
       "      <td>13</td>\n",
       "      <td>6</td>\n",
       "      <td>18.0</td>\n",
       "      <td>0.00</td>\n",
       "      <td>4</td>\n",
       "      <td>NaN</td>\n",
       "      <td>259</td>\n",
       "    </tr>\n",
       "    <tr>\n",
       "      <th>2012-12-12</th>\n",
       "      <td>45</td>\n",
       "      <td>33</td>\n",
       "      <td>20</td>\n",
       "      <td>26</td>\n",
       "      <td>22</td>\n",
       "      <td>17</td>\n",
       "      <td>91</td>\n",
       "      <td>68</td>\n",
       "      <td>45</td>\n",
       "      <td>30.39</td>\n",
       "      <td>...</td>\n",
       "      <td>10</td>\n",
       "      <td>9</td>\n",
       "      <td>5</td>\n",
       "      <td>9</td>\n",
       "      <td>2</td>\n",
       "      <td>12.0</td>\n",
       "      <td>0.00</td>\n",
       "      <td>0</td>\n",
       "      <td>NaN</td>\n",
       "      <td>141</td>\n",
       "    </tr>\n",
       "    <tr>\n",
       "      <th>2012-12-13</th>\n",
       "      <td>50</td>\n",
       "      <td>35</td>\n",
       "      <td>20</td>\n",
       "      <td>28</td>\n",
       "      <td>22</td>\n",
       "      <td>18</td>\n",
       "      <td>88</td>\n",
       "      <td>60</td>\n",
       "      <td>32</td>\n",
       "      <td>30.42</td>\n",
       "      <td>...</td>\n",
       "      <td>10</td>\n",
       "      <td>10</td>\n",
       "      <td>8</td>\n",
       "      <td>13</td>\n",
       "      <td>4</td>\n",
       "      <td>15.0</td>\n",
       "      <td>0.00</td>\n",
       "      <td>0</td>\n",
       "      <td>NaN</td>\n",
       "      <td>172</td>\n",
       "    </tr>\n",
       "    <tr>\n",
       "      <th>2012-12-14</th>\n",
       "      <td>54</td>\n",
       "      <td>39</td>\n",
       "      <td>23</td>\n",
       "      <td>29</td>\n",
       "      <td>24</td>\n",
       "      <td>20</td>\n",
       "      <td>81</td>\n",
       "      <td>57</td>\n",
       "      <td>32</td>\n",
       "      <td>30.29</td>\n",
       "      <td>...</td>\n",
       "      <td>10</td>\n",
       "      <td>10</td>\n",
       "      <td>8</td>\n",
       "      <td>15</td>\n",
       "      <td>5</td>\n",
       "      <td>20.0</td>\n",
       "      <td>0.00</td>\n",
       "      <td>0</td>\n",
       "      <td>NaN</td>\n",
       "      <td>192</td>\n",
       "    </tr>\n",
       "    <tr>\n",
       "      <th>2012-12-15</th>\n",
       "      <td>56</td>\n",
       "      <td>48</td>\n",
       "      <td>39</td>\n",
       "      <td>52</td>\n",
       "      <td>41</td>\n",
       "      <td>27</td>\n",
       "      <td>89</td>\n",
       "      <td>71</td>\n",
       "      <td>53</td>\n",
       "      <td>30.11</td>\n",
       "      <td>...</td>\n",
       "      <td>10</td>\n",
       "      <td>9</td>\n",
       "      <td>3</td>\n",
       "      <td>22</td>\n",
       "      <td>10</td>\n",
       "      <td>30.0</td>\n",
       "      <td>0.13</td>\n",
       "      <td>7</td>\n",
       "      <td>Rain</td>\n",
       "      <td>176</td>\n",
       "    </tr>\n",
       "    <tr>\n",
       "      <th>2012-12-16</th>\n",
       "      <td>57</td>\n",
       "      <td>46</td>\n",
       "      <td>34</td>\n",
       "      <td>52</td>\n",
       "      <td>45</td>\n",
       "      <td>34</td>\n",
       "      <td>100</td>\n",
       "      <td>86</td>\n",
       "      <td>71</td>\n",
       "      <td>29.74</td>\n",
       "      <td>...</td>\n",
       "      <td>10</td>\n",
       "      <td>8</td>\n",
       "      <td>0</td>\n",
       "      <td>22</td>\n",
       "      <td>8</td>\n",
       "      <td>30.0</td>\n",
       "      <td>0.00</td>\n",
       "      <td>4</td>\n",
       "      <td>Fog</td>\n",
       "      <td>233</td>\n",
       "    </tr>\n",
       "    <tr>\n",
       "      <th>2012-12-17</th>\n",
       "      <td>46</td>\n",
       "      <td>40</td>\n",
       "      <td>34</td>\n",
       "      <td>45</td>\n",
       "      <td>39</td>\n",
       "      <td>33</td>\n",
       "      <td>100</td>\n",
       "      <td>95</td>\n",
       "      <td>89</td>\n",
       "      <td>29.73</td>\n",
       "      <td>...</td>\n",
       "      <td>10</td>\n",
       "      <td>2</td>\n",
       "      <td>0</td>\n",
       "      <td>14</td>\n",
       "      <td>5</td>\n",
       "      <td>17.0</td>\n",
       "      <td>0.18</td>\n",
       "      <td>8</td>\n",
       "      <td>Fog-Rain</td>\n",
       "      <td>360</td>\n",
       "    </tr>\n",
       "    <tr>\n",
       "      <th>2012-12-18</th>\n",
       "      <td>48</td>\n",
       "      <td>42</td>\n",
       "      <td>36</td>\n",
       "      <td>38</td>\n",
       "      <td>34</td>\n",
       "      <td>33</td>\n",
       "      <td>92</td>\n",
       "      <td>76</td>\n",
       "      <td>60</td>\n",
       "      <td>29.87</td>\n",
       "      <td>...</td>\n",
       "      <td>10</td>\n",
       "      <td>7</td>\n",
       "      <td>2</td>\n",
       "      <td>17</td>\n",
       "      <td>8</td>\n",
       "      <td>24.0</td>\n",
       "      <td>0.01</td>\n",
       "      <td>6</td>\n",
       "      <td>Rain</td>\n",
       "      <td>245</td>\n",
       "    </tr>\n",
       "    <tr>\n",
       "      <th>2012-12-19</th>\n",
       "      <td>46</td>\n",
       "      <td>39</td>\n",
       "      <td>32</td>\n",
       "      <td>37</td>\n",
       "      <td>33</td>\n",
       "      <td>28</td>\n",
       "      <td>89</td>\n",
       "      <td>77</td>\n",
       "      <td>65</td>\n",
       "      <td>30.05</td>\n",
       "      <td>...</td>\n",
       "      <td>10</td>\n",
       "      <td>8</td>\n",
       "      <td>5</td>\n",
       "      <td>18</td>\n",
       "      <td>8</td>\n",
       "      <td>25.0</td>\n",
       "      <td>0.06</td>\n",
       "      <td>4</td>\n",
       "      <td>Rain</td>\n",
       "      <td>109</td>\n",
       "    </tr>\n",
       "    <tr>\n",
       "      <th>2012-12-20</th>\n",
       "      <td>57</td>\n",
       "      <td>43</td>\n",
       "      <td>28</td>\n",
       "      <td>50</td>\n",
       "      <td>36</td>\n",
       "      <td>25</td>\n",
       "      <td>92</td>\n",
       "      <td>79</td>\n",
       "      <td>66</td>\n",
       "      <td>29.75</td>\n",
       "      <td>...</td>\n",
       "      <td>10</td>\n",
       "      <td>5</td>\n",
       "      <td>0</td>\n",
       "      <td>35</td>\n",
       "      <td>19</td>\n",
       "      <td>54.0</td>\n",
       "      <td>0.44</td>\n",
       "      <td>8</td>\n",
       "      <td>Fog-Rain-Snow-Thunderstorm</td>\n",
       "      <td>219</td>\n",
       "    </tr>\n",
       "    <tr>\n",
       "      <th>2012-12-21</th>\n",
       "      <td>29</td>\n",
       "      <td>26</td>\n",
       "      <td>22</td>\n",
       "      <td>25</td>\n",
       "      <td>19</td>\n",
       "      <td>15</td>\n",
       "      <td>85</td>\n",
       "      <td>74</td>\n",
       "      <td>63</td>\n",
       "      <td>30.21</td>\n",
       "      <td>...</td>\n",
       "      <td>10</td>\n",
       "      <td>5</td>\n",
       "      <td>0</td>\n",
       "      <td>25</td>\n",
       "      <td>14</td>\n",
       "      <td>39.0</td>\n",
       "      <td>0.02</td>\n",
       "      <td>7</td>\n",
       "      <td>Fog-Snow</td>\n",
       "      <td>285</td>\n",
       "    </tr>\n",
       "    <tr>\n",
       "      <th>2012-12-22</th>\n",
       "      <td>33</td>\n",
       "      <td>22</td>\n",
       "      <td>10</td>\n",
       "      <td>18</td>\n",
       "      <td>15</td>\n",
       "      <td>7</td>\n",
       "      <td>88</td>\n",
       "      <td>68</td>\n",
       "      <td>47</td>\n",
       "      <td>30.30</td>\n",
       "      <td>...</td>\n",
       "      <td>10</td>\n",
       "      <td>10</td>\n",
       "      <td>7</td>\n",
       "      <td>12</td>\n",
       "      <td>4</td>\n",
       "      <td>16.0</td>\n",
       "      <td>0.00</td>\n",
       "      <td>1</td>\n",
       "      <td>NaN</td>\n",
       "      <td>226</td>\n",
       "    </tr>\n",
       "    <tr>\n",
       "      <th>2012-12-23</th>\n",
       "      <td>48</td>\n",
       "      <td>34</td>\n",
       "      <td>20</td>\n",
       "      <td>29</td>\n",
       "      <td>25</td>\n",
       "      <td>16</td>\n",
       "      <td>85</td>\n",
       "      <td>64</td>\n",
       "      <td>42</td>\n",
       "      <td>30.02</td>\n",
       "      <td>...</td>\n",
       "      <td>10</td>\n",
       "      <td>10</td>\n",
       "      <td>10</td>\n",
       "      <td>18</td>\n",
       "      <td>5</td>\n",
       "      <td>24.0</td>\n",
       "      <td>0.00</td>\n",
       "      <td>0</td>\n",
       "      <td>NaN</td>\n",
       "      <td>241</td>\n",
       "    </tr>\n",
       "    <tr>\n",
       "      <th>2012-12-24</th>\n",
       "      <td>40</td>\n",
       "      <td>36</td>\n",
       "      <td>31</td>\n",
       "      <td>38</td>\n",
       "      <td>31</td>\n",
       "      <td>26</td>\n",
       "      <td>100</td>\n",
       "      <td>88</td>\n",
       "      <td>75</td>\n",
       "      <td>30.05</td>\n",
       "      <td>...</td>\n",
       "      <td>10</td>\n",
       "      <td>5</td>\n",
       "      <td>0</td>\n",
       "      <td>14</td>\n",
       "      <td>4</td>\n",
       "      <td>21.0</td>\n",
       "      <td>0.04</td>\n",
       "      <td>7</td>\n",
       "      <td>Fog-Rain</td>\n",
       "      <td>304</td>\n",
       "    </tr>\n",
       "    <tr>\n",
       "      <th>2012-12-25</th>\n",
       "      <td>34</td>\n",
       "      <td>32</td>\n",
       "      <td>30</td>\n",
       "      <td>29</td>\n",
       "      <td>27</td>\n",
       "      <td>23</td>\n",
       "      <td>92</td>\n",
       "      <td>79</td>\n",
       "      <td>66</td>\n",
       "      <td>30.21</td>\n",
       "      <td>...</td>\n",
       "      <td>10</td>\n",
       "      <td>6</td>\n",
       "      <td>2</td>\n",
       "      <td>20</td>\n",
       "      <td>9</td>\n",
       "      <td>26.0</td>\n",
       "      <td>0.00</td>\n",
       "      <td>8</td>\n",
       "      <td>NaN</td>\n",
       "      <td>17</td>\n",
       "    </tr>\n",
       "    <tr>\n",
       "      <th>2012-12-26</th>\n",
       "      <td>33</td>\n",
       "      <td>31</td>\n",
       "      <td>29</td>\n",
       "      <td>29</td>\n",
       "      <td>27</td>\n",
       "      <td>23</td>\n",
       "      <td>92</td>\n",
       "      <td>81</td>\n",
       "      <td>69</td>\n",
       "      <td>30.02</td>\n",
       "      <td>...</td>\n",
       "      <td>10</td>\n",
       "      <td>3</td>\n",
       "      <td>0</td>\n",
       "      <td>28</td>\n",
       "      <td>16</td>\n",
       "      <td>38.0</td>\n",
       "      <td>0.48</td>\n",
       "      <td>8</td>\n",
       "      <td>Fog-Snow</td>\n",
       "      <td>16</td>\n",
       "    </tr>\n",
       "    <tr>\n",
       "      <th>2012-12-27</th>\n",
       "      <td>33</td>\n",
       "      <td>31</td>\n",
       "      <td>29</td>\n",
       "      <td>26</td>\n",
       "      <td>24</td>\n",
       "      <td>22</td>\n",
       "      <td>85</td>\n",
       "      <td>76</td>\n",
       "      <td>66</td>\n",
       "      <td>30.20</td>\n",
       "      <td>...</td>\n",
       "      <td>10</td>\n",
       "      <td>10</td>\n",
       "      <td>8</td>\n",
       "      <td>8</td>\n",
       "      <td>3</td>\n",
       "      <td>14.0</td>\n",
       "      <td>0.00</td>\n",
       "      <td>8</td>\n",
       "      <td>NaN</td>\n",
       "      <td>301</td>\n",
       "    </tr>\n",
       "    <tr>\n",
       "      <th>2012-12-28</th>\n",
       "      <td>33</td>\n",
       "      <td>31</td>\n",
       "      <td>29</td>\n",
       "      <td>28</td>\n",
       "      <td>26</td>\n",
       "      <td>25</td>\n",
       "      <td>85</td>\n",
       "      <td>80</td>\n",
       "      <td>75</td>\n",
       "      <td>30.13</td>\n",
       "      <td>...</td>\n",
       "      <td>10</td>\n",
       "      <td>8</td>\n",
       "      <td>1</td>\n",
       "      <td>10</td>\n",
       "      <td>4</td>\n",
       "      <td>14.0</td>\n",
       "      <td>0.04</td>\n",
       "      <td>8</td>\n",
       "      <td>Snow</td>\n",
       "      <td>119</td>\n",
       "    </tr>\n",
       "    <tr>\n",
       "      <th>2012-12-29</th>\n",
       "      <td>32</td>\n",
       "      <td>28</td>\n",
       "      <td>23</td>\n",
       "      <td>28</td>\n",
       "      <td>25</td>\n",
       "      <td>16</td>\n",
       "      <td>92</td>\n",
       "      <td>80</td>\n",
       "      <td>68</td>\n",
       "      <td>30.29</td>\n",
       "      <td>...</td>\n",
       "      <td>10</td>\n",
       "      <td>3</td>\n",
       "      <td>0</td>\n",
       "      <td>18</td>\n",
       "      <td>9</td>\n",
       "      <td>29.0</td>\n",
       "      <td>0.20</td>\n",
       "      <td>8</td>\n",
       "      <td>Fog-Snow</td>\n",
       "      <td>308</td>\n",
       "    </tr>\n",
       "    <tr>\n",
       "      <th>2012-12-30</th>\n",
       "      <td>31</td>\n",
       "      <td>18</td>\n",
       "      <td>4</td>\n",
       "      <td>21</td>\n",
       "      <td>12</td>\n",
       "      <td>1</td>\n",
       "      <td>92</td>\n",
       "      <td>75</td>\n",
       "      <td>58</td>\n",
       "      <td>30.47</td>\n",
       "      <td>...</td>\n",
       "      <td>10</td>\n",
       "      <td>6</td>\n",
       "      <td>0</td>\n",
       "      <td>15</td>\n",
       "      <td>6</td>\n",
       "      <td>21.0</td>\n",
       "      <td>0.00</td>\n",
       "      <td>1</td>\n",
       "      <td>Fog</td>\n",
       "      <td>220</td>\n",
       "    </tr>\n",
       "    <tr>\n",
       "      <th>2012-12-31</th>\n",
       "      <td>36</td>\n",
       "      <td>31</td>\n",
       "      <td>25</td>\n",
       "      <td>31</td>\n",
       "      <td>28</td>\n",
       "      <td>21</td>\n",
       "      <td>92</td>\n",
       "      <td>78</td>\n",
       "      <td>64</td>\n",
       "      <td>30.28</td>\n",
       "      <td>...</td>\n",
       "      <td>10</td>\n",
       "      <td>4</td>\n",
       "      <td>0</td>\n",
       "      <td>18</td>\n",
       "      <td>7</td>\n",
       "      <td>28.0</td>\n",
       "      <td>0.12</td>\n",
       "      <td>7</td>\n",
       "      <td>Fog-Snow</td>\n",
       "      <td>228</td>\n",
       "    </tr>\n",
       "  </tbody>\n",
       "</table>\n",
       "<p>31 rows × 22 columns</p>\n",
       "</div>"
      ],
      "text/plain": [
       "            max_temp  mean_temp  min_temp  max_dew  mean_dew  min_dew  \\\n",
       "date                                                                    \n",
       "2012-12-01        66         55        44       46        42       39   \n",
       "2012-12-02        63         60        56       59        54       47   \n",
       "2012-12-03        71         66        61       59        56       49   \n",
       "2012-12-04        65         51        37       58        49       37   \n",
       "2012-12-05        51         41        31       35        32       28   \n",
       "2012-12-06        50         40        29       43        34       26   \n",
       "2012-12-07        54         51        47       52        49       44   \n",
       "2012-12-08        52         49        46       52        46       39   \n",
       "2012-12-09        59         52        44       56        51       42   \n",
       "2012-12-10        48         39        29       45        32       25   \n",
       "2012-12-11        37         31        24       25        22       19   \n",
       "2012-12-12        45         33        20       26        22       17   \n",
       "2012-12-13        50         35        20       28        22       18   \n",
       "2012-12-14        54         39        23       29        24       20   \n",
       "2012-12-15        56         48        39       52        41       27   \n",
       "2012-12-16        57         46        34       52        45       34   \n",
       "2012-12-17        46         40        34       45        39       33   \n",
       "2012-12-18        48         42        36       38        34       33   \n",
       "2012-12-19        46         39        32       37        33       28   \n",
       "2012-12-20        57         43        28       50        36       25   \n",
       "2012-12-21        29         26        22       25        19       15   \n",
       "2012-12-22        33         22        10       18        15        7   \n",
       "2012-12-23        48         34        20       29        25       16   \n",
       "2012-12-24        40         36        31       38        31       26   \n",
       "2012-12-25        34         32        30       29        27       23   \n",
       "2012-12-26        33         31        29       29        27       23   \n",
       "2012-12-27        33         31        29       26        24       22   \n",
       "2012-12-28        33         31        29       28        26       25   \n",
       "2012-12-29        32         28        23       28        25       16   \n",
       "2012-12-30        31         18         4       21        12        1   \n",
       "2012-12-31        36         31        25       31        28       21   \n",
       "\n",
       "            max_humidity  mean_humidity  min_humidity  max_pressure    ...     \\\n",
       "date                                                                   ...      \n",
       "2012-12-01            82             65            48         30.21    ...      \n",
       "2012-12-02            97             76            55         30.10    ...      \n",
       "2012-12-03            97             79            60         30.11    ...      \n",
       "2012-12-04            93             75            56         30.24    ...      \n",
       "2012-12-05           100             73            46         30.38    ...      \n",
       "2012-12-06            89             71            52         30.22    ...      \n",
       "2012-12-07           100             93            86         29.96    ...      \n",
       "2012-12-08           100             91            86         30.01    ...      \n",
       "2012-12-09           100             93            86         30.01    ...      \n",
       "2012-12-10            96             87            78         29.99    ...      \n",
       "2012-12-11            85             69            52         30.25    ...      \n",
       "2012-12-12            91             68            45         30.39    ...      \n",
       "2012-12-13            88             60            32         30.42    ...      \n",
       "2012-12-14            81             57            32         30.29    ...      \n",
       "2012-12-15            89             71            53         30.11    ...      \n",
       "2012-12-16           100             86            71         29.74    ...      \n",
       "2012-12-17           100             95            89         29.73    ...      \n",
       "2012-12-18            92             76            60         29.87    ...      \n",
       "2012-12-19            89             77            65         30.05    ...      \n",
       "2012-12-20            92             79            66         29.75    ...      \n",
       "2012-12-21            85             74            63         30.21    ...      \n",
       "2012-12-22            88             68            47         30.30    ...      \n",
       "2012-12-23            85             64            42         30.02    ...      \n",
       "2012-12-24           100             88            75         30.05    ...      \n",
       "2012-12-25            92             79            66         30.21    ...      \n",
       "2012-12-26            92             81            69         30.02    ...      \n",
       "2012-12-27            85             76            66         30.20    ...      \n",
       "2012-12-28            85             80            75         30.13    ...      \n",
       "2012-12-29            92             80            68         30.29    ...      \n",
       "2012-12-30            92             75            58         30.47    ...      \n",
       "2012-12-31            92             78            64         30.28    ...      \n",
       "\n",
       "            max_visibilty  mean_visibility  min_visibility  max_wind  \\\n",
       "date                                                                   \n",
       "2012-12-01             10                9               8        18   \n",
       "2012-12-02             10                8               4        23   \n",
       "2012-12-03             10               10               6        23   \n",
       "2012-12-04             10                8               1        22   \n",
       "2012-12-05             10               10               8         9   \n",
       "2012-12-06             10               10               8        10   \n",
       "2012-12-07              9                2               0        10   \n",
       "2012-12-08             10                6               2        10   \n",
       "2012-12-09             10                5               0        16   \n",
       "2012-12-10             10                8               2        16   \n",
       "2012-12-11             10               10               9        13   \n",
       "2012-12-12             10                9               5         9   \n",
       "2012-12-13             10               10               8        13   \n",
       "2012-12-14             10               10               8        15   \n",
       "2012-12-15             10                9               3        22   \n",
       "2012-12-16             10                8               0        22   \n",
       "2012-12-17             10                2               0        14   \n",
       "2012-12-18             10                7               2        17   \n",
       "2012-12-19             10                8               5        18   \n",
       "2012-12-20             10                5               0        35   \n",
       "2012-12-21             10                5               0        25   \n",
       "2012-12-22             10               10               7        12   \n",
       "2012-12-23             10               10              10        18   \n",
       "2012-12-24             10                5               0        14   \n",
       "2012-12-25             10                6               2        20   \n",
       "2012-12-26             10                3               0        28   \n",
       "2012-12-27             10               10               8         8   \n",
       "2012-12-28             10                8               1        10   \n",
       "2012-12-29             10                3               0        18   \n",
       "2012-12-30             10                6               0        15   \n",
       "2012-12-31             10                4               0        18   \n",
       "\n",
       "            mean_wind  min_wind  precipitation  cloud_cover  \\\n",
       "date                                                          \n",
       "2012-12-01          7      25.0           0.00            7   \n",
       "2012-12-02         11      31.0           0.16            8   \n",
       "2012-12-03         11      29.0           0.03            5   \n",
       "2012-12-04          8      30.0           0.09            7   \n",
       "2012-12-05          4      13.0           0.00            0   \n",
       "2012-12-06          6      13.0           0.00            4   \n",
       "2012-12-07          3      14.0           0.10            8   \n",
       "2012-12-08          4      13.0              T            8   \n",
       "2012-12-09          7      25.0           0.33            8   \n",
       "2012-12-10          9      23.0           0.00            8   \n",
       "2012-12-11          6      18.0           0.00            4   \n",
       "2012-12-12          2      12.0           0.00            0   \n",
       "2012-12-13          4      15.0           0.00            0   \n",
       "2012-12-14          5      20.0           0.00            0   \n",
       "2012-12-15         10      30.0           0.13            7   \n",
       "2012-12-16          8      30.0           0.00            4   \n",
       "2012-12-17          5      17.0           0.18            8   \n",
       "2012-12-18          8      24.0           0.01            6   \n",
       "2012-12-19          8      25.0           0.06            4   \n",
       "2012-12-20         19      54.0           0.44            8   \n",
       "2012-12-21         14      39.0           0.02            7   \n",
       "2012-12-22          4      16.0           0.00            1   \n",
       "2012-12-23          5      24.0           0.00            0   \n",
       "2012-12-24          4      21.0           0.04            7   \n",
       "2012-12-25          9      26.0           0.00            8   \n",
       "2012-12-26         16      38.0           0.48            8   \n",
       "2012-12-27          3      14.0           0.00            8   \n",
       "2012-12-28          4      14.0           0.04            8   \n",
       "2012-12-29          9      29.0           0.20            8   \n",
       "2012-12-30          6      21.0           0.00            1   \n",
       "2012-12-31          7      28.0           0.12            7   \n",
       "\n",
       "                                events  wind_dir  \n",
       "date                                              \n",
       "2012-12-01                         NaN       168  \n",
       "2012-12-02                        Rain       216  \n",
       "2012-12-03                        Rain       203  \n",
       "2012-12-04                        Rain       250  \n",
       "2012-12-05                         NaN        57  \n",
       "2012-12-06                         NaN       146  \n",
       "2012-12-07                    Fog-Rain       139  \n",
       "2012-12-08                        Rain       338  \n",
       "2012-12-09                    Fog-Rain       176  \n",
       "2012-12-10                         NaN       299  \n",
       "2012-12-11                         NaN       259  \n",
       "2012-12-12                         NaN       141  \n",
       "2012-12-13                         NaN       172  \n",
       "2012-12-14                         NaN       192  \n",
       "2012-12-15                        Rain       176  \n",
       "2012-12-16                         Fog       233  \n",
       "2012-12-17                    Fog-Rain       360  \n",
       "2012-12-18                        Rain       245  \n",
       "2012-12-19                        Rain       109  \n",
       "2012-12-20  Fog-Rain-Snow-Thunderstorm       219  \n",
       "2012-12-21                    Fog-Snow       285  \n",
       "2012-12-22                         NaN       226  \n",
       "2012-12-23                         NaN       241  \n",
       "2012-12-24                    Fog-Rain       304  \n",
       "2012-12-25                         NaN        17  \n",
       "2012-12-26                    Fog-Snow        16  \n",
       "2012-12-27                         NaN       301  \n",
       "2012-12-28                        Snow       119  \n",
       "2012-12-29                    Fog-Snow       308  \n",
       "2012-12-30                         Fog       220  \n",
       "2012-12-31                    Fog-Snow       228  \n",
       "\n",
       "[31 rows x 22 columns]"
      ]
     },
     "execution_count": 130,
     "metadata": {},
     "output_type": "execute_result"
    }
   ],
   "source": [
    "# We can now quickly select the data for December 2012\n",
    "data['2012-12']"
   ]
  },
  {
   "cell_type": "code",
   "execution_count": 131,
   "metadata": {
    "collapsed": false
   },
   "outputs": [
    {
     "data": {
      "text/plain": [
       "<matplotlib.axes._subplots.AxesSubplot at 0x1f9a8f8e940>"
      ]
     },
     "execution_count": 131,
     "metadata": {},
     "output_type": "execute_result"
    },
    {
     "data": {
      "image/png": "[encoded data removed]",
      "text/plain": [
       "<matplotlib.figure.Figure at 0x1f9a8f8e748>"
      ]
     },
     "metadata": {},
     "output_type": "display_data"
    }
   ],
   "source": [
    "data[ ['max_temp','mean_temp','min_temp'] ].plot()"
   ]
  },
  {
   "cell_type": "code",
   "execution_count": 132,
   "metadata": {
    "collapsed": false
   },
   "outputs": [],
   "source": [
    "# Plot the temperatures in Celsius not Fahrenheit\n",
    "def FtoC( t ):\n",
    "    return (t - 32) * (5/9)"
   ]
  },
  {
   "cell_type": "code",
   "execution_count": 133,
   "metadata": {
    "collapsed": false
   },
   "outputs": [
    {
     "data": {
      "text/html": [
       "<div>\n",
       "<table border=\"1\" class=\"dataframe\">\n",
       "  <thead>\n",
       "    <tr style=\"text-align: right;\">\n",
       "      <th></th>\n",
       "      <th>max_temp</th>\n",
       "      <th>mean_temp</th>\n",
       "      <th>min_temp</th>\n",
       "    </tr>\n",
       "    <tr>\n",
       "      <th>date</th>\n",
       "      <th></th>\n",
       "      <th></th>\n",
       "      <th></th>\n",
       "    </tr>\n",
       "  </thead>\n",
       "  <tbody>\n",
       "    <tr>\n",
       "      <th>2012-03-10</th>\n",
       "      <td>13.333333</td>\n",
       "      <td>4.444444</td>\n",
       "      <td>-4.444444</td>\n",
       "    </tr>\n",
       "    <tr>\n",
       "      <th>2012-03-11</th>\n",
       "      <td>19.444444</td>\n",
       "      <td>9.444444</td>\n",
       "      <td>-1.111111</td>\n",
       "    </tr>\n",
       "    <tr>\n",
       "      <th>2012-03-12</th>\n",
       "      <td>21.666667</td>\n",
       "      <td>16.666667</td>\n",
       "      <td>11.666667</td>\n",
       "    </tr>\n",
       "    <tr>\n",
       "      <th>2012-03-13</th>\n",
       "      <td>24.444444</td>\n",
       "      <td>17.222222</td>\n",
       "      <td>10.000000</td>\n",
       "    </tr>\n",
       "    <tr>\n",
       "      <th>2012-03-14</th>\n",
       "      <td>26.666667</td>\n",
       "      <td>16.666667</td>\n",
       "      <td>6.666667</td>\n",
       "    </tr>\n",
       "  </tbody>\n",
       "</table>\n",
       "</div>"
      ],
      "text/plain": [
       "             max_temp  mean_temp   min_temp\n",
       "date                                       \n",
       "2012-03-10  13.333333   4.444444  -4.444444\n",
       "2012-03-11  19.444444   9.444444  -1.111111\n",
       "2012-03-12  21.666667  16.666667  11.666667\n",
       "2012-03-13  24.444444  17.222222  10.000000\n",
       "2012-03-14  26.666667  16.666667   6.666667"
      ]
     },
     "execution_count": 133,
     "metadata": {},
     "output_type": "execute_result"
    }
   ],
   "source": [
    "temp_C = data[ ['max_temp', 'mean_temp', 'min_temp'] ].applymap( FtoC )\n",
    "temp_C.head()"
   ]
  },
  {
   "cell_type": "code",
   "execution_count": 134,
   "metadata": {
    "collapsed": false
   },
   "outputs": [
    {
     "data": {
      "text/plain": [
       "<matplotlib.axes._subplots.AxesSubplot at 0x1f9a903bc50>"
      ]
     },
     "execution_count": 134,
     "metadata": {},
     "output_type": "execute_result"
    },
    {
     "data": {
      "image/png": "[encoded data removed]",
      "text/plain": [
       "<matplotlib.figure.Figure at 0x1f9a8f67f60>"
      ]
     },
     "metadata": {},
     "output_type": "display_data"
    }
   ],
   "source": [
    "temp_C.plot()"
   ]
  },
  {
   "cell_type": "code",
   "execution_count": 135,
   "metadata": {
    "collapsed": false
   },
   "outputs": [
    {
     "data": {
      "text/html": [
       "<div>\n",
       "<table border=\"1\" class=\"dataframe\">\n",
       "  <thead>\n",
       "    <tr style=\"text-align: right;\">\n",
       "      <th></th>\n",
       "      <th>max_temp</th>\n",
       "      <th>mean_temp</th>\n",
       "      <th>min_temp</th>\n",
       "    </tr>\n",
       "    <tr>\n",
       "      <th>date</th>\n",
       "      <th></th>\n",
       "      <th></th>\n",
       "      <th></th>\n",
       "    </tr>\n",
       "  </thead>\n",
       "  <tbody>\n",
       "    <tr>\n",
       "      <th>2012-03-01</th>\n",
       "      <td>23.333333</td>\n",
       "      <td>16.540404</td>\n",
       "      <td>9.469697</td>\n",
       "    </tr>\n",
       "    <tr>\n",
       "      <th>2012-04-01</th>\n",
       "      <td>19.592593</td>\n",
       "      <td>12.907407</td>\n",
       "      <td>5.925926</td>\n",
       "    </tr>\n",
       "    <tr>\n",
       "      <th>2012-05-01</th>\n",
       "      <td>27.186380</td>\n",
       "      <td>20.465950</td>\n",
       "      <td>13.476703</td>\n",
       "    </tr>\n",
       "    <tr>\n",
       "      <th>2012-06-01</th>\n",
       "      <td>30.129630</td>\n",
       "      <td>22.518519</td>\n",
       "      <td>14.555556</td>\n",
       "    </tr>\n",
       "    <tr>\n",
       "      <th>2012-07-01</th>\n",
       "      <td>35.000000</td>\n",
       "      <td>27.526882</td>\n",
       "      <td>19.784946</td>\n",
       "    </tr>\n",
       "    <tr>\n",
       "      <th>2012-08-01</th>\n",
       "      <td>30.573477</td>\n",
       "      <td>22.724014</td>\n",
       "      <td>14.623656</td>\n",
       "    </tr>\n",
       "    <tr>\n",
       "      <th>2012-09-01</th>\n",
       "      <td>23.981481</td>\n",
       "      <td>18.037037</td>\n",
       "      <td>11.925926</td>\n",
       "    </tr>\n",
       "    <tr>\n",
       "      <th>2012-10-01</th>\n",
       "      <td>16.953405</td>\n",
       "      <td>11.577061</td>\n",
       "      <td>5.985663</td>\n",
       "    </tr>\n",
       "    <tr>\n",
       "      <th>2012-11-01</th>\n",
       "      <td>11.518519</td>\n",
       "      <td>4.981481</td>\n",
       "      <td>-1.777778</td>\n",
       "    </tr>\n",
       "    <tr>\n",
       "      <th>2012-12-01</th>\n",
       "      <td>8.333333</td>\n",
       "      <td>4.086022</td>\n",
       "      <td>-0.465950</td>\n",
       "    </tr>\n",
       "    <tr>\n",
       "      <th>2013-01-01</th>\n",
       "      <td>5.053763</td>\n",
       "      <td>-0.125448</td>\n",
       "      <td>-5.555556</td>\n",
       "    </tr>\n",
       "    <tr>\n",
       "      <th>2013-02-01</th>\n",
       "      <td>4.900794</td>\n",
       "      <td>0.238095</td>\n",
       "      <td>-4.722222</td>\n",
       "    </tr>\n",
       "    <tr>\n",
       "      <th>2013-03-01</th>\n",
       "      <td>5.333333</td>\n",
       "      <td>1.777778</td>\n",
       "      <td>-1.777778</td>\n",
       "    </tr>\n",
       "  </tbody>\n",
       "</table>\n",
       "</div>"
      ],
      "text/plain": [
       "             max_temp  mean_temp   min_temp\n",
       "date                                       \n",
       "2012-03-01  23.333333  16.540404   9.469697\n",
       "2012-04-01  19.592593  12.907407   5.925926\n",
       "2012-05-01  27.186380  20.465950  13.476703\n",
       "2012-06-01  30.129630  22.518519  14.555556\n",
       "2012-07-01  35.000000  27.526882  19.784946\n",
       "2012-08-01  30.573477  22.724014  14.623656\n",
       "2012-09-01  23.981481  18.037037  11.925926\n",
       "2012-10-01  16.953405  11.577061   5.985663\n",
       "2012-11-01  11.518519   4.981481  -1.777778\n",
       "2012-12-01   8.333333   4.086022  -0.465950\n",
       "2013-01-01   5.053763  -0.125448  -5.555556\n",
       "2013-02-01   4.900794   0.238095  -4.722222\n",
       "2013-03-01   5.333333   1.777778  -1.777778"
      ]
     },
     "execution_count": 135,
     "metadata": {},
     "output_type": "execute_result"
    }
   ],
   "source": [
    "# Let's make the graph clearer by taking the mean values per month.\n",
    "# We can resample the data per month.\n",
    "\n",
    "temp_C.resample('MS').mean()"
   ]
  },
  {
   "cell_type": "code",
   "execution_count": 136,
   "metadata": {
    "collapsed": false
   },
   "outputs": [
    {
     "data": {
      "text/plain": [
       "<matplotlib.axes._subplots.AxesSubplot at 0x1f9a91fdd68>"
      ]
     },
     "execution_count": 136,
     "metadata": {},
     "output_type": "execute_result"
    },
    {
     "data": {
      "image/png": "[encoded data removed]",
      "text/plain": [
       "<matplotlib.figure.Figure at 0x1f9a9219710>"
      ]
     },
     "metadata": {},
     "output_type": "display_data"
    }
   ],
   "source": [
    "# Aggregatez the data per month\n",
    "temp_C.resample('MS').mean().plot()"
   ]
  },
  {
   "cell_type": "code",
   "execution_count": 137,
   "metadata": {
    "collapsed": false
   },
   "outputs": [
    {
     "data": {
      "text/html": [
       "<div>\n",
       "<table border=\"1\" class=\"dataframe\">\n",
       "  <thead>\n",
       "    <tr style=\"text-align: right;\">\n",
       "      <th></th>\n",
       "      <th></th>\n",
       "      <th>max_temp</th>\n",
       "      <th>mean_temp</th>\n",
       "      <th>min_temp</th>\n",
       "    </tr>\n",
       "  </thead>\n",
       "  <tbody>\n",
       "    <tr>\n",
       "      <th rowspan=\"10\" valign=\"top\">2012</th>\n",
       "      <th>3</th>\n",
       "      <td>23.333333</td>\n",
       "      <td>16.540404</td>\n",
       "      <td>9.469697</td>\n",
       "    </tr>\n",
       "    <tr>\n",
       "      <th>4</th>\n",
       "      <td>19.592593</td>\n",
       "      <td>12.907407</td>\n",
       "      <td>5.925926</td>\n",
       "    </tr>\n",
       "    <tr>\n",
       "      <th>5</th>\n",
       "      <td>27.186380</td>\n",
       "      <td>20.465950</td>\n",
       "      <td>13.476703</td>\n",
       "    </tr>\n",
       "    <tr>\n",
       "      <th>6</th>\n",
       "      <td>30.129630</td>\n",
       "      <td>22.518519</td>\n",
       "      <td>14.555556</td>\n",
       "    </tr>\n",
       "    <tr>\n",
       "      <th>7</th>\n",
       "      <td>35.000000</td>\n",
       "      <td>27.526882</td>\n",
       "      <td>19.784946</td>\n",
       "    </tr>\n",
       "    <tr>\n",
       "      <th>8</th>\n",
       "      <td>30.573477</td>\n",
       "      <td>22.724014</td>\n",
       "      <td>14.623656</td>\n",
       "    </tr>\n",
       "    <tr>\n",
       "      <th>9</th>\n",
       "      <td>23.981481</td>\n",
       "      <td>18.037037</td>\n",
       "      <td>11.925926</td>\n",
       "    </tr>\n",
       "    <tr>\n",
       "      <th>10</th>\n",
       "      <td>16.953405</td>\n",
       "      <td>11.577061</td>\n",
       "      <td>5.985663</td>\n",
       "    </tr>\n",
       "    <tr>\n",
       "      <th>11</th>\n",
       "      <td>11.518519</td>\n",
       "      <td>4.981481</td>\n",
       "      <td>-1.777778</td>\n",
       "    </tr>\n",
       "    <tr>\n",
       "      <th>12</th>\n",
       "      <td>8.333333</td>\n",
       "      <td>4.086022</td>\n",
       "      <td>-0.465950</td>\n",
       "    </tr>\n",
       "    <tr>\n",
       "      <th rowspan=\"3\" valign=\"top\">2013</th>\n",
       "      <th>1</th>\n",
       "      <td>5.053763</td>\n",
       "      <td>-0.125448</td>\n",
       "      <td>-5.555556</td>\n",
       "    </tr>\n",
       "    <tr>\n",
       "      <th>2</th>\n",
       "      <td>4.900794</td>\n",
       "      <td>0.238095</td>\n",
       "      <td>-4.722222</td>\n",
       "    </tr>\n",
       "    <tr>\n",
       "      <th>3</th>\n",
       "      <td>5.333333</td>\n",
       "      <td>1.777778</td>\n",
       "      <td>-1.777778</td>\n",
       "    </tr>\n",
       "  </tbody>\n",
       "</table>\n",
       "</div>"
      ],
      "text/plain": [
       "          max_temp  mean_temp   min_temp\n",
       "2012 3   23.333333  16.540404   9.469697\n",
       "     4   19.592593  12.907407   5.925926\n",
       "     5   27.186380  20.465950  13.476703\n",
       "     6   30.129630  22.518519  14.555556\n",
       "     7   35.000000  27.526882  19.784946\n",
       "     8   30.573477  22.724014  14.623656\n",
       "     9   23.981481  18.037037  11.925926\n",
       "     10  16.953405  11.577061   5.985663\n",
       "     11  11.518519   4.981481  -1.777778\n",
       "     12   8.333333   4.086022  -0.465950\n",
       "2013 1    5.053763  -0.125448  -5.555556\n",
       "     2    4.900794   0.238095  -4.722222\n",
       "     3    5.333333   1.777778  -1.777778"
      ]
     },
     "execution_count": 137,
     "metadata": {},
     "output_type": "execute_result"
    }
   ],
   "source": [
    "# Alternative with groupby on year and month\n",
    "\n",
    "temp_C.groupby( [temp_C.index.year, temp_C.index.month] ).mean()\n",
    "\n",
    "# Plotting\n",
    "#temp_C.groupby( [temp_C.index.year, temp_C.index.month] ).mean().plot()"
   ]
  },
  {
   "cell_type": "code",
   "execution_count": null,
   "metadata": {
    "collapsed": true
   },
   "outputs": [],
   "source": []
  },
  {
   "cell_type": "markdown",
   "metadata": {},
   "source": [
    "## Mathplotlib \n",
    "\n",
    "Drawing plots, barchart. Some interaction is possible too.\n",
    "\n",
    "Documentation: \n",
    "  * http://matplotlib.org/\n",
    "  * [Beginners Guide](http://matplotlib.org/users/beginner.html)\n",
    "  * [Examples](http://matplotlib.org/users/screenshots.html)\n",
    "  * [scipy-lectures](http://www.scipy-lectures.org/intro/matplotlib/matplotlib.html)\n",
    " \n",
    " \n",
    "  "
   ]
  },
  {
   "cell_type": "code",
   "execution_count": 138,
   "metadata": {
    "collapsed": true
   },
   "outputs": [],
   "source": [
    "%matplotlib inline\n",
    "\n",
    "import matplotlib.pyplot as plt\n",
    "\n",
    "# Optional, use a nice style of graphs\n",
    "plt.style.use('ggplot')\n"
   ]
  },
  {
   "cell_type": "code",
   "execution_count": 139,
   "metadata": {
    "collapsed": false,
    "scrolled": true
   },
   "outputs": [
    {
     "data": {
      "text/plain": [
       "[<matplotlib.lines.Line2D at 0x1f9a935d438>]"
      ]
     },
     "execution_count": 139,
     "metadata": {},
     "output_type": "execute_result"
    },
    {
     "data": {
      "image/png": "[encoded data removed]",
      "text/plain": [
       "<matplotlib.figure.Figure at 0x1f9a9473358>"
      ]
     },
     "metadata": {},
     "output_type": "display_data"
    }
   ],
   "source": [
    "# plt.plot is the basic command\n",
    "# plt.plot( X-axis, Y-axis, options... )\n",
    "\n",
    "x = np.arange(-10,11)\n",
    "y = x * x\n",
    "\n",
    "plt.plot( x, y )"
   ]
  },
  {
   "cell_type": "code",
   "execution_count": 140,
   "metadata": {
    "collapsed": false
   },
   "outputs": [
    {
     "data": {
      "text/plain": [
       "<matplotlib.text.Text at 0x1f9a93d5c50>"
      ]
     },
     "execution_count": 140,
     "metadata": {},
     "output_type": "execute_result"
    },
    {
     "data": {
      "image/png": "[encoded data removed]",
      "text/plain": [
       "<matplotlib.figure.Figure at 0x1f9a9311ba8>"
      ]
     },
     "metadata": {},
     "output_type": "display_data"
    }
   ],
   "source": [
    "# Plotting multiple graphs in one plot\n",
    "\n",
    "x = np.arange(-3,3,0.0001)\n",
    "\n",
    "ya = np.sin(x-2*np.sin(x))+1\n",
    "\n",
    "yb1 = np.sin(x)\n",
    "yb2 = np.cos(x*x)\n",
    "\n",
    "yc = np.cos(np.abs(x))\n",
    "\n",
    "# Plot multiple graphs\n",
    "plt.plot( x, ya, color='blue', linestyle='-', label='Solid')\n",
    "plt.plot( x, yb1, color='red', linestyle=':', label ='Dotted')\n",
    "plt.plot( x, yb2, color='green', linestyle='-.', label='Dashdot')\n",
    "plt.plot( x, yc, color='grey', linestyle='--', label='Dashed')\n",
    "\n",
    "# Show a legend\n",
    "plt.legend()\n",
    "\n",
    "# Plot labels for X and Y axis\n",
    "plt.xlabel('X-Axis')\n",
    "plt.ylabel('Y-Axis')\n",
    "\n",
    "# Plot a title\n",
    "plt.title(\"Plot with multiple graphs.\")"
   ]
  },
  {
   "cell_type": "code",
   "execution_count": null,
   "metadata": {
    "collapsed": true
   },
   "outputs": [],
   "source": []
  },
  {
   "cell_type": "code",
   "execution_count": null,
   "metadata": {
    "collapsed": true
   },
   "outputs": [],
   "source": []
  }
 ],
 "metadata": {
  "kernelspec": {
   "display_name": "Python 3",
   "language": "python",
   "name": "python3"
  },
  "language_info": {
   "codemirror_mode": {
    "name": "ipython",
    "version": 3
   },
   "file_extension": ".py",
   "mimetype": "text/x-python",
   "name": "python",
   "nbconvert_exporter": "python",
   "pygments_lexer": "ipython3",
   "version": "3.6.0"
  },
  "name": "_merged"
 },
 "nbformat": 4,
 "nbformat_minor": 0
}
