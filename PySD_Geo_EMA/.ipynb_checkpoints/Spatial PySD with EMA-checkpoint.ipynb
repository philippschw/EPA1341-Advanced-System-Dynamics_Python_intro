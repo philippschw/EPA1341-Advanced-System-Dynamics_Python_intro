{
 "cells": [
  {
   "cell_type": "markdown",
   "metadata": {},
   "source": [
    "\n",
    "## Notebook illustrating using PYSD and EMA\n",
    "\n",
    "\n",
    "Exploratory Modeling and Analysis (EMA) is a research methodology that uses computational experiments to analyze complex and uncertain systems [(Bankes, 1993)](http://www.jstor.org/stable/171847?seq=1#page_scan_tab_contents).That is, exploratory modeling aims at offering computational decision support for decision making under deep uncertainty and Robust decision making.\n",
    "\n",
    "The EMA Workbench is available for download at: https://github.com/quaquel/EMAworkbench"
   ]
  },
  {
   "cell_type": "markdown",
   "metadata": {},
   "source": [
    "## Installation\n",
    "pip install ema_workbench\\\n",
    "conda install ipyparallel"
   ]
  },
  {
   "cell_type": "markdown",
   "metadata": {},
   "source": [
    "## Example Simple SIR Model\n",
    "\n",
    "By combining PySD and EMA we can perform rapidly a large number of experiments and by utilizing Latin Hypercube Sampling we are able to sample over the entire uncertainty space. With the EMA Workbench, we are able to conduct advanced analysis of our simulation results.\n"
   ]
  },
  {
   "cell_type": "code",
   "execution_count": 1,
   "metadata": {
    "collapsed": false
   },
   "outputs": [
    {
     "data": {
      "image/png": "[encoded data removed]",
      "text/plain": [
       "<IPython.core.display.Image object>"
      ]
     },
     "execution_count": 1,
     "metadata": {},
     "output_type": "execute_result"
    }
   ],
   "source": [
    "from IPython.display import Image\n",
    "Image(filename='models/SIR_model.png')"
   ]
  },
  {
   "cell_type": "markdown",
   "metadata": {},
   "source": [
    "The table below specifies the ranges for the deeply uncertain factor:\n",
    "\n",
    "\n",
    "| Parameter                      \t| Range                               \t|\n",
    "|--------------------------------\t|-------------------------------------\t|\n",
    "| contact infectivity\t            | 0 - 1                          \t    |"
   ]
  },
  {
   "cell_type": "code",
   "execution_count": 2,
   "metadata": {
    "collapsed": true
   },
   "outputs": [],
   "source": [
    "%matplotlib inline\n",
    "import pysd\n",
    "import pandas as pd\n",
    "import numpy as np\n",
    "import geopandas as gp"
   ]
  },
  {
   "cell_type": "code",
   "execution_count": 3,
   "metadata": {
    "collapsed": true
   },
   "outputs": [],
   "source": [
    "# Load spatial data\n",
    "shapefile = r'preprocessed_data/geo_df_EU.shp'\n",
    "geo_data = gp.GeoDataFrame.from_file(shapefile)\n",
    "\n",
    "# Load SD Model\n",
    "PySD_model = pysd.read_vensim('models/SIR_Simple.mdl')\n",
    "\n",
    "# Define helper function, runner for each region\n",
    "def runner(row, *args):    \n",
    "    sim_time = 1000\n",
    "    params= {'total population':row['population'],\n",
    "             'recovery period': args[0],\n",
    "             'contact infectivity' : row['inf_rate']}\n",
    "    res = PySD_model.run(params=params,\n",
    "                    return_timestamps=np.linspace(0, sim_time, num=sim_time*2+1))\n",
    "    return res['cumulative cases']/row['population']\n",
    "\n",
    "# Run spatial SIR Model\n",
    "def RunSIRModel(recovery_period=3):\n",
    "    res = geo_data.apply(runner, axis=1, args = (recovery_period,))\n",
    "    return [tuple(x) for x in res.to_records(index=False)]"
   ]
  },
  {
   "cell_type": "code",
   "execution_count": 4,
   "metadata": {
    "collapsed": false
   },
   "outputs": [],
   "source": [
    "# geo_data.apply(runner, axis=1, args = (6,))"
   ]
  },
  {
   "cell_type": "code",
   "execution_count": 5,
   "metadata": {
    "collapsed": false
   },
   "outputs": [],
   "source": [
    "test = RunSIRModel(4)"
   ]
  },
  {
   "cell_type": "code",
   "execution_count": 6,
   "metadata": {
    "collapsed": false
   },
   "outputs": [
    {
     "data": {
      "text/plain": [
       "list"
      ]
     },
     "execution_count": 6,
     "metadata": {},
     "output_type": "execute_result"
    }
   ],
   "source": [
    "type(test)"
   ]
  },
  {
   "cell_type": "code",
   "execution_count": 7,
   "metadata": {
    "collapsed": false
   },
   "outputs": [
    {
     "data": {
      "text/plain": [
       "tuple"
      ]
     },
     "execution_count": 7,
     "metadata": {},
     "output_type": "execute_result"
    }
   ],
   "source": [
    "type(test[1])"
   ]
  },
  {
   "cell_type": "code",
   "execution_count": 8,
   "metadata": {
    "collapsed": false
   },
   "outputs": [],
   "source": [
    "#  [ScalarOutcome('cumulative_cases_per_pop_'+str(x)) for x in geo_data.index.tolist()]"
   ]
  },
  {
   "cell_type": "code",
   "execution_count": 10,
   "metadata": {
    "collapsed": true
   },
   "outputs": [],
   "source": [
    "from ema_workbench import (Model, \n",
    "                           IntegerParameter,\n",
    "                           RealParameter, ScalarOutcome, Constant)\n",
    "\n",
    "#instantiate the model\n",
    "model = Model('RunSIRModel', function=RunSIRModel)\n",
    "\n",
    "#specify uncertainties\n",
    "model.uncertainties = [\n",
    "                       IntegerParameter('recovery_period', 1, 7),\n",
    "                      ]\n",
    "\n",
    "#specify outcomes \n",
    "model.outcomes =      [ScalarOutcome('cumulative_cases_per_pop_%02d' % (x))\n",
    "                       for x in geo_data.index.tolist()]\n"
   ]
  },
  {
   "cell_type": "code",
   "execution_count": 11,
   "metadata": {
    "collapsed": false
   },
   "outputs": [
    {
     "name": "stderr",
     "output_type": "stream",
     "text": [
      "[MainProcess/INFO] 12 experiment will be executed\n",
      "[MainProcess/INFO] starting to perform experiments sequentially\n",
      "[MainProcess/INFO] 1 cases completed\n",
      "[MainProcess/INFO] 2 cases completed\n",
      "[MainProcess/INFO] 3 cases completed\n",
      "[MainProcess/INFO] 4 cases completed\n",
      "[MainProcess/INFO] 5 cases completed\n",
      "[MainProcess/INFO] 6 cases completed\n",
      "[MainProcess/INFO] 7 cases completed\n",
      "[MainProcess/INFO] 8 cases completed\n",
      "[MainProcess/INFO] 9 cases completed\n",
      "[MainProcess/INFO] 10 cases completed\n",
      "[MainProcess/INFO] 11 cases completed\n",
      "[MainProcess/INFO] 12 cases completed\n",
      "[MainProcess/INFO] experiments finished\n",
      "[MainProcess/INFO] results saved successfully to D:\\Git_Repositories\\EPA1341-Advanced-System-Dynamics-Python_intro\\PySD_Geo_EMA\\results\\SIR_Simple_EMA_12.tar.gz\n"
     ]
    }
   ],
   "source": [
    "import os\n",
    "\n",
    "from ema_workbench import (perform_experiments, ema_logging, save_results, \n",
    "                           load_results)\n",
    "from ema_workbench.em_framework import samplers, util\n",
    "\n",
    "# turn on logging\n",
    "ema_logging.log_to_stderr(ema_logging.INFO)\n",
    "\n",
    "# perform experiments\n",
    "nr_experiments = 12\n",
    "fn = r'results/SIR_Simple_EMA_{}.tar.gz'.format(nr_experiments)\n",
    "\n",
    "try:\n",
    "    # why regenerate the data?\n",
    "    results = load_results(fn)\n",
    "except IOError:\n",
    "    # generate some random policies by sampling over levers\n",
    "    policies = samplers.sample_levers(model, 4, \n",
    "                                  sampler=samplers.MonteCarloSampler(),\n",
    "                                     name=util.counter)\n",
    "    \n",
    "    results = perform_experiments(model, nr_experiments, \n",
    "                                  policies, parallel=False)\n",
    "    save_results(results, fn)"
   ]
  },
  {
   "cell_type": "markdown",
   "metadata": {},
   "source": [
    "#### Make  simple  plots of returned results"
   ]
  },
  {
   "cell_type": "code",
   "execution_count": 12,
   "metadata": {
    "collapsed": false
   },
   "outputs": [],
   "source": [
    "import matplotlib.pyplot as plt\n",
    "# from ema_workbench.util import load_results\n",
    "# results = load_results(r'results/experiments.tar.gz')\n",
    "experiments, outcomes = results"
   ]
  },
  {
   "cell_type": "code",
   "execution_count": 13,
   "metadata": {
    "collapsed": false
   },
   "outputs": [
    {
     "data": {
      "image/png": "[encoded data removed]",
      "text/plain": [
       "<matplotlib.figure.Figure at 0x183b388ccc0>"
      ]
     },
     "metadata": {},
     "output_type": "display_data"
    }
   ],
   "source": [
    "pd.DataFrame(outcomes['cumulative_cases_per_pop_20']).T.plot(legend=False);"
   ]
  },
  {
   "cell_type": "code",
   "execution_count": 14,
   "metadata": {
    "collapsed": false
   },
   "outputs": [
    {
     "ename": "KeyError",
     "evalue": "'cumulative_cases_per_pop_5'",
     "output_type": "error",
     "traceback": [
      "\u001b[0;31m---------------------------------------------------------------------------\u001b[0m",
      "\u001b[0;31mKeyError\u001b[0m                                  Traceback (most recent call last)",
      "\u001b[0;32m<ipython-input-14-f8c863c2603d>\u001b[0m in \u001b[0;36m<module>\u001b[0;34m()\u001b[0m\n\u001b[0;32m----> 1\u001b[0;31m \u001b[0mpd\u001b[0m\u001b[1;33m.\u001b[0m\u001b[0mDataFrame\u001b[0m\u001b[1;33m(\u001b[0m\u001b[0moutcomes\u001b[0m\u001b[1;33m[\u001b[0m\u001b[1;34m'cumulative_cases_per_pop_5'\u001b[0m\u001b[1;33m]\u001b[0m\u001b[1;33m)\u001b[0m\u001b[1;33m.\u001b[0m\u001b[0mT\u001b[0m\u001b[1;33m.\u001b[0m\u001b[0mplot\u001b[0m\u001b[1;33m(\u001b[0m\u001b[0mlegend\u001b[0m\u001b[1;33m=\u001b[0m\u001b[1;32mFalse\u001b[0m\u001b[1;33m)\u001b[0m\u001b[1;33m;\u001b[0m\u001b[1;33m\u001b[0m\u001b[0m\n\u001b[0m",
      "\u001b[0;31mKeyError\u001b[0m: 'cumulative_cases_per_pop_5'"
     ]
    }
   ],
   "source": [
    "pd.DataFrame(outcomes['cumulative_cases_per_pop_5']).T.plot(legend=False);"
   ]
  },
  {
   "cell_type": "code",
   "execution_count": 15,
   "metadata": {
    "collapsed": false
   },
   "outputs": [],
   "source": [
    "outcomes_end = {k: v[:,-1] for k, v in outcomes.items()}"
   ]
  },
  {
   "cell_type": "code",
   "execution_count": 16,
   "metadata": {
    "collapsed": false
   },
   "outputs": [],
   "source": [
    "df = pd.DataFrame(outcomes_end).describe()"
   ]
  },
  {
   "cell_type": "code",
   "execution_count": 17,
   "metadata": {
    "collapsed": false
   },
   "outputs": [
    {
     "data": {
      "text/html": [
       "<div>\n",
       "<table border=\"1\" class=\"dataframe\">\n",
       "  <thead>\n",
       "    <tr style=\"text-align: right;\">\n",
       "      <th></th>\n",
       "      <th>cumulative_cases_per_pop_00</th>\n",
       "      <th>cumulative_cases_per_pop_01</th>\n",
       "      <th>cumulative_cases_per_pop_02</th>\n",
       "      <th>cumulative_cases_per_pop_03</th>\n",
       "      <th>cumulative_cases_per_pop_04</th>\n",
       "      <th>cumulative_cases_per_pop_05</th>\n",
       "      <th>cumulative_cases_per_pop_06</th>\n",
       "      <th>cumulative_cases_per_pop_07</th>\n",
       "      <th>cumulative_cases_per_pop_08</th>\n",
       "      <th>cumulative_cases_per_pop_09</th>\n",
       "      <th>...</th>\n",
       "      <th>cumulative_cases_per_pop_28</th>\n",
       "      <th>cumulative_cases_per_pop_29</th>\n",
       "      <th>cumulative_cases_per_pop_30</th>\n",
       "      <th>cumulative_cases_per_pop_31</th>\n",
       "      <th>cumulative_cases_per_pop_32</th>\n",
       "      <th>cumulative_cases_per_pop_33</th>\n",
       "      <th>cumulative_cases_per_pop_34</th>\n",
       "      <th>cumulative_cases_per_pop_35</th>\n",
       "      <th>cumulative_cases_per_pop_36</th>\n",
       "      <th>cumulative_cases_per_pop_37</th>\n",
       "    </tr>\n",
       "  </thead>\n",
       "  <tbody>\n",
       "    <tr>\n",
       "      <th>count</th>\n",
       "      <td>1.200000e+01</td>\n",
       "      <td>1.200000e+01</td>\n",
       "      <td>12.000000</td>\n",
       "      <td>1.200000e+01</td>\n",
       "      <td>1.200000e+01</td>\n",
       "      <td>1.200000e+01</td>\n",
       "      <td>1.200000e+01</td>\n",
       "      <td>1.200000e+01</td>\n",
       "      <td>1.200000e+01</td>\n",
       "      <td>1.200000e+01</td>\n",
       "      <td>...</td>\n",
       "      <td>12.000000</td>\n",
       "      <td>1.200000e+01</td>\n",
       "      <td>1.200000e+01</td>\n",
       "      <td>1.200000e+01</td>\n",
       "      <td>1.200000e+01</td>\n",
       "      <td>1.200000e+01</td>\n",
       "      <td>1.200000e+01</td>\n",
       "      <td>1.200000e+01</td>\n",
       "      <td>1.200000e+01</td>\n",
       "      <td>1.200000e+01</td>\n",
       "    </tr>\n",
       "    <tr>\n",
       "      <th>mean</th>\n",
       "      <td>3.719432e-01</td>\n",
       "      <td>1.604439e-01</td>\n",
       "      <td>0.762438</td>\n",
       "      <td>2.940314e-02</td>\n",
       "      <td>1.621386e-01</td>\n",
       "      <td>3.640163e-07</td>\n",
       "      <td>4.862015e-01</td>\n",
       "      <td>2.958492e-01</td>\n",
       "      <td>6.111501e-01</td>\n",
       "      <td>2.287579e-01</td>\n",
       "      <td>...</td>\n",
       "      <td>0.790466</td>\n",
       "      <td>4.585662e-08</td>\n",
       "      <td>2.620991e-01</td>\n",
       "      <td>3.360188e-01</td>\n",
       "      <td>1.593022e-01</td>\n",
       "      <td>2.038704e-01</td>\n",
       "      <td>2.652257e-01</td>\n",
       "      <td>2.352784e-01</td>\n",
       "      <td>7.031191e-08</td>\n",
       "      <td>4.034248e-02</td>\n",
       "    </tr>\n",
       "    <tr>\n",
       "      <th>std</th>\n",
       "      <td>3.585579e-01</td>\n",
       "      <td>2.453949e-01</td>\n",
       "      <td>0.370663</td>\n",
       "      <td>6.866581e-02</td>\n",
       "      <td>2.475334e-01</td>\n",
       "      <td>2.783181e-07</td>\n",
       "      <td>3.912321e-01</td>\n",
       "      <td>3.308629e-01</td>\n",
       "      <td>3.881888e-01</td>\n",
       "      <td>2.814186e-01</td>\n",
       "      <td>...</td>\n",
       "      <td>0.375175</td>\n",
       "      <td>2.413012e-08</td>\n",
       "      <td>3.046873e-01</td>\n",
       "      <td>3.581881e-01</td>\n",
       "      <td>2.439065e-01</td>\n",
       "      <td>2.661417e-01</td>\n",
       "      <td>3.070084e-01</td>\n",
       "      <td>2.857323e-01</td>\n",
       "      <td>3.925812e-08</td>\n",
       "      <td>9.421841e-02</td>\n",
       "    </tr>\n",
       "    <tr>\n",
       "      <th>min</th>\n",
       "      <td>7.621490e-07</td>\n",
       "      <td>2.035129e-07</td>\n",
       "      <td>0.000003</td>\n",
       "      <td>1.558373e-07</td>\n",
       "      <td>3.642011e-07</td>\n",
       "      <td>5.960287e-08</td>\n",
       "      <td>5.115226e-07</td>\n",
       "      <td>2.241406e-07</td>\n",
       "      <td>7.808886e-08</td>\n",
       "      <td>3.490034e-07</td>\n",
       "      <td>...</td>\n",
       "      <td>0.000285</td>\n",
       "      <td>1.258375e-08</td>\n",
       "      <td>5.411012e-08</td>\n",
       "      <td>2.415269e-07</td>\n",
       "      <td>7.492827e-08</td>\n",
       "      <td>2.463395e-07</td>\n",
       "      <td>3.842955e-07</td>\n",
       "      <td>9.716783e-07</td>\n",
       "      <td>1.786990e-08</td>\n",
       "      <td>2.579334e-08</td>\n",
       "    </tr>\n",
       "    <tr>\n",
       "      <th>25%</th>\n",
       "      <td>3.423535e-06</td>\n",
       "      <td>6.113147e-07</td>\n",
       "      <td>0.707611</td>\n",
       "      <td>4.019282e-07</td>\n",
       "      <td>1.097060e-06</td>\n",
       "      <td>1.346982e-07</td>\n",
       "      <td>4.607639e-06</td>\n",
       "      <td>8.267514e-07</td>\n",
       "      <td>2.147180e-01</td>\n",
       "      <td>1.133015e-06</td>\n",
       "      <td>...</td>\n",
       "      <td>0.811513</td>\n",
       "      <td>2.546722e-08</td>\n",
       "      <td>1.854556e-07</td>\n",
       "      <td>1.000629e-06</td>\n",
       "      <td>2.246430e-07</td>\n",
       "      <td>7.741222e-07</td>\n",
       "      <td>1.324892e-06</td>\n",
       "      <td>3.184661e-06</td>\n",
       "      <td>3.693574e-08</td>\n",
       "      <td>6.750003e-08</td>\n",
       "    </tr>\n",
       "    <tr>\n",
       "      <th>50%</th>\n",
       "      <td>3.320866e-01</td>\n",
       "      <td>9.778346e-05</td>\n",
       "      <td>0.940974</td>\n",
       "      <td>1.379363e-06</td>\n",
       "      <td>3.140232e-04</td>\n",
       "      <td>2.981212e-07</td>\n",
       "      <td>5.783420e-01</td>\n",
       "      <td>1.897905e-01</td>\n",
       "      <td>7.770479e-01</td>\n",
       "      <td>9.568873e-02</td>\n",
       "      <td>...</td>\n",
       "      <td>0.968353</td>\n",
       "      <td>4.541924e-08</td>\n",
       "      <td>1.422776e-01</td>\n",
       "      <td>2.524383e-01</td>\n",
       "      <td>2.531300e-05</td>\n",
       "      <td>6.107060e-02</td>\n",
       "      <td>1.466652e-01</td>\n",
       "      <td>1.047800e-01</td>\n",
       "      <td>6.824583e-08</td>\n",
       "      <td>2.494279e-07</td>\n",
       "    </tr>\n",
       "    <tr>\n",
       "      <th>75%</th>\n",
       "      <td>7.311401e-01</td>\n",
       "      <td>3.752041e-01</td>\n",
       "      <td>0.989113</td>\n",
       "      <td>7.654272e-06</td>\n",
       "      <td>3.808755e-01</td>\n",
       "      <td>5.519438e-07</td>\n",
       "      <td>8.474096e-01</td>\n",
       "      <td>6.290442e-01</td>\n",
       "      <td>9.324518e-01</td>\n",
       "      <td>5.029532e-01</td>\n",
       "      <td>...</td>\n",
       "      <td>0.995645</td>\n",
       "      <td>6.602704e-08</td>\n",
       "      <td>5.656901e-01</td>\n",
       "      <td>6.976307e-01</td>\n",
       "      <td>3.712988e-01</td>\n",
       "      <td>4.560821e-01</td>\n",
       "      <td>5.715632e-01</td>\n",
       "      <td>5.152265e-01</td>\n",
       "      <td>1.026435e-07</td>\n",
       "      <td>2.262807e-06</td>\n",
       "    </tr>\n",
       "    <tr>\n",
       "      <th>max</th>\n",
       "      <td>8.363415e-01</td>\n",
       "      <td>5.872631e-01</td>\n",
       "      <td>0.995954</td>\n",
       "      <td>1.764079e-01</td>\n",
       "      <td>5.913269e-01</td>\n",
       "      <td>8.416105e-07</td>\n",
       "      <td>9.131101e-01</td>\n",
       "      <td>7.664689e-01</td>\n",
       "      <td>9.656351e-01</td>\n",
       "      <td>6.782151e-01</td>\n",
       "      <td>...</td>\n",
       "      <td>0.998649</td>\n",
       "      <td>8.022325e-08</td>\n",
       "      <td>7.223491e-01</td>\n",
       "      <td>8.136045e-01</td>\n",
       "      <td>5.844635e-01</td>\n",
       "      <td>6.449984e-01</td>\n",
       "      <td>7.264592e-01</td>\n",
       "      <td>6.868794e-01</td>\n",
       "      <td>1.279307e-07</td>\n",
       "      <td>2.420520e-01</td>\n",
       "    </tr>\n",
       "  </tbody>\n",
       "</table>\n",
       "<p>8 rows × 38 columns</p>\n",
       "</div>"
      ],
      "text/plain": [
       "       cumulative_cases_per_pop_00  cumulative_cases_per_pop_01  \\\n",
       "count                 1.200000e+01                 1.200000e+01   \n",
       "mean                  3.719432e-01                 1.604439e-01   \n",
       "std                   3.585579e-01                 2.453949e-01   \n",
       "min                   7.621490e-07                 2.035129e-07   \n",
       "25%                   3.423535e-06                 6.113147e-07   \n",
       "50%                   3.320866e-01                 9.778346e-05   \n",
       "75%                   7.311401e-01                 3.752041e-01   \n",
       "max                   8.363415e-01                 5.872631e-01   \n",
       "\n",
       "       cumulative_cases_per_pop_02  cumulative_cases_per_pop_03  \\\n",
       "count                    12.000000                 1.200000e+01   \n",
       "mean                      0.762438                 2.940314e-02   \n",
       "std                       0.370663                 6.866581e-02   \n",
       "min                       0.000003                 1.558373e-07   \n",
       "25%                       0.707611                 4.019282e-07   \n",
       "50%                       0.940974                 1.379363e-06   \n",
       "75%                       0.989113                 7.654272e-06   \n",
       "max                       0.995954                 1.764079e-01   \n",
       "\n",
       "       cumulative_cases_per_pop_04  cumulative_cases_per_pop_05  \\\n",
       "count                 1.200000e+01                 1.200000e+01   \n",
       "mean                  1.621386e-01                 3.640163e-07   \n",
       "std                   2.475334e-01                 2.783181e-07   \n",
       "min                   3.642011e-07                 5.960287e-08   \n",
       "25%                   1.097060e-06                 1.346982e-07   \n",
       "50%                   3.140232e-04                 2.981212e-07   \n",
       "75%                   3.808755e-01                 5.519438e-07   \n",
       "max                   5.913269e-01                 8.416105e-07   \n",
       "\n",
       "       cumulative_cases_per_pop_06  cumulative_cases_per_pop_07  \\\n",
       "count                 1.200000e+01                 1.200000e+01   \n",
       "mean                  4.862015e-01                 2.958492e-01   \n",
       "std                   3.912321e-01                 3.308629e-01   \n",
       "min                   5.115226e-07                 2.241406e-07   \n",
       "25%                   4.607639e-06                 8.267514e-07   \n",
       "50%                   5.783420e-01                 1.897905e-01   \n",
       "75%                   8.474096e-01                 6.290442e-01   \n",
       "max                   9.131101e-01                 7.664689e-01   \n",
       "\n",
       "       cumulative_cases_per_pop_08  cumulative_cases_per_pop_09  \\\n",
       "count                 1.200000e+01                 1.200000e+01   \n",
       "mean                  6.111501e-01                 2.287579e-01   \n",
       "std                   3.881888e-01                 2.814186e-01   \n",
       "min                   7.808886e-08                 3.490034e-07   \n",
       "25%                   2.147180e-01                 1.133015e-06   \n",
       "50%                   7.770479e-01                 9.568873e-02   \n",
       "75%                   9.324518e-01                 5.029532e-01   \n",
       "max                   9.656351e-01                 6.782151e-01   \n",
       "\n",
       "                  ...               cumulative_cases_per_pop_28  \\\n",
       "count             ...                                 12.000000   \n",
       "mean              ...                                  0.790466   \n",
       "std               ...                                  0.375175   \n",
       "min               ...                                  0.000285   \n",
       "25%               ...                                  0.811513   \n",
       "50%               ...                                  0.968353   \n",
       "75%               ...                                  0.995645   \n",
       "max               ...                                  0.998649   \n",
       "\n",
       "       cumulative_cases_per_pop_29  cumulative_cases_per_pop_30  \\\n",
       "count                 1.200000e+01                 1.200000e+01   \n",
       "mean                  4.585662e-08                 2.620991e-01   \n",
       "std                   2.413012e-08                 3.046873e-01   \n",
       "min                   1.258375e-08                 5.411012e-08   \n",
       "25%                   2.546722e-08                 1.854556e-07   \n",
       "50%                   4.541924e-08                 1.422776e-01   \n",
       "75%                   6.602704e-08                 5.656901e-01   \n",
       "max                   8.022325e-08                 7.223491e-01   \n",
       "\n",
       "       cumulative_cases_per_pop_31  cumulative_cases_per_pop_32  \\\n",
       "count                 1.200000e+01                 1.200000e+01   \n",
       "mean                  3.360188e-01                 1.593022e-01   \n",
       "std                   3.581881e-01                 2.439065e-01   \n",
       "min                   2.415269e-07                 7.492827e-08   \n",
       "25%                   1.000629e-06                 2.246430e-07   \n",
       "50%                   2.524383e-01                 2.531300e-05   \n",
       "75%                   6.976307e-01                 3.712988e-01   \n",
       "max                   8.136045e-01                 5.844635e-01   \n",
       "\n",
       "       cumulative_cases_per_pop_33  cumulative_cases_per_pop_34  \\\n",
       "count                 1.200000e+01                 1.200000e+01   \n",
       "mean                  2.038704e-01                 2.652257e-01   \n",
       "std                   2.661417e-01                 3.070084e-01   \n",
       "min                   2.463395e-07                 3.842955e-07   \n",
       "25%                   7.741222e-07                 1.324892e-06   \n",
       "50%                   6.107060e-02                 1.466652e-01   \n",
       "75%                   4.560821e-01                 5.715632e-01   \n",
       "max                   6.449984e-01                 7.264592e-01   \n",
       "\n",
       "       cumulative_cases_per_pop_35  cumulative_cases_per_pop_36  \\\n",
       "count                 1.200000e+01                 1.200000e+01   \n",
       "mean                  2.352784e-01                 7.031191e-08   \n",
       "std                   2.857323e-01                 3.925812e-08   \n",
       "min                   9.716783e-07                 1.786990e-08   \n",
       "25%                   3.184661e-06                 3.693574e-08   \n",
       "50%                   1.047800e-01                 6.824583e-08   \n",
       "75%                   5.152265e-01                 1.026435e-07   \n",
       "max                   6.868794e-01                 1.279307e-07   \n",
       "\n",
       "       cumulative_cases_per_pop_37  \n",
       "count                 1.200000e+01  \n",
       "mean                  4.034248e-02  \n",
       "std                   9.421841e-02  \n",
       "min                   2.579334e-08  \n",
       "25%                   6.750003e-08  \n",
       "50%                   2.494279e-07  \n",
       "75%                   2.262807e-06  \n",
       "max                   2.420520e-01  \n",
       "\n",
       "[8 rows x 38 columns]"
      ]
     },
     "execution_count": 17,
     "metadata": {},
     "output_type": "execute_result"
    }
   ],
   "source": [
    "df"
   ]
  },
  {
   "cell_type": "code",
   "execution_count": 18,
   "metadata": {
    "collapsed": false
   },
   "outputs": [],
   "source": [
    "df = df.T\n",
    "df.index = geo_data.index.tolist()"
   ]
  },
  {
   "cell_type": "code",
   "execution_count": 19,
   "metadata": {
    "collapsed": false
   },
   "outputs": [],
   "source": [
    "geo_results = geo_data.join(df)"
   ]
  },
  {
   "cell_type": "code",
   "execution_count": 20,
   "metadata": {
    "collapsed": true
   },
   "outputs": [],
   "source": [
    "#### Draw polygons more efficiently with matplotlib, \n",
    "### Returns dictionary with index as key and matplotlib polygon as value\n",
    "\n",
    "from descartes import PolygonPatch\n",
    "from shapely.geometry import MultiPolygon\n",
    "import numpy as np\n",
    "\n",
    "def matplotlib_polygon_dict(gpdf):\n",
    "    gpdf[\"mpl_polygon\"] = np.nan\n",
    "    gpdf['mpl_polygon'] = gpdf['mpl_polygon'].astype(object)\n",
    "    for self_index, self_row_df in gpdf.iterrows():\n",
    "        m_polygon = self_row_df['geometry']\n",
    "        poly=[]\n",
    "        if m_polygon.geom_type == 'MultiPolygon':\n",
    "            for pol in m_polygon:\n",
    "                poly.append(PolygonPatch(pol))\n",
    "        else:\n",
    "            poly.append(PolygonPatch(m_polygon))\n",
    "        gpdf.set_value(self_index, 'mpl_polygon', poly)\n",
    "    return gpdf['mpl_polygon'].to_dict()"
   ]
  },
  {
   "cell_type": "code",
   "execution_count": 21,
   "metadata": {
    "collapsed": true
   },
   "outputs": [],
   "source": [
    "dict_mapindex_mpl_polygon = matplotlib_polygon_dict(geo_results)"
   ]
  },
  {
   "cell_type": "code",
   "execution_count": 22,
   "metadata": {
    "collapsed": false
   },
   "outputs": [
    {
     "data": {
      "text/html": [
       "<div>\n",
       "<table border=\"1\" class=\"dataframe\">\n",
       "  <thead>\n",
       "    <tr style=\"text-align: right;\">\n",
       "      <th></th>\n",
       "      <th>country</th>\n",
       "      <th>geometry</th>\n",
       "      <th>inf_rate</th>\n",
       "      <th>population</th>\n",
       "      <th>count</th>\n",
       "      <th>mean</th>\n",
       "      <th>std</th>\n",
       "      <th>min</th>\n",
       "      <th>25%</th>\n",
       "      <th>50%</th>\n",
       "      <th>75%</th>\n",
       "      <th>max</th>\n",
       "      <th>mpl_polygon</th>\n",
       "    </tr>\n",
       "  </thead>\n",
       "  <tbody>\n",
       "    <tr>\n",
       "      <th>0</th>\n",
       "      <td>Albania</td>\n",
       "      <td>POLYGON ((20.59024743010491 41.85540416113361,...</td>\n",
       "      <td>0.356814</td>\n",
       "      <td>3639453.0</td>\n",
       "      <td>12.0</td>\n",
       "      <td>0.371943</td>\n",
       "      <td>0.358558</td>\n",
       "      <td>7.621490e-07</td>\n",
       "      <td>3.423535e-06</td>\n",
       "      <td>0.332087</td>\n",
       "      <td>0.731140</td>\n",
       "      <td>0.836341</td>\n",
       "      <td>[Poly((20.5902, 41.8554) ...)]</td>\n",
       "    </tr>\n",
       "    <tr>\n",
       "      <th>1</th>\n",
       "      <td>Austria</td>\n",
       "      <td>POLYGON ((16.97966678230404 48.12349701597631,...</td>\n",
       "      <td>0.250476</td>\n",
       "      <td>8210281.0</td>\n",
       "      <td>12.0</td>\n",
       "      <td>0.160444</td>\n",
       "      <td>0.245395</td>\n",
       "      <td>2.035129e-07</td>\n",
       "      <td>6.113147e-07</td>\n",
       "      <td>0.000098</td>\n",
       "      <td>0.375204</td>\n",
       "      <td>0.587263</td>\n",
       "      <td>[Poly((16.9797, 48.1235) ...)]</td>\n",
       "    </tr>\n",
       "    <tr>\n",
       "      <th>2</th>\n",
       "      <td>Belgium</td>\n",
       "      <td>POLYGON ((3.314971144228537 51.34578095153609,...</td>\n",
       "      <td>0.855631</td>\n",
       "      <td>10414336.0</td>\n",
       "      <td>12.0</td>\n",
       "      <td>0.762438</td>\n",
       "      <td>0.370663</td>\n",
       "      <td>2.845422e-06</td>\n",
       "      <td>7.076106e-01</td>\n",
       "      <td>0.940974</td>\n",
       "      <td>0.989113</td>\n",
       "      <td>0.995954</td>\n",
       "      <td>[Poly((3.31497, 51.3458) ...)]</td>\n",
       "    </tr>\n",
       "    <tr>\n",
       "      <th>3</th>\n",
       "      <td>Bulgaria</td>\n",
       "      <td>POLYGON ((22.65714969248299 44.23492300066128,...</td>\n",
       "      <td>0.183375</td>\n",
       "      <td>7204687.0</td>\n",
       "      <td>12.0</td>\n",
       "      <td>0.029403</td>\n",
       "      <td>0.068666</td>\n",
       "      <td>1.558373e-07</td>\n",
       "      <td>4.019282e-07</td>\n",
       "      <td>0.000001</td>\n",
       "      <td>0.000008</td>\n",
       "      <td>0.176408</td>\n",
       "      <td>[Poly((22.6571, 44.2349) ...)]</td>\n",
       "    </tr>\n",
       "    <tr>\n",
       "      <th>4</th>\n",
       "      <td>Bosnia and Herzegovina</td>\n",
       "      <td>POLYGON ((19.00548628101012 44.86023366960916,...</td>\n",
       "      <td>0.251521</td>\n",
       "      <td>4613414.0</td>\n",
       "      <td>12.0</td>\n",
       "      <td>0.162139</td>\n",
       "      <td>0.247533</td>\n",
       "      <td>3.642011e-07</td>\n",
       "      <td>1.097060e-06</td>\n",
       "      <td>0.000314</td>\n",
       "      <td>0.380875</td>\n",
       "      <td>0.591327</td>\n",
       "      <td>[Poly((19.0055, 44.8602) ...)]</td>\n",
       "    </tr>\n",
       "  </tbody>\n",
       "</table>\n",
       "</div>"
      ],
      "text/plain": [
       "                  country                                           geometry  \\\n",
       "0                 Albania  POLYGON ((20.59024743010491 41.85540416113361,...   \n",
       "1                 Austria  POLYGON ((16.97966678230404 48.12349701597631,...   \n",
       "2                 Belgium  POLYGON ((3.314971144228537 51.34578095153609,...   \n",
       "3                Bulgaria  POLYGON ((22.65714969248299 44.23492300066128,...   \n",
       "4  Bosnia and Herzegovina  POLYGON ((19.00548628101012 44.86023366960916,...   \n",
       "\n",
       "   inf_rate  population  count      mean       std           min  \\\n",
       "0  0.356814   3639453.0   12.0  0.371943  0.358558  7.621490e-07   \n",
       "1  0.250476   8210281.0   12.0  0.160444  0.245395  2.035129e-07   \n",
       "2  0.855631  10414336.0   12.0  0.762438  0.370663  2.845422e-06   \n",
       "3  0.183375   7204687.0   12.0  0.029403  0.068666  1.558373e-07   \n",
       "4  0.251521   4613414.0   12.0  0.162139  0.247533  3.642011e-07   \n",
       "\n",
       "            25%       50%       75%       max                     mpl_polygon  \n",
       "0  3.423535e-06  0.332087  0.731140  0.836341  [Poly((20.5902, 41.8554) ...)]  \n",
       "1  6.113147e-07  0.000098  0.375204  0.587263  [Poly((16.9797, 48.1235) ...)]  \n",
       "2  7.076106e-01  0.940974  0.989113  0.995954  [Poly((3.31497, 51.3458) ...)]  \n",
       "3  4.019282e-07  0.000001  0.000008  0.176408  [Poly((22.6571, 44.2349) ...)]  \n",
       "4  1.097060e-06  0.000314  0.380875  0.591327  [Poly((19.0055, 44.8602) ...)]  "
      ]
     },
     "execution_count": 22,
     "metadata": {},
     "output_type": "execute_result"
    }
   ],
   "source": [
    "geo_results.head()"
   ]
  },
  {
   "cell_type": "code",
   "execution_count": 23,
   "metadata": {
    "collapsed": false
   },
   "outputs": [],
   "source": [
    "import seaborn as sns\n",
    "lst_colors = sns.cubehelix_palette(10, light=1)"
   ]
  },
  {
   "cell_type": "code",
   "execution_count": 24,
   "metadata": {
    "collapsed": false
   },
   "outputs": [
    {
     "name": "stderr",
     "output_type": "stream",
     "text": [
      "C:\\ProgramData\\Anaconda3\\lib\\site-packages\\ipykernel\\__main__.py:12: VisibleDeprecationWarning: using a non-integer number instead of an integer will result in an error in the future\n"
     ]
    },
    {
     "data": {
      "image/png": "[encoded data removed]",
      "text/plain": [
       "<matplotlib.figure.Figure at 0x183b5864d30>"
      ]
     },
     "metadata": {},
     "output_type": "display_data"
    }
   ],
   "source": [
    "from matplotlib.collections import PatchCollection\n",
    "from matplotlib.colors import ListedColormap\n",
    "\n",
    "bins = np.linspace(0,1, 10)\n",
    "sv1 = 'cases_%_pop'\n",
    "fig, ax = plt.subplots() #figsize=(12, 8)\n",
    "for i , patches in dict_mapindex_mpl_polygon.items():\n",
    "    dn = geo_results.loc[i, 'mean']\n",
    "    cc = lst_colors[np.digitize([dn],bins)[0]-1]\n",
    "    if dn > 0.0:\n",
    "#             p = PatchCollection(patches,color=cc,lw=.5,edgecolor='k', hatch=nesteddict2[c_l]*'/')\n",
    "        p = PatchCollection(patches,color=cc,lw=0,edgecolor=cc, hatch=geo_results.loc[i, 'std']*20*'/')\n",
    "    ax.add_collection(p)\n",
    "p.set(array=np.linspace(0, 1, 11), cmap=ListedColormap(lst_colors))\n",
    "fig.colorbar(p, label=\"Cases as % of population \")\n",
    "\n",
    "plt.xlim([-28, 50])\n",
    "plt.ylim([30, 75])\n",
    "plt.xticks([])\n",
    "plt.yticks([])\n",
    "plt.draw()\n",
    "\n",
    "fig = plt.gcf()\n",
    "plt.savefig(r'figs/geo_resultsI.png', dpi=fig.dpi, # dpi value changes how patches behave and are displayed\n",
    "                bbox_inches='tight', transparent=True)   "
   ]
  },
  {
   "cell_type": "code",
   "execution_count": 25,
   "metadata": {
    "collapsed": false
   },
   "outputs": [
    {
     "data": {
      "text/plain": [
       "geometry       (POLYGON ((-52.55642473001839 2.50470530843705...\n",
       "inf_rate                                                0.274377\n",
       "population                                           6.40578e+07\n",
       "count                                                         12\n",
       "mean                                                    0.222008\n",
       "std                                                     0.277082\n",
       "min                                                  2.95144e-08\n",
       "25%                                                  9.49208e-08\n",
       "50%                                                    0.0862908\n",
       "75%                                                     0.490242\n",
       "max                                                     0.669226\n",
       "mpl_polygon    [Poly((-52.5564, 2.50471) ...), Poly((9.56002,...\n",
       "Name: France, dtype: object"
      ]
     },
     "execution_count": 25,
     "metadata": {},
     "output_type": "execute_result"
    }
   ],
   "source": [
    "geo_results.set_index('country').loc['France']"
   ]
  },
  {
   "cell_type": "code",
   "execution_count": 26,
   "metadata": {
    "collapsed": false
   },
   "outputs": [
    {
     "data": {
      "text/plain": [
       "geometry       POLYGON ((9.921906365609232 54.98310415304803,...\n",
       "inf_rate                                                0.562518\n",
       "population                                           8.23298e+07\n",
       "count                                                         12\n",
       "mean                                                     0.61115\n",
       "std                                                     0.388189\n",
       "min                                                  7.80889e-08\n",
       "25%                                                     0.214718\n",
       "50%                                                     0.777048\n",
       "75%                                                     0.932452\n",
       "max                                                     0.965635\n",
       "mpl_polygon                       [Poly((9.92191, 54.9831) ...)]\n",
       "Name: Germany, dtype: object"
      ]
     },
     "execution_count": 26,
     "metadata": {},
     "output_type": "execute_result"
    }
   ],
   "source": [
    "geo_results.set_index('country').loc['Germany']"
   ]
  },
  {
   "cell_type": "code",
   "execution_count": 27,
   "metadata": {
    "collapsed": false
   },
   "outputs": [
    {
     "name": "stderr",
     "output_type": "stream",
     "text": [
      "C:\\ProgramData\\Anaconda3\\lib\\site-packages\\ipykernel\\__main__.py:12: VisibleDeprecationWarning: using a non-integer number instead of an integer will result in an error in the future\n"
     ]
    },
    {
     "data": {
      "image/png": "[encoded data removed]",
      "text/plain": [
       "<matplotlib.figure.Figure at 0x183b58500b8>"
      ]
     },
     "metadata": {},
     "output_type": "display_data"
    }
   ],
   "source": [
    "from matplotlib.collections import PatchCollection\n",
    "from matplotlib.colors import ListedColormap\n",
    "\n",
    "bins = np.linspace(0,1, 10)\n",
    "sv1 = 'cases_%_pop'\n",
    "fig, ax = plt.subplots() #figsize=(12, 8)\n",
    "for i , patches in dict_mapindex_mpl_polygon.items():\n",
    "    dn = geo_results.loc[i, 'max']\n",
    "    cc = lst_colors[np.digitize([dn],bins)[0]-1]\n",
    "    if dn > 0.0:\n",
    "#             p = PatchCollection(patches,color=cc,lw=.5,edgecolor='k', hatch=nesteddict2[c_l]*'/')\n",
    "        p = PatchCollection(patches,color=cc,lw=0,edgecolor=cc, hatch=geo_results.loc[i, 'std']*20*'/')\n",
    "    ax.add_collection(p)\n",
    "p.set(array=np.linspace(0, 1, 11), cmap=ListedColormap(lst_colors))\n",
    "fig.colorbar(p, label=\"Cases as % of population \")\n",
    "\n",
    "plt.xlim([-28, 50])\n",
    "plt.ylim([30, 75])\n",
    "plt.xticks([])\n",
    "plt.yticks([])\n",
    "plt.draw()\n",
    "\n",
    "fig = plt.gcf()\n",
    "plt.savefig(r'figs/geo_resultsII.png', dpi=fig.dpi, # dpi value changes how patches behave and are displayed\n",
    "                bbox_inches='tight', transparent=True)   "
   ]
  },
  {
   "cell_type": "code",
   "execution_count": 28,
   "metadata": {
    "collapsed": false
   },
   "outputs": [
    {
     "name": "stderr",
     "output_type": "stream",
     "text": [
      "C:\\ProgramData\\Anaconda3\\lib\\site-packages\\ipykernel\\__main__.py:12: VisibleDeprecationWarning: using a non-integer number instead of an integer will result in an error in the future\n"
     ]
    },
    {
     "data": {
      "image/png": "[encoded data removed]",
      "text/plain": [
       "<matplotlib.figure.Figure at 0x183b5c56860>"
      ]
     },
     "metadata": {},
     "output_type": "display_data"
    }
   ],
   "source": [
    "from matplotlib.collections import PatchCollection\n",
    "from matplotlib.colors import ListedColormap\n",
    "\n",
    "bins = np.linspace(0,1, 10)\n",
    "sv1 = 'cases_%_pop'\n",
    "fig, ax = plt.subplots() #figsize=(12, 8)\n",
    "for i , patches in dict_mapindex_mpl_polygon.items():\n",
    "    dn = geo_results.loc[i, 'min']\n",
    "    cc = lst_colors[np.digitize([dn],bins)[0]-1]\n",
    "    if dn > 0.0:\n",
    "#             p = PatchCollection(patches,color=cc,lw=.5,edgecolor='k', hatch=nesteddict2[c_l]*'/')\n",
    "        p = PatchCollection(patches,color=cc,lw=0,edgecolor=cc, hatch=geo_results.loc[i, 'std']*20*'/')\n",
    "    ax.add_collection(p)\n",
    "p.set(array=np.linspace(0, 1, 11), cmap=ListedColormap(lst_colors))\n",
    "fig.colorbar(p, label=\"Cases as % of population \")\n",
    "\n",
    "plt.xlim([-28, 50])\n",
    "plt.ylim([30, 75])\n",
    "plt.xticks([])\n",
    "plt.yticks([])\n",
    "plt.draw()\n",
    "\n",
    "fig = plt.gcf()\n",
    "plt.savefig(r'figs/geo_resultsII.png', dpi=fig.dpi, # dpi value changes how patches behave and are displayed\n",
    "                bbox_inches='tight', transparent=True)   "
   ]
  },
  {
   "cell_type": "code",
   "execution_count": null,
   "metadata": {
    "collapsed": true
   },
   "outputs": [],
   "source": []
  },
  {
   "cell_type": "code",
   "execution_count": null,
   "metadata": {
    "collapsed": true
   },
   "outputs": [],
   "source": []
  }
 ],
 "metadata": {
  "kernelspec": {
   "display_name": "Python 3",
   "language": "python",
   "name": "python3"
  },
  "language_info": {
   "codemirror_mode": {
    "name": "ipython",
    "version": 3
   },
   "file_extension": ".py",
   "mimetype": "text/x-python",
   "name": "python",
   "nbconvert_exporter": "python",
   "pygments_lexer": "ipython3",
   "version": "3.6.0"
  }
 },
 "nbformat": 4,
 "nbformat_minor": 0
}
