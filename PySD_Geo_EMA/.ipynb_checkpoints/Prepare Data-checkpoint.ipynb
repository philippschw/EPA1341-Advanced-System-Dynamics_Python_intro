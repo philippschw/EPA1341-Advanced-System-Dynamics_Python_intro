{
 "cells": [
  {
   "cell_type": "markdown",
   "metadata": {},
   "source": [
    "# Prepare georeferenced data for artificial disease outbreak in Europe\n",
    "\n",
    "In this notebook geospatial data from a shapefile is loaded, relevant attributes extracte and \n"
   ]
  },
  {
   "cell_type": "code",
   "execution_count": 1,
   "metadata": {
    "collapsed": true
   },
   "outputs": [],
   "source": [
    "% matplotlib inline\n",
    "import geopandas as gp\n",
    "import pandas as pd"
   ]
  },
  {
   "cell_type": "markdown",
   "metadata": {},
   "source": [
    "The geospatial vector dataset shapefile was downloaded from open access  NaturalEarthData, which provides free vector and raster map data. \n",
    "\n",
    "Download:\n",
    "http://www.naturalearthdata.com/http//www.naturalearthdata.com/download/110m/cultural/ne_110m_admin_0_countries.zip"
   ]
  },
  {
   "cell_type": "code",
   "execution_count": 2,
   "metadata": {
    "collapsed": false
   },
   "outputs": [],
   "source": [
    "import zipfile\n",
    "import requests\n",
    "\n",
    "url = 'http://www.naturalearthdata.com/http//www.naturalearthdata.com/download/110m/cultural/ne_110m_admin_0_countries.zip'\n",
    "r = requests.get(url)\n",
    "with open(r\"raw_data/ne_110m_admin_0_countries.zip\", \"wb\") as code:\n",
    "    code.write(r.content)\n",
    "\n",
    "with zipfile.ZipFile(r\"raw_data/ne_110m_admin_0_countries.zip\",\"r\") as zip_ref:\n",
    "    zip_ref.extractall(\"raw_data\")\n",
    "\n",
    "geo_df = gp.GeoDataFrame.from_file(r\"raw_data/ne_110m_admin_0_countries.shp\")"
   ]
  },
  {
   "cell_type": "code",
   "execution_count": 3,
   "metadata": {
    "collapsed": false
   },
   "outputs": [],
   "source": [
    "# If already before downloaded can also load local file\n",
    "# shp = 'raw_data/ne_110m_admin_0_countries.shp'\n",
    "# geo_df = gp.GeoDataFrame.from_file(shp)\n",
    "# geo_df.head(1)"
   ]
  },
  {
   "cell_type": "markdown",
   "metadata": {},
   "source": [
    "##### Attributes in shapefile"
   ]
  },
  {
   "cell_type": "code",
   "execution_count": 4,
   "metadata": {
    "collapsed": false
   },
   "outputs": [
    {
     "data": {
      "text/plain": [
       "Index(['abbrev', 'abbrev_len', 'adm0_a3', 'adm0_a3_is', 'adm0_a3_un',\n",
       "       'adm0_a3_us', 'adm0_a3_wb', 'adm0_dif', 'admin', 'brk_a3', 'brk_diff',\n",
       "       'brk_group', 'brk_name', 'continent', 'economy', 'featurecla',\n",
       "       'fips_10', 'formal_en', 'formal_fr', 'gdp_md_est', 'gdp_year',\n",
       "       'geometry', 'geou_dif', 'geounit', 'gu_a3', 'homepart', 'income_grp',\n",
       "       'iso_a2', 'iso_a3', 'iso_n3', 'labelrank', 'lastcensus', 'level',\n",
       "       'long_len', 'mapcolor13', 'mapcolor7', 'mapcolor8', 'mapcolor9', 'name',\n",
       "       'name_alt', 'name_len', 'name_long', 'name_sort', 'note_adm0',\n",
       "       'note_brk', 'pop_est', 'pop_year', 'postal', 'region_un', 'region_wb',\n",
       "       'scalerank', 'sov_a3', 'sovereignt', 'su_a3', 'su_dif', 'subregion',\n",
       "       'subunit', 'tiny', 'type', 'un_a3', 'wb_a2', 'wb_a3', 'wikipedia',\n",
       "       'woe_id'],\n",
       "      dtype='object')"
      ]
     },
     "execution_count": 4,
     "metadata": {},
     "output_type": "execute_result"
    }
   ],
   "source": [
    "geo_df.columns"
   ]
  },
  {
   "cell_type": "markdown",
   "metadata": {},
   "source": [
    "##### Take only European countries and exclude Russia"
   ]
  },
  {
   "cell_type": "code",
   "execution_count": 5,
   "metadata": {
    "collapsed": false
   },
   "outputs": [
    {
     "name": "stderr",
     "output_type": "stream",
     "text": [
      "C:\\ProgramData\\Anaconda3\\lib\\site-packages\\ipykernel\\__main__.py:4: SettingWithCopyWarning: \n",
      "A value is trying to be set on a copy of a slice from a DataFrame\n",
      "\n",
      "See the caveats in the documentation: http://pandas.pydata.org/pandas-docs/stable/indexing.html#indexing-view-versus-copy\n"
     ]
    }
   ],
   "source": [
    "geo_df_EU = geo_df[geo_df[\"region_un\"] == \"Europe\"]\n",
    "\n",
    "geo_df_EU.set_index(\"admin\", inplace=True)\n",
    "geo_df_EU.drop('Russia', axis=0, inplace=True)\n",
    "geo_df_EU.reset_index(inplace=True)"
   ]
  },
  {
   "cell_type": "markdown",
   "metadata": {},
   "source": [
    "#### Retrieve relevant data"
   ]
  },
  {
   "cell_type": "code",
   "execution_count": 6,
   "metadata": {
    "collapsed": false
   },
   "outputs": [
    {
     "data": {
      "text/html": [
       "<div>\n",
       "<table border=\"1\" class=\"dataframe\">\n",
       "  <thead>\n",
       "    <tr style=\"text-align: right;\">\n",
       "      <th></th>\n",
       "      <th>geometry</th>\n",
       "      <th>pop_est</th>\n",
       "      <th>admin</th>\n",
       "    </tr>\n",
       "  </thead>\n",
       "  <tbody>\n",
       "    <tr>\n",
       "      <th>0</th>\n",
       "      <td>POLYGON ((20.59024743010491 41.85540416113361,...</td>\n",
       "      <td>3639453.0</td>\n",
       "      <td>Albania</td>\n",
       "    </tr>\n",
       "    <tr>\n",
       "      <th>1</th>\n",
       "      <td>POLYGON ((16.97966678230404 48.12349701597631,...</td>\n",
       "      <td>8210281.0</td>\n",
       "      <td>Austria</td>\n",
       "    </tr>\n",
       "    <tr>\n",
       "      <th>2</th>\n",
       "      <td>POLYGON ((3.314971144228537 51.34578095153609,...</td>\n",
       "      <td>10414336.0</td>\n",
       "      <td>Belgium</td>\n",
       "    </tr>\n",
       "    <tr>\n",
       "      <th>3</th>\n",
       "      <td>POLYGON ((22.65714969248299 44.23492300066128,...</td>\n",
       "      <td>7204687.0</td>\n",
       "      <td>Bulgaria</td>\n",
       "    </tr>\n",
       "    <tr>\n",
       "      <th>4</th>\n",
       "      <td>POLYGON ((19.00548628101012 44.86023366960916,...</td>\n",
       "      <td>4613414.0</td>\n",
       "      <td>Bosnia and Herzegovina</td>\n",
       "    </tr>\n",
       "  </tbody>\n",
       "</table>\n",
       "</div>"
      ],
      "text/plain": [
       "                                            geometry     pop_est  \\\n",
       "0  POLYGON ((20.59024743010491 41.85540416113361,...   3639453.0   \n",
       "1  POLYGON ((16.97966678230404 48.12349701597631,...   8210281.0   \n",
       "2  POLYGON ((3.314971144228537 51.34578095153609,...  10414336.0   \n",
       "3  POLYGON ((22.65714969248299 44.23492300066128,...   7204687.0   \n",
       "4  POLYGON ((19.00548628101012 44.86023366960916,...   4613414.0   \n",
       "\n",
       "                    admin  \n",
       "0                 Albania  \n",
       "1                 Austria  \n",
       "2                 Belgium  \n",
       "3                Bulgaria  \n",
       "4  Bosnia and Herzegovina  "
      ]
     },
     "execution_count": 6,
     "metadata": {},
     "output_type": "execute_result"
    }
   ],
   "source": [
    "geo_df_EU = geo_df_EU[['geometry', 'pop_est', 'admin']]\n",
    "geo_df_EU.head()"
   ]
  },
  {
   "cell_type": "markdown",
   "metadata": {},
   "source": [
    "Compute population density based on Population density the number of people per unit of area,"
   ]
  },
  {
   "cell_type": "code",
   "execution_count": 7,
   "metadata": {
    "collapsed": false
   },
   "outputs": [],
   "source": [
    "geo_df_EU['pop_density'] = geo_df_EU['pop_est']/(geo_df_EU['geometry'].area)"
   ]
  },
  {
   "cell_type": "markdown",
   "metadata": {},
   "source": [
    "Normalization of pop density into a contact rate between 0 and 1 "
   ]
  },
  {
   "cell_type": "code",
   "execution_count": 8,
   "metadata": {
    "collapsed": false
   },
   "outputs": [],
   "source": [
    "from sklearn import preprocessing\n",
    "min_max_scaler = preprocessing.MinMaxScaler(feature_range=(0, 1))\n",
    "x_scaled = min_max_scaler.fit_transform(geo_df_EU['pop_density'].values.reshape(-1,1))\n",
    "geo_df_EU['inf_rate'] = pd.Series(x_scaled.flatten())"
   ]
  },
  {
   "cell_type": "code",
   "execution_count": 9,
   "metadata": {
    "collapsed": false
   },
   "outputs": [
    {
     "data": {
      "text/plain": [
       "array([ 0.35681448,  0.2504758 ,  0.85563095,  0.18337466,  0.25152063,\n",
       "        0.10315193,  0.43756131,  0.31402567,  0.56251783,  0.27742502,\n",
       "        0.23599314,  0.05481469,  0.02132727,  0.27437667,  0.57125501,\n",
       "        0.24247183,  0.21148539,  0.28072468,  0.16447573,  0.        ,\n",
       "        0.52551269,  0.45893591,  0.11996215,  0.5113408 ,  0.07040525,\n",
       "        0.35151614,  0.23684711,  0.13905102,  1.        ,  0.01163219,\n",
       "        0.29401619,  0.340913  ,  0.24976327,  0.26662809,  0.29571756,\n",
       "        0.28046046,  0.03136349,  0.19077693])"
      ]
     },
     "execution_count": 9,
     "metadata": {},
     "output_type": "execute_result"
    }
   ],
   "source": [
    "x_scaled.flatten()"
   ]
  },
  {
   "cell_type": "code",
   "execution_count": 10,
   "metadata": {
    "collapsed": false
   },
   "outputs": [
    {
     "data": {
      "text/html": [
       "<div>\n",
       "<table border=\"1\" class=\"dataframe\">\n",
       "  <thead>\n",
       "    <tr style=\"text-align: right;\">\n",
       "      <th></th>\n",
       "      <th>geometry</th>\n",
       "      <th>pop_est</th>\n",
       "      <th>admin</th>\n",
       "      <th>pop_density</th>\n",
       "      <th>inf_rate</th>\n",
       "    </tr>\n",
       "  </thead>\n",
       "  <tbody>\n",
       "    <tr>\n",
       "      <th>0</th>\n",
       "      <td>POLYGON ((20.59024743010491 41.85540416113361,...</td>\n",
       "      <td>3639453.0</td>\n",
       "      <td>Albania</td>\n",
       "      <td>1.142627e+06</td>\n",
       "      <td>0.356814</td>\n",
       "    </tr>\n",
       "    <tr>\n",
       "      <th>1</th>\n",
       "      <td>POLYGON ((16.97966678230404 48.12349701597631,...</td>\n",
       "      <td>8210281.0</td>\n",
       "      <td>Austria</td>\n",
       "      <td>8.065423e+05</td>\n",
       "      <td>0.250476</td>\n",
       "    </tr>\n",
       "    <tr>\n",
       "      <th>2</th>\n",
       "      <td>POLYGON ((3.314971144228537 51.34578095153609,...</td>\n",
       "      <td>10414336.0</td>\n",
       "      <td>Belgium</td>\n",
       "      <td>2.719143e+06</td>\n",
       "      <td>0.855631</td>\n",
       "    </tr>\n",
       "    <tr>\n",
       "      <th>3</th>\n",
       "      <td>POLYGON ((22.65714969248299 44.23492300066128,...</td>\n",
       "      <td>7204687.0</td>\n",
       "      <td>Bulgaria</td>\n",
       "      <td>5.944683e+05</td>\n",
       "      <td>0.183375</td>\n",
       "    </tr>\n",
       "    <tr>\n",
       "      <th>4</th>\n",
       "      <td>POLYGON ((19.00548628101012 44.86023366960916,...</td>\n",
       "      <td>4613414.0</td>\n",
       "      <td>Bosnia and Herzegovina</td>\n",
       "      <td>8.098445e+05</td>\n",
       "      <td>0.251521</td>\n",
       "    </tr>\n",
       "  </tbody>\n",
       "</table>\n",
       "</div>"
      ],
      "text/plain": [
       "                                            geometry     pop_est  \\\n",
       "0  POLYGON ((20.59024743010491 41.85540416113361,...   3639453.0   \n",
       "1  POLYGON ((16.97966678230404 48.12349701597631,...   8210281.0   \n",
       "2  POLYGON ((3.314971144228537 51.34578095153609,...  10414336.0   \n",
       "3  POLYGON ((22.65714969248299 44.23492300066128,...   7204687.0   \n",
       "4  POLYGON ((19.00548628101012 44.86023366960916,...   4613414.0   \n",
       "\n",
       "                    admin   pop_density  inf_rate  \n",
       "0                 Albania  1.142627e+06  0.356814  \n",
       "1                 Austria  8.065423e+05  0.250476  \n",
       "2                 Belgium  2.719143e+06  0.855631  \n",
       "3                Bulgaria  5.944683e+05  0.183375  \n",
       "4  Bosnia and Herzegovina  8.098445e+05  0.251521  "
      ]
     },
     "execution_count": 10,
     "metadata": {},
     "output_type": "execute_result"
    }
   ],
   "source": [
    "geo_df_EU.head()"
   ]
  },
  {
   "cell_type": "code",
   "execution_count": 22,
   "metadata": {
    "collapsed": false
   },
   "outputs": [
    {
     "data": {
      "image/png": "[encoded data removed]",
      "text/plain": [
       "<matplotlib.figure.Figure at 0x2b8d114f5c0>"
      ]
     },
     "metadata": {},
     "output_type": "display_data"
    }
   ],
   "source": [
    "geo_df_EU.plot();"
   ]
  },
  {
   "cell_type": "code",
   "execution_count": 23,
   "metadata": {
    "collapsed": false
   },
   "outputs": [
    {
     "data": {
      "text/plain": [
       "<matplotlib.axes._subplots.AxesSubplot at 0x2b8d1363e80>"
      ]
     },
     "execution_count": 23,
     "metadata": {},
     "output_type": "execute_result"
    },
    {
     "data": {
      "image/png": "[encoded data removed]",
      "text/plain": [
       "<matplotlib.figure.Figure at 0x2b8d13631d0>"
      ]
     },
     "metadata": {},
     "output_type": "display_data"
    }
   ],
   "source": [
    "geo_df_EU.plot(column = 'inf_rate');"
   ]
  },
  {
   "cell_type": "markdown",
   "metadata": {},
   "source": [
    "Give columns easy understandable names and remove unncessary columns"
   ]
  },
  {
   "cell_type": "code",
   "execution_count": 12,
   "metadata": {
    "collapsed": false
   },
   "outputs": [],
   "source": [
    "geo_df_EU.rename(columns={'admin': 'country', 'pop_est': 'population'},inplace=True )\n",
    "geo_df_EU.drop(['pop_density' ], axis=1, inplace=True)"
   ]
  },
  {
   "cell_type": "markdown",
   "metadata": {},
   "source": [
    "Save results into new shapefle"
   ]
  },
  {
   "cell_type": "code",
   "execution_count": 13,
   "metadata": {
    "collapsed": true
   },
   "outputs": [],
   "source": [
    "geo_df_EU.to_file('preprocessed_data/geo_df_EU.shp', driver=\"ESRI Shapefile\")"
   ]
  },
  {
   "cell_type": "code",
   "execution_count": null,
   "metadata": {
    "collapsed": true
   },
   "outputs": [],
   "source": []
  }
 ],
 "metadata": {
  "kernelspec": {
   "display_name": "Python 3",
   "language": "python",
   "name": "python3"
  },
  "language_info": {
   "codemirror_mode": {
    "name": "ipython",
    "version": 3
   },
   "file_extension": ".py",
   "mimetype": "text/x-python",
   "name": "python",
   "nbconvert_exporter": "python",
   "pygments_lexer": "ipython3",
   "version": "3.6.0"
  }
 },
 "nbformat": 4,
 "nbformat_minor": 0
}
